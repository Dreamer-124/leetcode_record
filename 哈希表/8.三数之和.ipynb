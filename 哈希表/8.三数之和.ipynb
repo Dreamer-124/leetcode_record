{
 "cells": [
  {
   "cell_type": "markdown",
   "id": "c8fceeda-4dc6-4093-8ff5-3c831a2a3a25",
   "metadata": {},
   "source": [
    "# 三数之和\n",
    "\n",
    "## [题目](https://leetcode.cn/problems/3sum/description/)\n",
    "- 给你一个包含 n 个整数的数组 nums，判断 nums 中是否存在三个元素 a，b，c ，使得 a + b + c = 0 ？请你找出所有满足条件且不重复的三元组。\n",
    "\n",
    "- 注意：\n",
    "    - 答案中不可以包含重复的三元组。\n",
    "\n",
    "- 示例：\n",
    "```Bash\n",
    "给定数组 nums = [-1, 0, 1, 2, -1, -4]，\n",
    "满足要求的三元组集合为： [ [-1, 0, 1], [-1, -1, 2] ]\n",
    "```"
   ]
  },
  {
   "cell_type": "markdown",
   "id": "4272b98a-7a6f-4265-9616-7f9d9024352e",
   "metadata": {},
   "source": [
    "## 代码示例\n",
    "- 双指针法求解\n",
    "    - 重点在于如何去重以及双指针的定义与移动\n",
    "    - 时间复杂度：$O(n^2)$\n",
    "    - 空间复杂度；$O(1)$"
   ]
  },
  {
   "cell_type": "code",
   "execution_count": null,
   "id": "492d7c92-5d6d-459a-b647-a84189ca3c81",
   "metadata": {},
   "outputs": [],
   "source": [
    "class Solution {\n",
    "public:\n",
    "    vector<vector<int>> threeSum(vector<int>& nums) {\n",
    "        // 初始化结果 vector 并进行排序\n",
    "        vector<vector<int>> result;\n",
    "        sort(nums.begin(), nums.end());\n",
    "        // 找出a + b + c = 0\n",
    "        // a = nums[i], b = nums[left], c = nums[right]\n",
    "        for (int i = 0; i < nums.size(); i++) {\n",
    "            // 排序之后如果第一个元素已经大于零，那么无论如何组合都不可能凑成三元组，直接返回结果就可以了\n",
    "            if (nums[i] > 0) {\n",
    "                return result;\n",
    "            }\n",
    "            // 错误去重a方法，将会漏掉-1,-1,2 这种情况\n",
    "            /*\n",
    "            if (nums[i] == nums[i + 1]) {\n",
    "                continue;\n",
    "            }\n",
    "            */\n",
    "            // 正确去重a方法\n",
    "            if (i > 0 && nums[i] == nums[i - 1]) {\n",
    "                continue;\n",
    "            }\n",
    "            int left = i + 1;\n",
    "            int right = nums.size() - 1;\n",
    "            while (right > left) {\n",
    "                // 去重复逻辑如果放在这里，0，0，0 的情况，可能直接导致 right<=left 了，从而漏掉了 0,0,0 这种三元组\n",
    "                /*\n",
    "                while (right > left && nums[right] == nums[right - 1]) right--;\n",
    "                while (right > left && nums[left] == nums[left + 1]) left++;\n",
    "                */\n",
    "                if (nums[i] + nums[left] + nums[right] > 0) right--;\n",
    "                else if (nums[i] + nums[left] + nums[right] < 0) left++;\n",
    "                else {\n",
    "                    result.push_back(vector<int>{nums[i], nums[left], nums[right]});\n",
    "                    // 去重逻辑应该放在找到一个三元组之后，对b 和 c去重\n",
    "                    while (right > left && nums[right] == nums[right - 1]) right--;\n",
    "                    while (right > left && nums[left] == nums[left + 1]) left++;\n",
    "\n",
    "                    // 找到答案时，双指针同时收缩\n",
    "                    right--;\n",
    "                    left++;\n",
    "                }\n",
    "            }\n",
    "        }\n",
    "        return result;\n",
    "    }\n",
    "};"
   ]
  }
 ],
 "metadata": {
  "kernelspec": {
   "display_name": "C++17",
   "language": "C++17",
   "name": "xcpp17"
  },
  "language_info": {
   "codemirror_mode": "text/x-c++src",
   "file_extension": ".cpp",
   "mimetype": "text/x-c++src",
   "name": "c++",
   "version": "17"
  }
 },
 "nbformat": 4,
 "nbformat_minor": 5
}
