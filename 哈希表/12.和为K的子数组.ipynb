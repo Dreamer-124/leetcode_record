{
 "cells": [
  {
   "cell_type": "markdown",
   "id": "3edfd047",
   "metadata": {},
   "source": [
    "# 和为 K 的子数组\n",
    "## [题目](https://leetcode.cn/problems/subarray-sum-equals-k/description/)\n",
    "- 给你一个整数数组 nums 和一个整数 k ，请你统计并返回 该数组中和为 k 的子数组的个数 。\n",
    "\n",
    "- 子数组是数组中元素的连续非空序列。\n",
    "\n",
    "- 示例1：\n",
    "```C++\n",
    "输入：nums = [1,1,1], k = 2\n",
    "输出：2\n",
    "```\n",
    "\n",
    "- 输出示例\n",
    "```C++\n",
    "输入：nums = [1,2,3], k = 3\n",
    "输出：2\n",
    "```\n",
    "\n",
    "- 提示：\n",
    "    - 1 <= nums.length <= 2 * 104\n",
    "    - -1000 <= nums[i] <= 1000\n",
    "    - -107 <= k <= 107"
   ]
  },
  {
   "cell_type": "markdown",
   "id": "6acaf2dd",
   "metadata": {},
   "source": [
    "## 代码示例\n",
    "- 哈希表 + 前缀和\n",
    "    - 时间复杂度：$O(n)$\n",
    "    - 空间复杂度：$O(n)$"
   ]
  },
  {
   "cell_type": "code",
   "execution_count": null,
   "id": "f5e0debf",
   "metadata": {},
   "outputs": [],
   "source": [
    "class Solution {\n",
    "public:\n",
    "    int subarraySum(vector<int>& nums, int k) {\n",
    "        unordered_map<int, int> mp;\n",
    "        mp[0] = 1;\n",
    "        int pre = 0, count = 0;\n",
    "        for (auto& x : nums) {\n",
    "            pre += x;\n",
    "            if (mp.find(pre - k) != mp.end()) {\n",
    "                count += mp[pre - k];\n",
    "            }\n",
    "            mp[pre]++;\n",
    "        }\n",
    "        return count;\n",
    "    }\n",
    "};"
   ]
  }
 ],
 "metadata": {
  "kernelspec": {
   "display_name": "Python 3 (ipykernel)",
   "language": "python",
   "name": "python3"
  },
  "language_info": {
   "codemirror_mode": {
    "name": "ipython",
    "version": 3
   },
   "file_extension": ".py",
   "mimetype": "text/x-python",
   "name": "python",
   "nbconvert_exporter": "python",
   "pygments_lexer": "ipython3",
   "version": "3.9.13"
  }
 },
 "nbformat": 4,
 "nbformat_minor": 5
}
