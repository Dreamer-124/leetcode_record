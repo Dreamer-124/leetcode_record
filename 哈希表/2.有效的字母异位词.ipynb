{
 "cells": [
  {
   "cell_type": "markdown",
   "id": "4199016f-8e10-43ff-b006-c11ba083a526",
   "metadata": {},
   "source": [
    "# 有效的字母异位词\n",
    "\n",
    "## [题目](https://leetcode.cn/problems/valid-anagram/description/)\n",
    "- 给定两个字符串 s 和 t ，编写一个函数来判断 t 是否是 s 的字母异位词\n",
    "\n",
    "- 示例1：\n",
    "```C++\n",
    "输入: s = \"anagram\", t = \"nagaram\" \n",
    "输出: true\n",
    "```\n",
    "\n",
    "- 示例2：\n",
    "```C++\n",
    "输入: s = \"rat\", t = \"car\" \n",
    "输出: false\n",
    "```\n",
    "\n",
    "- 说明: 你可以假设字符串只包含小写字母"
   ]
  },
  {
   "cell_type": "markdown",
   "id": "ce629ea8-8ce9-44ba-9785-c89dd87d6bec",
   "metadata": {},
   "source": [
    "## 代码示例\n",
    "- 使用数组作为哈希表来处理这个问题\n",
    "    - 因为字符a到字符z的ASCII是26个连续的数值，所以字符a映射为下标0，相应的字符z映射为下标25\n",
    "    - 只需要将 s[i] - ‘a’ 所在的元素做+1 操作即可，并不需要记住字符a的ASCII，只要求出一个相对数值就可以了\n",
    "    - record数组如果有的元素不为零0，说明字符串s和t一定是谁多了字符或者谁少了字符，return false\n",
    "    - 时间复杂度：$O(n)$\n",
    "    - 空间复杂度：$O(1)$"
   ]
  },
  {
   "cell_type": "code",
   "execution_count": null,
   "id": "9c72eaa0-02c1-4658-9ea0-e106ce058629",
   "metadata": {},
   "outputs": [],
   "source": [
    "class Solution {\n",
    "public:\n",
    "    bool isAnagram(string s, string t) {\n",
    "        int record[26] = {0};\n",
    "        for (int i = 0; i < s.size(); i++) {\n",
    "            // 并不需要记住字符a的ASCII，只要求出一个相对数值就可以了\n",
    "            record[s[i] - 'a']++;\n",
    "        }\n",
    "        for (int i = 0; i < t.size(); i++) {\n",
    "            record[t[i] - 'a']--;\n",
    "        }\n",
    "        for (int i = 0; i < 26; i++) {\n",
    "            if (record[i] != 0) {\n",
    "                // record数组如果有的元素不为零0，说明字符串s和t 一定是谁多了字符或者谁少了字符。\n",
    "                return false;\n",
    "            }\n",
    "        }\n",
    "        // record数组所有元素都为零0，说明字符串s和t是字母异位词\n",
    "        return true;\n",
    "    }\n",
    "};"
   ]
  }
 ],
 "metadata": {
  "kernelspec": {
   "display_name": "C++17",
   "language": "C++17",
   "name": "xcpp17"
  },
  "language_info": {
   "codemirror_mode": "text/x-c++src",
   "file_extension": ".cpp",
   "mimetype": "text/x-c++src",
   "name": "c++",
   "version": "17"
  }
 },
 "nbformat": 4,
 "nbformat_minor": 5
}
