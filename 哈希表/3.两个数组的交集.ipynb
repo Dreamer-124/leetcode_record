{
 "cells": [
  {
   "cell_type": "markdown",
   "id": "fc9e5cf8-0cbb-4b82-9529-ef22d26ce3ed",
   "metadata": {},
   "source": [
    "# 两个数组的交集\n",
    "\n",
    "## [题目](https://leetcode.cn/problems/intersection-of-two-arrays/description/)\n",
    "- 给定两个数组，编写一个函数来计算它们的交集\n",
    "\n",
    "- 示例1：\n",
    "```C++\n",
    "输入: nums1 = [1,2,2,1], nums2 = [2,2]\n",
    "输出: [2]\n",
    "```\n",
    "\n",
    "- 示例2：\n",
    "```C++\n",
    "输入: nums1 = [4,9,5], nums2 = [9,4,9,8,4]\n",
    "输出: [9,4]\n",
    "```\n",
    "\n",
    "- 说明: 输出结果中的每个元素一定是唯一的，我们可以不考虑输出结果的顺序"
   ]
  },
  {
   "cell_type": "markdown",
   "id": "e1bc6bcc-3a29-4e6e-8f55-49c0dfdc8611",
   "metadata": {},
   "source": [
    "## 代码示例\n",
    "- 使用 unordered_set 来进行无序去重\n",
    "    - 使用数组来做哈希的题目，是因为题目都限制了数值的大小，而且如果哈希值比较少、特别分散、跨度非常大，使用数组就造成空间的极大浪费\n",
    "    - 时间复杂度：$O(n+m)$\n",
    "    - 空间复杂度：$O(1)$"
   ]
  },
  {
   "cell_type": "code",
   "execution_count": null,
   "id": "7683703c-63d0-4c30-a623-b26e6a63d113",
   "metadata": {},
   "outputs": [],
   "source": [
    "class Solution {\n",
    "public:\n",
    "    vector<int> intersection(vector<int>& nums1, vector<int>& nums2) {\n",
    "        unordered_set<int> result_set; // 存放结果，之所以用set是为了给结果集去重\n",
    "        unordered_set<int> nums_set(nums1.begin(), nums1.end());\n",
    "        for (int num : nums2) {\n",
    "            // 发现nums2的元素 在nums_set里又出现过\n",
    "            if (nums_set.find(num) != nums_set.end()) {\n",
    "                result_set.insert(num);\n",
    "            }\n",
    "        }\n",
    "        return vector<int>(result_set.begin(), result_set.end());\n",
    "    }\n",
    "};"
   ]
  }
 ],
 "metadata": {
  "kernelspec": {
   "display_name": "C++17",
   "language": "C++17",
   "name": "xcpp17"
  },
  "language_info": {
   "codemirror_mode": "text/x-c++src",
   "file_extension": ".cpp",
   "mimetype": "text/x-c++src",
   "name": "c++",
   "version": "17"
  }
 },
 "nbformat": 4,
 "nbformat_minor": 5
}
