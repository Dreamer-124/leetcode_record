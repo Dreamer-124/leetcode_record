{
 "cells": [
  {
   "cell_type": "markdown",
   "id": "1f70493d-cadd-443d-babd-5fc3af90878c",
   "metadata": {},
   "source": [
    "## 四数之和\n",
    "\n",
    "## [题目](https://leetcode.cn/problems/4sum/description/)\n",
    "- 给定一个包含 n 个整数的数组 nums 和一个目标值 target，判断 nums 中是否存在四个元素 a，b，c 和 d ，使得 a + b + c + d 的值与 target 相等？找出所有满足条件且不重复的四元组\n",
    "\n",
    "- 注意：\n",
    "    - 答案中不可以包含重复的四元组\n",
    "\n",
    "- 示例1：\n",
    "```C++\n",
    "给定数组 nums = [1, 0, -1, 0, -2, 2]，target = 0\n",
    "满足要求的四元组集合为： [ [-1, 0, 0, 1], [-2, -1, 1, 2], [-2, 0, 0, 2] ]\n",
    "```\n",
    "\n",
    "- 说明:\n",
    "    - 输出结果中的每个元素一定是唯一的，我们可以不考虑输出结果的顺序"
   ]
  },
  {
   "cell_type": "markdown",
   "id": "1640fe37-616c-4404-8cce-27076fd617e8",
   "metadata": {},
   "source": [
    "## 代码示例\n",
    "- 双指针法求解\n",
    "    - 实现过程就是在三数之和的基础上再添加一层 for 循环，主要需要注意剪枝和去重的实现以及大数值的溢出问题\n",
    "    - 时间复杂度：$O(n^3)$\n",
    "    - 空间复杂度：$O(1)$"
   ]
  },
  {
   "cell_type": "code",
   "execution_count": null,
   "id": "c7f4bb67-4ee7-435a-91f7-6545ad4917ad",
   "metadata": {},
   "outputs": [],
   "source": [
    "class Solution {\n",
    "public:\n",
    "    vector<vector<int>> fourSum(vector<int>& nums, int target) {\n",
    "        // 初始化结果 vector 并进行排序\n",
    "        vector<vector<int>> result;\n",
    "        sort(nums.begin(), nums.end());\n",
    "        \n",
    "        // 循环处理 nums 中的每一个数字\n",
    "        for (int k = 0; k < nums.size(); k++) {\n",
    "            // 剪枝处理\n",
    "            if (nums[k] > target && nums[k] >= 0) {\n",
    "            \tbreak; // 这里使用break，统一通过最后的return返回\n",
    "            }\n",
    "            // 对nums[k]去重\n",
    "            if (k > 0 && nums[k] == nums[k - 1]) {\n",
    "                continue;\n",
    "            }\n",
    "            for (int i = k + 1; i < nums.size(); i++) {\n",
    "                // 2级剪枝处理\n",
    "                if (nums[k] + nums[i] > target && nums[k] + nums[i] >= 0) {\n",
    "                    break;\n",
    "                }\n",
    "\n",
    "                // 对nums[i]去重\n",
    "                if (i > k + 1 && nums[i] == nums[i - 1]) {\n",
    "                    continue;\n",
    "                }\n",
    "                int left = i + 1;\n",
    "                int right = nums.size() - 1;\n",
    "                while (right > left) {\n",
    "                    // nums[k] + nums[i] + nums[left] + nums[right] > target 会溢出\n",
    "                    if ((long) nums[k] + nums[i] + nums[left] + nums[right] > target) {\n",
    "                        right--;\n",
    "                    // nums[k] + nums[i] + nums[left] + nums[right] < target 会溢出\n",
    "                    } else if ((long) nums[k] + nums[i] + nums[left] + nums[right]  < target) {\n",
    "                        left++;\n",
    "                    } else {\n",
    "                        result.push_back(vector<int>{nums[k], nums[i], nums[left], nums[right]});\n",
    "                        // 对nums[left]和nums[right]去重\n",
    "                        while (right > left && nums[right] == nums[right - 1]) right--;\n",
    "                        while (right > left && nums[left] == nums[left + 1]) left++;\n",
    "\n",
    "                        // 找到答案时，双指针同时收缩\n",
    "                        right--;\n",
    "                        left++;\n",
    "                    }\n",
    "                }\n",
    "\n",
    "            }\n",
    "        }\n",
    "        return result;\n",
    "    }\n",
    "};"
   ]
  }
 ],
 "metadata": {
  "kernelspec": {
   "display_name": "Python 3 (ipykernel)",
   "language": "python",
   "name": "python3"
  },
  "language_info": {
   "codemirror_mode": {
    "name": "ipython",
    "version": 3
   },
   "file_extension": ".py",
   "mimetype": "text/x-python",
   "name": "python",
   "nbconvert_exporter": "python",
   "pygments_lexer": "ipython3",
   "version": "3.9.13"
  }
 },
 "nbformat": 4,
 "nbformat_minor": 5
}
