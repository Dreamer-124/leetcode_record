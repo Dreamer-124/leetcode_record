{
 "cells": [
  {
   "cell_type": "markdown",
   "id": "dadf81d1",
   "metadata": {},
   "source": [
    "# 找到字符串中所有字母异位词\n",
    "\n",
    "## [题目](https://leetcode.cn/problems/find-all-anagrams-in-a-string/description/)\n",
    "- 给定两个字符串 s 和 p，找到 s 中所有 p 的 异位词 的子串，返回这些子串的起始索引。不考虑答案输出的顺序\n",
    "\n",
    "- 示例1：\n",
    "```C++\n",
    "输入: s = \"cbaebabacd\", p = \"abc\"\n",
    "输出: [0,6]\n",
    "解释:\n",
    "起始索引等于 0 的子串是 \"cba\", 它是 \"abc\" 的异位词\n",
    "起始索引等于 6 的子串是 \"bac\", 它是 \"abc\" 的异位词\n",
    "```\n",
    "\n",
    "- 示例2：\n",
    "```C++\n",
    "输入: s = \"abab\", p = \"ab\"\n",
    "输出: [0,1,2]\n",
    "解释:\n",
    "起始索引等于 0 的子串是 \"ab\", 它是 \"ab\" 的异位词\n",
    "起始索引等于 1 的子串是 \"ba\", 它是 \"ab\" 的异位词\n",
    "起始索引等于 2 的子串是 \"ab\", 它是 \"ab\" 的异位词\n",
    "```\n",
    "\n",
    "- 说明: \n",
    "    - 1 <= s.length, p.length <= 3 * 104\n",
    "    - s 和 p 仅包含小写字母"
   ]
  },
  {
   "cell_type": "markdown",
   "id": "f107adbe",
   "metadata": {},
   "source": [
    "## 代码示例\n",
    "- 滑动窗口\n",
    "    - 因为不管顺序，只要在窗口内的字符符合目标字符的个数即视为字母异位词，所以用count1和count2来分别计数目标p和窗口内字符的个数。若count1==count2,则二者一致，则添加到result里\n",
    "    - 时间复杂度：$O(n)$\n",
    "    - 空间复杂度：$O(n)$"
   ]
  },
  {
   "cell_type": "code",
   "execution_count": null,
   "id": "1736bd03",
   "metadata": {},
   "outputs": [],
   "source": [
    "class Solution {\n",
    "public:\n",
    "    vector<int> findAnagrams(string s, string p) {\n",
    "        // 初始化结果 vector \n",
    "        vector<int> result;\n",
    "        // 如果 p 的大小大于 s 的大小，则不可能有\n",
    "        if (p.size() > s.size()) return result;\n",
    "\n",
    "        vector<int> count1(26, 0);\n",
    "        vector<int> count2(26, 0);\n",
    "\n",
    "        // 初始化 p 的字符计数\n",
    "        for (auto c : p) count1[c - 'a']++;\n",
    "\n",
    "        // 初始化第一个窗口\n",
    "        for (int i = 0; i < p.size(); i++) count2[s[i] - 'a']++;\n",
    "        if (count1 == count2) result.push_back(0);\n",
    "\n",
    "        // 滑动窗口\n",
    "        for (int i = 1; i <= s.size() - p.size(); i++) {\n",
    "            count2[s[i - 1] - 'a']--;  // 移除旧边界\n",
    "            count2[s[i + p.size() - 1] - 'a']++;  // 添加新边界\n",
    "            // 对比两个 vector 可以直接使用 '=='\n",
    "            if (count1 == count2) result.push_back(i);\n",
    "        }\n",
    "\n",
    "        return result;\n",
    "    }\n",
    "};"
   ]
  }
 ],
 "metadata": {
  "kernelspec": {
   "display_name": "Python 3 (ipykernel)",
   "language": "python",
   "name": "python3"
  },
  "language_info": {
   "codemirror_mode": {
    "name": "ipython",
    "version": 3
   },
   "file_extension": ".py",
   "mimetype": "text/x-python",
   "name": "python",
   "nbconvert_exporter": "python",
   "pygments_lexer": "ipython3",
   "version": "3.9.13"
  }
 },
 "nbformat": 4,
 "nbformat_minor": 5
}
