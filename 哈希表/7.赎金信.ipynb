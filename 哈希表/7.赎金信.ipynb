{
 "cells": [
  {
   "cell_type": "markdown",
   "id": "d8a9ed8a-0d8c-41ce-a7f2-b8491ef08431",
   "metadata": {},
   "source": [
    "# 赎金信\n",
    "\n",
    "## [题目](https://leetcode.cn/problems/ransom-note/description/)\n",
    "- 给定一个赎金信 (ransom) 字符串和一个杂志(magazine)字符串，判断第一个字符串 ransom 能不能由第二个字符串 magazines 里面的字符构成。如果可以构成，返回 true ；否则返回 false\n",
    "\n",
    "- (题目说明：为了不暴露赎金信字迹，要从杂志上搜索各个需要的字母，组成单词来表达意思。杂志字符串中的每个字符只能在赎金信字符串中使用一次。)\n",
    "\n",
    "- 注意：\n",
    "    - 你可以假设两个字符串均只含有小写字母。\n",
    "```Bash\n",
    "    canConstruct(\"a\", \"b\") -> false\n",
    "    canConstruct(\"aa\", \"ab\") -> false\n",
    "    canConstruct(\"aa\", \"aab\") -> true\n",
    "```\n"
   ]
  },
  {
   "cell_type": "markdown",
   "id": "0fc5aeeb-5e1c-4fd2-a7c1-cbe64de53821",
   "metadata": {},
   "source": [
    "## 代码示例\n",
    "- 使用数组进行求解\n",
    "    - 不使用 map 求解的原因的空间消耗要比数组大一些，因为 map 要维护红黑树或者哈希表，而且还要做哈希函数，是费时的！数据量大的话就可以体现出差别了，所以数组更加简单直接有效！\n",
    "    - 时间复杂度：$O(n)$\n",
    "    - 空间复杂度：$O(1)$"
   ]
  },
  {
   "cell_type": "code",
   "execution_count": null,
   "id": "581b30ef-e86d-49fb-8a75-6447d585d2d2",
   "metadata": {},
   "outputs": [],
   "source": [
    "class Solution {\n",
    "public:\n",
    "    bool canConstruct(string ransomNote, string magazine) {\n",
    "        int record[26] = {0};\n",
    "        //add\n",
    "        // 如果赎金信的大小大于杂志的大小，则不可能\n",
    "        if (ransomNote.size() > magazine.size()) {\n",
    "            return false;\n",
    "        }\n",
    "        for (int i = 0; i < magazine.length(); i++) {\n",
    "            // 通过record数据记录 magazine里各个字符出现次数\n",
    "            record[magazine[i]-'a'] ++;\n",
    "        }\n",
    "        for (int j = 0; j < ransomNote.length(); j++) {\n",
    "            // 遍历ransomNote，在record里对应的字符个数做--操作\n",
    "            record[ransomNote[j]-'a']--;\n",
    "            // 如果小于零说明ransomNote里出现的字符，magazine没有\n",
    "            if(record[ransomNote[j]-'a'] < 0) {\n",
    "                return false;\n",
    "            }\n",
    "        }\n",
    "        // 完全覆盖，则返回 ture\n",
    "        return true;\n",
    "    }\n",
    "};"
   ]
  }
 ],
 "metadata": {
  "kernelspec": {
   "display_name": "C++17",
   "language": "C++17",
   "name": "xcpp17"
  },
  "language_info": {
   "codemirror_mode": "text/x-c++src",
   "file_extension": ".cpp",
   "mimetype": "text/x-c++src",
   "name": "c++",
   "version": "17"
  }
 },
 "nbformat": 4,
 "nbformat_minor": 5
}
