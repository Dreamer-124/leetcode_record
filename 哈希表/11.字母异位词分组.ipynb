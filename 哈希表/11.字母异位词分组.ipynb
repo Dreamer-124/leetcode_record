{
 "cells": [
  {
   "cell_type": "markdown",
   "id": "2d53dab3",
   "metadata": {},
   "source": [
    "# 字母异位词分组\n",
    "\n",
    "## [题目](https://leetcode.cn/problems/group-anagrams/description/)\n",
    "- 给你一个字符串数组，请你将 字母异位词 组合在一起。可以按任意顺序返回结果列表。\n",
    "\n",
    "- 字母异位词 是由重新排列源单词的所有字母得到的一个新单词。\n",
    "\n",
    "- 示例1：\n",
    "```C++\n",
    "输入: strs = [\"eat\", \"tea\", \"tan\", \"ate\", \"nat\", \"bat\"]\n",
    "输出: [[\"bat\"],[\"nat\",\"tan\"],[\"ate\",\"eat\",\"tea\"]]\n",
    "```\n",
    "\n",
    "- 示例2：\n",
    "```C++\n",
    "输入: strs = [\"\"]\n",
    "输出: [[\"\"]]\n",
    "```\n",
    "\n",
    "- 示例3：\n",
    "```C++\n",
    "输入: strs = [\"a\"]\n",
    "输出: [[\"a\"]]\n",
    "```\n",
    "\n",
    "- 提示：\n",
    "    - 1 <= strs.length <= 104\n",
    "    - 0 <= strs[i].length <= 100\n",
    "    - strs[i] 仅包含小写字母"
   ]
  },
  {
   "cell_type": "markdown",
   "id": "c7bf3bb1",
   "metadata": {},
   "source": [
    "## 代码示例\n",
    "- 排序\n",
    "    - 由于互为字母异位词的两个字符串包含的字母相同，因此对两个字符串分别进行排序之后得到的字符串一定是相同的，故可以将排序之后的字符串作为哈希表的键。\n",
    "    - 时间复杂度：$O(nklogk)$\n",
    "    - 空间复杂度：$O(nk)$"
   ]
  },
  {
   "cell_type": "code",
   "execution_count": null,
   "id": "744a4d31",
   "metadata": {},
   "outputs": [],
   "source": [
    "class Solution {\n",
    "public:\n",
    "    vector<vector<string>> groupAnagrams(vector<string>& strs) {\n",
    "        unordered_map<string, vector<string>> mp;\n",
    "        for (auto& str: strs) {\n",
    "            string key = str;\n",
    "            sort(key.begin(), key.end());\n",
    "            mp[key].emplace_back(str);\n",
    "        }\n",
    "        vector<vector<string>> ans;\n",
    "        for (auto it = mp.begin(); it != mp.end(); it++) {\n",
    "            ans.emplace_back(it->second);\n",
    "        }\n",
    "        return ans;\n",
    "    }\n",
    "};"
   ]
  }
 ],
 "metadata": {
  "kernelspec": {
   "display_name": "Python 3 (ipykernel)",
   "language": "python",
   "name": "python3"
  },
  "language_info": {
   "codemirror_mode": {
    "name": "ipython",
    "version": 3
   },
   "file_extension": ".py",
   "mimetype": "text/x-python",
   "name": "python",
   "nbconvert_exporter": "python",
   "pygments_lexer": "ipython3",
   "version": "3.9.13"
  }
 },
 "nbformat": 4,
 "nbformat_minor": 5
}
