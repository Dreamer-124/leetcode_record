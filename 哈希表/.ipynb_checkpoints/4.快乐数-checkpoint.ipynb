{
 "cells": [
  {
   "cell_type": "markdown",
   "id": "60705584-3270-46ba-9256-d5f5d6528886",
   "metadata": {},
   "source": [
    "## 快乐数\n",
    "\n",
    "## [题目](https://leetcode.cn/problems/happy-number/description/)\n",
    "- 编写一个算法来判断一个数 n 是不是快乐数。\n",
    "\n",
    "- 「快乐数」定义为：对于一个正整数，每一次将该数替换为它每个位置上的数字的平方和，然后重复这个过程直到这个数变为 1，也可能是 无限循环 但始终变不到 1。如果 可以变为  1，那么这个数就是快乐数。\n",
    "\n",
    "- 如果 n 是快乐数就返回 True ；不是，则返回 False 。\n",
    "\n",
    "- 示例1：\n",
    "```C++\n",
    "输入：19\n",
    "输出：true\n",
    "解释：\n",
    "1^2 + 9^2 = 82\n",
    "8^2 + 2^2 = 68\n",
    "6^2 + 8^2 = 100\n",
    "1^2 + 0^2 + 0^2 = 1\n",
    "```\n",
    "\n",
    "- 说明: 输出结果中的每个元素一定是唯一的，我们可以不考虑输出结果的顺序"
   ]
  },
  {
   "cell_type": "markdown",
   "id": "314e68f8-508a-4eb7-8a3f-7ca592fa4fc3",
   "metadata": {},
   "source": [
    "## 代码示例\n",
    "- 求和的过程中，sum会重复出现，这对解题很重要\n",
    "- 当我们遇到了要快速判断一个元素是否出现集合里的时候，就要考虑哈希法了\n",
    "- 求和的过程，如果对取数值各个位上的单数操作不熟悉的话，做这道题也会比较艰难\n",
    "- 时间复杂度：$O(n)$\n",
    "- 空间复杂度：$O(1)$"
   ]
  },
  {
   "cell_type": "code",
   "execution_count": null,
   "id": "7a9966c6-a6cd-467f-b02a-306907b1bf76",
   "metadata": {},
   "outputs": [],
   "source": [
    "class Solution {\n",
    "public:\n",
    "    // 取数值各个位上的单数之和\n",
    "    int getSum(int n) {\n",
    "        int sum = 0;\n",
    "        while (n) {\n",
    "            sum += (n % 10) * (n % 10);\n",
    "            n /= 10;\n",
    "        }\n",
    "        return sum;\n",
    "    }\n",
    "    bool isHappy(int n) {\n",
    "        // 初始化 set\n",
    "        unordered_set<int> set;\n",
    "        while(1) {\n",
    "            // 判断当前数是不是快乐数\n",
    "            int sum = getSum(n);\n",
    "            if (sum == 1) {\n",
    "                return true;\n",
    "            }\n",
    "            // 如果这个sum曾经出现过，说明已经陷入了无限循环了，立刻return false\n",
    "            if (set.find(sum) != set.end()) {\n",
    "                return false;\n",
    "            } else {\n",
    "                set.insert(sum);\n",
    "            }\n",
    "            // 进入下一轮循环\n",
    "            n = sum;\n",
    "        }\n",
    "    }\n",
    "};"
   ]
  }
 ],
 "metadata": {
  "kernelspec": {
   "display_name": "C++17",
   "language": "C++17",
   "name": "xcpp17"
  },
  "language_info": {
   "codemirror_mode": "text/x-c++src",
   "file_extension": ".cpp",
   "mimetype": "text/x-c++src",
   "name": "c++",
   "version": "17"
  }
 },
 "nbformat": 4,
 "nbformat_minor": 5
}
