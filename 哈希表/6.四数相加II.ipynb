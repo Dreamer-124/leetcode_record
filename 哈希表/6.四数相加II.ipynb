{
 "cells": [
  {
   "cell_type": "markdown",
   "id": "4b65760f-ea43-4213-a7e8-e97781bffdfd",
   "metadata": {},
   "source": [
    "# 四数相加II\n",
    "\n",
    "## [题目](https://leetcode.cn/problems/4sum-ii/)\n",
    "- 给定四个包含整数的数组列表 A , B , C , D ,计算有多少个元组 (i, j, k, l) ，使得 A[i] + B[j] + C[k] + D[l] = 0\n",
    "\n",
    "- 为了使问题简单化，所有的 A, B, C, D 具有相同的长度 N，且 0 ≤ N ≤ 500 。所有整数的范围在 -2^28 到 2^28 - 1 之间，最终结果不会超过 2^31 - 1\n",
    "\n",
    "- 示例1：\n",
    "```C++\n",
    "输入:\n",
    "A = [ 1, 2]\n",
    "B = [-2,-1]\n",
    "C = [-1, 2]\n",
    "D = [ 0, 2]\n",
    "输出:\n",
    "2\n",
    "解释:\n",
    "两个元组如下:\n",
    "(0, 0, 0, 1) -> A[0] + B[0] + C[0] + D[1] = 1 + (-2) + (-1) + 2 = 0\n",
    "(1, 1, 0, 0) -> A[1] + B[1] + C[0] + D[0] = 2 + (-1) + (-1) + 0 = 0\n",
    "```"
   ]
  },
  {
   "cell_type": "markdown",
   "id": "be696f31-7a4f-42d4-910a-b8c62b705622",
   "metadata": {},
   "source": [
    "## 代码示例\n",
    "- unordered_map 解题：\n",
    "    - 做这道题需要先意识到无论哪两个数相加都一定等于另外两个数相加的负数\n",
    "    - 首先定义一个 unordered_map，key放 a 和 b 两数之和，value 放 a 和 b 两数之和出现的次数\n",
    "    - 遍历大 A 和大 B 数组，统计两个数组元素之和，和出现的次数，放到 map 中\n",
    "    - 定义 int 变量 count ，用来统计 a+b+c+d = 0 出现的次数\n",
    "    - 再遍历大 C 和大 D 数组，找到如果 0-(c+d) 在 map 中出现过的话，就用 count 把 map 中 key 对应的 value 也就是出现次数统计出来\n",
    "    - 最后返回统计值 count 就可以了\n",
    "    - 时间复杂度：$O(n^2)$\n",
    "    - 空间复杂度：$O(n^2)$"
   ]
  },
  {
   "cell_type": "code",
   "execution_count": null,
   "id": "6194b31e-c203-4ebf-8dad-a0d0ad58bd7f",
   "metadata": {},
   "outputs": [],
   "source": [
    "class Solution {\n",
    "public:\n",
    "    int fourSumCount(vector<int>& A, vector<int>& B, vector<int>& C, vector<int>& D) {\n",
    "        unordered_map<int, int> umap; //key:a+b的数值，value:a+b数值出现的次数\n",
    "        // 遍历大A和大B数组，统计两个数组元素之和，和出现的次数，放到map中\n",
    "        for (int a : A) {\n",
    "            for (int b : B) {\n",
    "                umap[a + b]++;\n",
    "            }\n",
    "        }\n",
    "        int count = 0; // 统计a+b+c+d = 0 出现的次数\n",
    "        // 再遍历大C和大D数组，找到如果 0-(c+d) 在map中出现过的话，就把map中key对应的value也就是出现次数统计出来。\n",
    "        for (int c : C) {\n",
    "            for (int d : D) {\n",
    "                if (umap.find(0 - (c + d)) != umap.end()) {\n",
    "                    count += umap[0 - (c + d)];\n",
    "                }\n",
    "            }\n",
    "        }\n",
    "        return count;\n",
    "    }\n",
    "};"
   ]
  }
 ],
 "metadata": {
  "kernelspec": {
   "display_name": "C++17",
   "language": "C++17",
   "name": "xcpp17"
  },
  "language_info": {
   "codemirror_mode": "text/x-c++src",
   "file_extension": ".cpp",
   "mimetype": "text/x-c++src",
   "name": "c++",
   "version": "17"
  }
 },
 "nbformat": 4,
 "nbformat_minor": 5
}
