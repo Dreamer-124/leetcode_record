{
 "cells": [
  {
   "cell_type": "markdown",
   "id": "fc2e534c-a215-4fab-9591-faa0a08b4399",
   "metadata": {},
   "source": [
    "## 两数之和\n",
    "\n",
    "## [题目](https://leetcode.cn/problems/two-sum/description/)\n",
    "- 给定一个整数数组 nums 和一个目标值 target，请你在该数组中找出和为目标值的那两个整数，并返回他们的数组下标。\n",
    "\n",
    "- 你可以假设每种输入只会对应一个答案。但是，数组中同一个元素不能使用两遍。\n",
    "\n",
    "- 示例1：\n",
    "```C++\n",
    "给定 nums = [2, 7, 11, 15], target = 9\n",
    "\n",
    "因为 nums[0] + nums[1] = 2 + 7 = 9\n",
    "\n",
    "所以返回 [0, 1]\n",
    "```"
   ]
  },
  {
   "cell_type": "markdown",
   "id": "baf5915b-eb3b-49bc-b237-05be68d9b9dc",
   "metadata": {},
   "source": [
    "## 代码示例\n",
    "- 暴力解法（直接依次迭代求解）\n",
    "- 时间复杂度：$O(n^2)$\n",
    "- 空间复杂度：$O(1)$"
   ]
  },
  {
   "cell_type": "code",
   "execution_count": null,
   "id": "7be25855-6d39-47ba-adf7-6698442dc23f",
   "metadata": {},
   "outputs": [],
   "source": [
    "class Solution {\n",
    "public:\n",
    "    vector<int> twoSum(vector<int>& nums, int target) {\n",
    "        vector<int> result(2, 0);\n",
    "        for(int i = 0; i < nums.size(); i++)\n",
    "        {\n",
    "            for(int j = i + 1; j < nums.size(); j++)\n",
    "            {\n",
    "                if(nums[i] + nums[j] == target)\n",
    "                {\n",
    "                    result[0] = i;\n",
    "                    result[1] = j;\n",
    "                    return result;\n",
    "                }\n",
    "            }\n",
    "        }\n",
    "        return {};\n",
    "    }\n",
    "};"
   ]
  },
  {
   "cell_type": "markdown",
   "id": "d66f2334-0748-4463-935a-33e2e7d538b8",
   "metadata": {},
   "source": [
    "- 使用 map 做哈希表\n",
    "- 时间复杂度：$O(n)$\n",
    "- 空间复杂度：$O(n)$"
   ]
  },
  {
   "cell_type": "code",
   "execution_count": null,
   "id": "e274b33e-24dc-4d6e-939d-2e1360dc0322",
   "metadata": {},
   "outputs": [],
   "source": [
    "class Solution {\n",
    "public:\n",
    "    vector<int> twoSum(vector<int>& nums, int target) {\n",
    "        std::unordered_map <int,int> map;\n",
    "        for(int i = 0; i < nums.size(); i++) {\n",
    "            // 遍历当前元素，并在map中寻找是否有匹配的key\n",
    "            auto iter = map.find(target - nums[i]); \n",
    "            if(iter != map.end()) {\n",
    "                return {iter->second, i};\n",
    "            }\n",
    "            // 如果没找到匹配对，就把访问过的元素和下标加入到map中\n",
    "            map.insert(pair<int, int>(nums[i], i)); \n",
    "        }\n",
    "        return {};\n",
    "    }\n",
    "};"
   ]
  }
 ],
 "metadata": {
  "kernelspec": {
   "display_name": "C++17",
   "language": "C++17",
   "name": "xcpp17"
  },
  "language_info": {
   "codemirror_mode": "text/x-c++src",
   "file_extension": ".cpp",
   "mimetype": "text/x-c++src",
   "name": "c++",
   "version": "17"
  }
 },
 "nbformat": 4,
 "nbformat_minor": 5
}
