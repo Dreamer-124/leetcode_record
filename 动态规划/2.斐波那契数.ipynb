{
 "cells": [
  {
   "cell_type": "markdown",
   "id": "5e0608df",
   "metadata": {},
   "source": [
    "# 斐波那契数\n",
    "\n",
    "## [题目](https://leetcode.cn/problems/fibonacci-number/description/)\n",
    "- 斐波那契数，通常用 F(n) 表示，形成的序列称为 斐波那契数列 。该数列由 0 和 1 开始，后面的每一项数字都是前面两项数字的和。也就是： F(0) = 0，F(1) = 1 F(n) = F(n - 1) + F(n - 2)，其中 n > 1 给你n ，请计算 F(n) 。\n",
    "\n",
    "- 示例1：\n",
    "```C++\n",
    "输入：2\n",
    "输出：1\n",
    "解释：F(2) = F(1) + F(0) = 1 + 0 = 1\n",
    "```\n",
    "\n",
    "- 示例2：\n",
    "```C++\n",
    "输入：3\n",
    "输出：2\n",
    "解释：F(3) = F(2) + F(1) = 1 + 1 = 2\n",
    "```\n",
    "\n",
    "- 示例3：\n",
    "```C++\n",
    "输入：4\n",
    "输出：3\n",
    "解释：F(4) = F(3) + F(2) = 2 + 1 = 3\n",
    "```\n",
    "\n",
    "- 提示：0 <= n <= 30"
   ]
  },
  {
   "cell_type": "markdown",
   "id": "76dcbb42",
   "metadata": {},
   "source": [
    "## 代码示例\n",
    "- 迭代法\n",
    "    - 确定dp数组以及下标的含义 -> dp[i]的定义为：第i个数的斐波那契数值是dp[i]\n",
    "    - 确定递推公式 -> 状态转移方程 dp[i] = dp[i - 1] + dp[i - 2];\n",
    "    - dp数组如何初始化 -> dp[0] = 0; dp[1] = 1;\n",
    "    - 确定遍历顺序 -> 从递归公式dp[i] = dp[i - 1] + dp[i - 2];中可以看出，dp[i]是依赖 dp[i - 1] 和 dp[i - 2]，那么遍历的顺序一定是从前到后遍历的\n",
    "    - 举例推导dp数组 -> 按照这个递推公式dp[i] = dp[i - 1] + dp[i - 2]，我们来推导一下，当N为10的时候，dp数组应该是如下的数列：0 1 1 2 3 5 8 13 21 34 55 如果代码写出来，发现结果不对，就把dp数组打印出来看看和我们推导的数列是不是一致的。\n",
    "    - 时间复杂度：$O(n)$\n",
    "    - 空间复杂度：$O(1)$"
   ]
  },
  {
   "cell_type": "code",
   "execution_count": null,
   "id": "2eab48ca",
   "metadata": {},
   "outputs": [],
   "source": [
    "class Solution {\n",
    "public:\n",
    "    int fib(int N) {\n",
    "        if (N <= 1) return N;\n",
    "        int dp[2];\n",
    "        dp[0] = 0;\n",
    "        dp[1] = 1;\n",
    "        for (int i = 2; i <= N; i++) {\n",
    "            int sum = dp[0] + dp[1];\n",
    "            dp[0] = dp[1];\n",
    "            dp[1] = sum;\n",
    "        }\n",
    "        return dp[1];\n",
    "    }\n",
    "};"
   ]
  }
 ],
 "metadata": {
  "kernelspec": {
   "display_name": "Python 3 (ipykernel)",
   "language": "python",
   "name": "python3"
  },
  "language_info": {
   "codemirror_mode": {
    "name": "ipython",
    "version": 3
   },
   "file_extension": ".py",
   "mimetype": "text/x-python",
   "name": "python",
   "nbconvert_exporter": "python",
   "pygments_lexer": "ipython3",
   "version": "3.9.13"
  }
 },
 "nbformat": 4,
 "nbformat_minor": 5
}
