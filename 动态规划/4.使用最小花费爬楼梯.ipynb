{
 "cells": [
  {
   "cell_type": "markdown",
   "id": "307eb971",
   "metadata": {},
   "source": [
    "# 使用最小花费爬楼梯\n",
    "\n",
    "## [题目](https://leetcode.cn/problems/min-cost-climbing-stairs/description/)\n",
    "- 给你一个整数数组 cost ，其中 cost[i] 是从楼梯第 i 个台阶向上爬需要支付的费用。一旦你支付此费用，即可选择向上爬一个或者两个台阶。\n",
    "\n",
    "- 你可以选择从下标为 0 或下标为 1 的台阶开始爬楼梯。\n",
    "\n",
    "- 请你计算并返回达到楼梯顶部的最低花费。\n",
    "\n",
    "- 示例1：\n",
    "```C++\n",
    "输入：cost = [10, 15, 20]\n",
    "输出：15\n",
    "解释：最低花费是从 cost[1] 开始，然后走两步即可到阶梯顶，一共花费 15 。\n",
    "```\n",
    "\n",
    "- 示例2：\n",
    "```C++\n",
    "输入：cost = [1, 100, 1, 1, 1, 100, 1, 1, 100, 1]\n",
    "输出：6\n",
    "解释：最低花费方式是从 cost[0] 开始，逐个经过那些 1 ，跳过 cost[3] ，一共花费 6 。\n",
    "```\n",
    "\n",
    "- 提示：\n",
    "    - cost 的长度范围是 [2, 1000]。\n",
    "    - cost[i] 将会是一个整型数据，范围为 [0, 999] 。"
   ]
  },
  {
   "cell_type": "markdown",
   "id": "a3dbe297",
   "metadata": {},
   "source": [
    "## 代码示例\n",
    "- 迭代法实现动态规划\n",
    "    - 时间复杂度：$O(n)$\n",
    "    - 空间复杂度：$O(n)$"
   ]
  },
  {
   "cell_type": "code",
   "execution_count": null,
   "id": "31fd390d",
   "metadata": {},
   "outputs": [],
   "source": [
    "class Solution {\n",
    "public:\n",
    "    int minCostClimbingStairs(vector<int>& cost) {\n",
    "        vector<int> dp(cost.size() + 1);\n",
    "        dp[0] = 0; // 默认第一步都是不花费体力的\n",
    "        dp[1] = 0;\n",
    "        for (int i = 2; i <= cost.size(); i++) {\n",
    "            dp[i] = min(dp[i - 1] + cost[i - 1], dp[i - 2] + cost[i - 2]);\n",
    "        }\n",
    "        return dp[cost.size()];\n",
    "    }\n",
    "};"
   ]
  }
 ],
 "metadata": {
  "kernelspec": {
   "display_name": "Python 3 (ipykernel)",
   "language": "python",
   "name": "python3"
  },
  "language_info": {
   "codemirror_mode": {
    "name": "ipython",
    "version": 3
   },
   "file_extension": ".py",
   "mimetype": "text/x-python",
   "name": "python",
   "nbconvert_exporter": "python",
   "pygments_lexer": "ipython3",
   "version": "3.9.13"
  }
 },
 "nbformat": 4,
 "nbformat_minor": 5
}
