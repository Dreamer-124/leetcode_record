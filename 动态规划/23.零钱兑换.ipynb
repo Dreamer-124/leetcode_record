{
 "cells": [
  {
   "cell_type": "markdown",
   "metadata": {},
   "source": [
    "# 零钱兑换\n",
    "\n",
    "## [题目](https://leetcode.cn/problems/coin-change/description/?envType=problem-list-v2&envId=2cktkvj)\n",
    "- 给定不同面额的硬币 coins 和一个总金额 amount。编写一个函数来计算可以凑成总金额所需的最少的硬币个数。如果没有任何一种硬币组合能组成总金额，返回 -1。\n",
    "\n",
    "- 你可以认为每种硬币的数量是无限的。\n",
    "\n",
    "- 示例1：\n",
    "```C++\n",
    "输入：coins = [1, 2, 5], amount = 11\n",
    "输出：3\n",
    "解释：11 = 5 + 5 + 1\n",
    "```\n",
    "\n",
    "- 示例2：\n",
    "```C++\n",
    "输入：coins = [2], amount = 3\n",
    "输出：-1\n",
    "```\n",
    "- 示例3：\n",
    "```C++\n",
    "输入：coins = [1], amount = 0\n",
    "输出：0\n",
    "```\n",
    "\n",
    "- 示例4：\n",
    "```C++\n",
    "输入：coins = [1], amount = 1\n",
    "输出：1\n",
    "```\n",
    "\n",
    "- 示例5：\n",
    "```C++\n",
    "输入：coins = [1], amount = 2\n",
    "输出：2\n",
    "```\n",
    "\n",
    "- 提示：\n",
    "    - 1 <= coins.length <= 12\n",
    "    - 1 <= coins[i] <= 2^31 - 1\n",
    "    - 0 <= amount <= 10^4"
   ]
  },
  {
   "cell_type": "markdown",
   "metadata": {},
   "source": [
    "## 代码示例\n",
    "- 动态规划法，推导 dp 方程 $dp[j] = min(dp[j - coins[i]] + 1, dp[j])$;\n",
    "    - 时间复杂度：$O(len(coins) * amount)$\n",
    "    - 空间复杂度：$O(amount)$"
   ]
  },
  {
   "cell_type": "code",
   "execution_count": null,
   "metadata": {
    "vscode": {
     "languageId": "cpp"
    }
   },
   "outputs": [],
   "source": [
    "class Solution {\n",
    "public:\n",
    "    int coinChange(vector<int>& coins, int amount) {\n",
    "        int Max = amount + 1;\n",
    "        vector<int> dp(amount + 1, Max);\n",
    "\n",
    "        dp[0] = 0;\n",
    "        for (int i = 1; i <= amount; i++) {\n",
    "            for (int j = 0; j < (int)coins.size(); j++) {\n",
    "                if (coins[j] <= i) {\n",
    "                    dp[i] = min(dp[i], dp[i - coins[j]] + 1);\n",
    "                }\n",
    "            }\n",
    "        }\n",
    "        return dp[amount] > amount ? -1 : dp[amount];\n",
    "    }\n",
    "};"
   ]
  }
 ],
 "metadata": {
  "language_info": {
   "name": "python"
  }
 },
 "nbformat": 4,
 "nbformat_minor": 2
}
