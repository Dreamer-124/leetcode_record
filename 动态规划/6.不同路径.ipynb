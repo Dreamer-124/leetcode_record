{
 "cells": [
  {
   "cell_type": "markdown",
   "id": "48c4b275",
   "metadata": {},
   "source": [
    "# 不同路径\n",
    "\n",
    "## [题目](https://leetcode.cn/problems/unique-paths/description/)\n",
    "\n",
    "- 一个机器人位于一个 m x n 网格的左上角 （起始点在下图中标记为 “Start” ）。\n",
    "\n",
    "- 机器人每次只能向下或者向右移动一步。机器人试图达到网格的右下角（在下图中标记为 “Finish” ）。\n",
    "\n",
    "- 问总共有多少条不同的路径？\n",
    "\n",
    "<div align=\"center\" style=\"text-align: center;\">\n",
    "    <img src=\"../image/10-6-1.png\" style=\"width: 60%;\">\n",
    "</div> \n",
    "\n",
    "- 示例1：\n",
    "```C++\n",
    "输入：m = 3, n = 7\n",
    "输出：28\n",
    "```\n",
    "\n",
    "- 示例2：\n",
    "```C++\n",
    "输入：m = 2, n = 3\n",
    "输出：3\n",
    "解释： 从左上角开始，总共有 3 条路径可以到达右下角。\n",
    "向右 -> 向右 -> 向下\n",
    "向右 -> 向下 -> 向右\n",
    "向下 -> 向右 -> 向右\n",
    "```\n",
    "\n",
    "- 示例3：\n",
    "```C++\n",
    "输入：m = 7, n = 3\n",
    "输出：28\n",
    "```\n",
    "\n",
    "- 示例4：\n",
    "```C++\n",
    "输入：m = 3, n = 3\n",
    "输出：6\n",
    "```\n",
    "\n",
    "- 提示：\n",
    "    - 1 <= m, n <= 100\n",
    "    - 题目数据保证答案小于等于 2 * 10^9"
   ]
  },
  {
   "cell_type": "markdown",
   "id": "f2da5b31",
   "metadata": {},
   "source": [
    "## 代码示例\n",
    "- 动态规划\n",
    "    - dp[i][j] ：表示从（0 ，0）出发，到(i, j) 有dp[i][j]条不同的路径。\n",
    "    - 递推公式：dp[i][j] = dp[i - 1][j] + dp[i][j - 1]\n",
    "    - 初始化：dp[i][0]一定都是1，dp[0][j]一定都是1\n",
    "    - 从左到右一层一层遍历\n",
    "    - 时间复杂度：$O(m \\times n)$\n",
    "    - 空间复杂度：$O(m \\times n)$"
   ]
  },
  {
   "cell_type": "code",
   "execution_count": null,
   "id": "e8f69376",
   "metadata": {},
   "outputs": [],
   "source": [
    "class Solution {\n",
    "public:\n",
    "    int uniquePaths(int m, int n) {\n",
    "        vector<vector<int>> dp(m, vector<int>(n, 0));\n",
    "        for (int i = 0; i < m; i++) dp[i][0] = 1;\n",
    "        for (int j = 0; j < n; j++) dp[0][j] = 1;\n",
    "        for (int i = 1; i < m; i++) {\n",
    "            for (int j = 1; j < n; j++) {\n",
    "                dp[i][j] = dp[i - 1][j] + dp[i][j - 1];\n",
    "            }\n",
    "        }\n",
    "        return dp[m - 1][n - 1];\n",
    "    }\n",
    "};"
   ]
  }
 ],
 "metadata": {
  "kernelspec": {
   "display_name": "Python 3 (ipykernel)",
   "language": "python",
   "name": "python3"
  },
  "language_info": {
   "codemirror_mode": {
    "name": "ipython",
    "version": 3
   },
   "file_extension": ".py",
   "mimetype": "text/x-python",
   "name": "python",
   "nbconvert_exporter": "python",
   "pygments_lexer": "ipython3",
   "version": "3.9.13"
  }
 },
 "nbformat": 4,
 "nbformat_minor": 5
}
