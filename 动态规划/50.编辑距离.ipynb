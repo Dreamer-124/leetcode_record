{
 "cells": [
  {
   "cell_type": "markdown",
   "id": "2525b2fe",
   "metadata": {},
   "source": [
    "# 编辑距离\n",
    "\n",
    "## [题目](https://leetcode.cn/problems/edit-distance/description/)\n",
    "\n",
    "- 给你两个单词 word1 和 word2，请你计算出将 word1 转换成 word2 所使用的最少操作数 。\n",
    "\n",
    "- 你可以对一个单词进行如下三种操作：\n",
    "    - 插入一个字符\n",
    "    - 删除一个字符\n",
    "    - 替换一个字符\n",
    "\n",
    "- 示例1：\n",
    "```C++\n",
    "输入：word1 = \"horse\", word2 = \"ros\"\n",
    "输出：3\n",
    "解释： horse -> rorse (将 'h' 替换为 'r') rorse -> rose (删除 'r') rose -> ros (删除 'e')\n",
    "```\n",
    "\n",
    "- 示例2：\n",
    "```C++\n",
    "输入：word1 = \"intention\", word2 = \"execution\"\n",
    "输出：5\n",
    "解释： intention -> inention (删除 't') inention -> enention (将 'i' 替换为 'e') enention -> exention (将 'n' 替换为 'x') exention -> exection (将 'n' 替换为 'c') exection -> execution (插入 'u')\n",
    "```\n",
    "\n",
    "- 提示：\n",
    "    - 0 <= word1.length, word2.length <= 500\n",
    "    - word1 和 word2 由小写英文字母组成"
   ]
  },
  {
   "cell_type": "markdown",
   "id": "4a842796",
   "metadata": {},
   "source": [
    "## 代码示例\n",
    "- 动态规划法\n",
    "    - dp[i][j] 表示以下标i-1为结尾的字符串word1，和以下标j-1为结尾的字符串word2，最近编辑距离为dp[i][j]\n",
    "    - dp 方程\n",
    "    ```C++\n",
    "    if (word1[i - 1] == word2[j - 1]) {\n",
    "        dp[i][j] = dp[i - 1][j - 1];\n",
    "    }\n",
    "    else {\n",
    "        dp[i][j] = min({dp[i - 1][j - 1], dp[i - 1][j], dp[i][j - 1]}) + 1;\n",
    "    }\n",
    "    ```\n",
    "    - 初始化 dp 数组\n",
    "    ```C++\n",
    "    for (int i = 0; i <= word1.size(); i++) dp[i][0] = i;\n",
    "    for (int j = 0; j <= word2.size(); j++) dp[0][j] = j;\n",
    "    ```\n",
    "    - 从左往右，从上到下\n",
    "    - 时间复杂度：$O(m \\times n)$\n",
    "    - 空间复杂度：$O(m \\times n)$"
   ]
  },
  {
   "cell_type": "code",
   "execution_count": null,
   "id": "a310feca",
   "metadata": {},
   "outputs": [],
   "source": [
    "class Solution {\n",
    "public:\n",
    "    int minDistance(string word1, string word2) {\n",
    "        vector<vector<int>> dp(word1.size() + 1, vector<int>(word2.size() + 1, 0));\n",
    "        for (int i = 0; i <= word1.size(); i++) dp[i][0] = i;\n",
    "        for (int j = 0; j <= word2.size(); j++) dp[0][j] = j;\n",
    "        for (int i = 1; i <= word1.size(); i++) {\n",
    "            for (int j = 1; j <= word2.size(); j++) {\n",
    "                if (word1[i - 1] == word2[j - 1]) dp[i][j] = dp[i - 1][j - 1];\n",
    "                else dp[i][j] = min({dp[i - 1][j - 1], dp[i - 1][j], dp[i][j - 1]}) + 1; \n",
    "            }\n",
    "        }\n",
    "        return dp[word1.size()][word2.size()];\n",
    "    }\n",
    "};"
   ]
  }
 ],
 "metadata": {
  "kernelspec": {
   "display_name": "Python 3 (ipykernel)",
   "language": "python",
   "name": "python3"
  },
  "language_info": {
   "codemirror_mode": {
    "name": "ipython",
    "version": 3
   },
   "file_extension": ".py",
   "mimetype": "text/x-python",
   "name": "python",
   "nbconvert_exporter": "python",
   "pygments_lexer": "ipython3",
   "version": "3.9.13"
  }
 },
 "nbformat": 4,
 "nbformat_minor": 5
}
