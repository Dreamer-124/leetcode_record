{
 "cells": [
  {
   "cell_type": "markdown",
   "id": "89697f1f",
   "metadata": {},
   "source": [
    "# 最长连续递增序列\n",
    "\n",
    "## [题目](https://leetcode.cn/problems/longest-continuous-increasing-subsequence/description/)\n",
    "\n",
    "- 给定一个未经排序的整数数组，找到最长且 连续递增的子序列，并返回该序列的长度。\n",
    "\n",
    "- 连续递增的子序列 可以由两个下标 l 和 r（l < r）确定，如果对于每个 l <= i < r，都有 nums[i] < nums[i + 1] ，那么子序列 [nums[l], nums[l + 1], ..., nums[r - 1], nums[r]] 就是连续递增子序列。\n",
    "\n",
    "- 示例1：\n",
    "```C++\n",
    "输入：nums = [1,3,5,4,7]\n",
    "输出：3\n",
    "解释：最长连续递增序列是 [1,3,5], 长度为3。尽管 [1,3,5,7] 也是升序的子序列, 但它不是连续的，因为 5 和 7 在原数组里被 4 隔开。\n",
    "```\n",
    "\n",
    "- 示例2：\n",
    "```C++\n",
    "输入：nums = [2,2,2,2,2]\n",
    "输出：1\n",
    "解释：最长连续递增序列是 [2], 长度为1。\n",
    "```\n",
    "\n",
    "- 提示：\n",
    "    - 0 <= nums.length <= $10^4$\n",
    "    - $-10^9$ <= nums[i] <= $10^9$"
   ]
  },
  {
   "cell_type": "markdown",
   "id": "e3651007",
   "metadata": {},
   "source": [
    "## 代码示例\n",
    "- 动态规划法\n",
    "    - dp[i] 表示 i 之前包括i的以 nums[i] 结尾的最长递增子序列的长度\n",
    "    - 定义状态转移方程：if (nums[i] > nums[i - 1]) dp[i] = dp[i - 1] + 1;\n",
    "    - 每一个i，对应的 dp[i]（即最长递增子序列）起始大小至少都是 1.\n",
    "    - 前向后遍历\n",
    "    - 时间复杂度：$O(n)$\n",
    "    - 空间复杂度：$O(n)$"
   ]
  },
  {
   "cell_type": "code",
   "execution_count": null,
   "id": "62f98679",
   "metadata": {},
   "outputs": [],
   "source": [
    "class Solution {\n",
    "public:\n",
    "    int findLengthOfLCIS(vector<int>& nums) {\n",
    "        if (nums.size() == 1) return 1;\n",
    "        vector<int> dp(nums.size(), 1);\n",
    "        for (int i = 1; i < nums.size(); i++) {\n",
    "            if (nums[i] > nums[i - 1]) dp[i] = dp[i - 1] + 1;\n",
    "        }\n",
    "        return *max_element(dp.begin(), dp.end());\n",
    "    }\n",
    "};"
   ]
  }
 ],
 "metadata": {
  "kernelspec": {
   "display_name": "Python 3 (ipykernel)",
   "language": "python",
   "name": "python3"
  },
  "language_info": {
   "codemirror_mode": {
    "name": "ipython",
    "version": 3
   },
   "file_extension": ".py",
   "mimetype": "text/x-python",
   "name": "python",
   "nbconvert_exporter": "python",
   "pygments_lexer": "ipython3",
   "version": "3.9.13"
  }
 },
 "nbformat": 4,
 "nbformat_minor": 5
}
