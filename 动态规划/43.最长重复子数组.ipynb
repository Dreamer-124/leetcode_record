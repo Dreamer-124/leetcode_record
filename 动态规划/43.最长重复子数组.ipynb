{
 "cells": [
  {
   "cell_type": "markdown",
   "id": "ddc13b64",
   "metadata": {},
   "source": [
    "# 最长重复子数组\n",
    "\n",
    "## [题目](https://leetcode.cn/problems/maximum-length-of-repeated-subarray/description/)\n",
    "\n",
    "- 给两个整数数组 A 和 B ，返回两个数组中公共的、长度最长的子数组的长度。\n",
    "\n",
    "- 示例1：\n",
    "```C++\n",
    "输入：\n",
    "A: [1,2,3,2,1]\n",
    "B: [3,2,1,4,7]\n",
    "输出：3\n",
    "解释：长度最长的公共子数组是 [3, 2, 1] 。\n",
    "```\n",
    "\n",
    "- 提示：\n",
    "    - 1 <= len(A), len(B) <= 1000\n",
    "    - 0 <= A[i], B[i] < 100"
   ]
  },
  {
   "cell_type": "markdown",
   "id": "9e7e10f0",
   "metadata": {},
   "source": [
    "## 代码示例\n",
    "- 动态规划\n",
    "    - 用二维数组可以记录两个字符串的所有比较情况\n",
    "    - 以下标i - 1为结尾的A，和以下标j - 1为结尾的B，最长重复子数组长度为dp[i][j]。\n",
    "    - 当A[i - 1] 和B[j - 1]相等的时候，dp[i][j] = dp[i - 1][j - 1] + 1;\n",
    "    - dp[i][0] 和dp[0][j]初始化为0。\n",
    "    - 外层for循环遍历A，内层for循环遍历B。"
   ]
  },
  {
   "cell_type": "code",
   "execution_count": null,
   "id": "aca11a33",
   "metadata": {},
   "outputs": [],
   "source": [
    "class Solution {\n",
    "public:\n",
    "    int findLength(vector<int>& nums1, vector<int>& nums2) {\n",
    "        vector<vector<int>> dp(nums1.size() + 1, vector<int>(nums2.size() + 1, 0));\n",
    "        int result = 0;\n",
    "        for (int i = 1; i <= nums1.size(); i++) {\n",
    "            for (int j = 1; j <= nums2.size(); j++) {\n",
    "                if (nums1[i - 1] == nums2[j - 1]) dp[i][j] = dp[i - 1][j - 1] + 1;\n",
    "                if (dp[i][j] > result) result = dp[i][j];\n",
    "            }\n",
    "        }\n",
    "        return result;\n",
    "    }\n",
    "};"
   ]
  }
 ],
 "metadata": {
  "kernelspec": {
   "display_name": "Python 3 (ipykernel)",
   "language": "python",
   "name": "python3"
  },
  "language_info": {
   "codemirror_mode": {
    "name": "ipython",
    "version": 3
   },
   "file_extension": ".py",
   "mimetype": "text/x-python",
   "name": "python",
   "nbconvert_exporter": "python",
   "pygments_lexer": "ipython3",
   "version": "3.9.13"
  }
 },
 "nbformat": 4,
 "nbformat_minor": 5
}
