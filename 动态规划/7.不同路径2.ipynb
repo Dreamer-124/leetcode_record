{
 "cells": [
  {
   "cell_type": "markdown",
   "id": "9f692509",
   "metadata": {},
   "source": [
    "# 不同路径2\n",
    "\n",
    "## [题目](https://leetcode.cn/problems/unique-paths-ii/description/)\n",
    "\n",
    "- 一个机器人位于一个 m x n 网格的左上角 （起始点在下图中标记为 “Start” ）。\n",
    "\n",
    "- 机器人每次只能向下或者向右移动一步。机器人试图达到网格的右下角（在下图中标记为 “Finish” ）。\n",
    "\n",
    "- 现在考虑网格中有障碍物。那么从左上角到右下角将会有多少条不同的路径？\n",
    "\n",
    "<div align=\"center\" style=\"text-align: center;\">\n",
    "    <img src=\"../image/10-7-1.png\" style=\"width: 60%;\">\n",
    "</div> \n",
    "\n",
    "- 网格中的障碍物和空位置分别用 1 和 0 来表示。\n",
    "\n",
    "- 示例1：\n",
    "\n",
    "<div align=\"center\" style=\"text-align: center;\">\n",
    "    <img src=\"../image/10-7-2.png\" style=\"width: 60%;\">\n",
    "</div> \n",
    "\n",
    "```C++\n",
    "输入：obstacleGrid = [[0,0,0],[0,1,0],[0,0,0]]\n",
    "输出：2 解释：\n",
    "3x3 网格的正中间有一个障碍物。\n",
    "从左上角到右下角一共有 2 条不同的路径：\n",
    "向右 -> 向右 -> 向下 -> 向下\n",
    "向下 -> 向下 -> 向右 -> 向右\n",
    "```\n",
    "\n",
    "- 示例2：\n",
    "\n",
    "<div align=\"center\" style=\"text-align: center;\">\n",
    "    <img src=\"../image/10-7-3.png\" style=\"width: 60%;\">\n",
    "</div> \n",
    "\n",
    "```C++\n",
    "输入：obstacleGrid = [[0,1],[0,0]]\n",
    "输出：1\n",
    "```\n",
    "\n",
    "- 提示：\n",
    "    - m == obstacleGrid.length\n",
    "    - n == obstacleGrid[i].length\n",
    "    - 1 <= m, n <= 100\n",
    "    - obstacleGrid[i][j] 为 0 或 1"
   ]
  },
  {
   "cell_type": "markdown",
   "id": "7a541476",
   "metadata": {},
   "source": [
    "## 代码示例\n",
    "- 动态规划\n",
    "    - dp[i][j] ：表示从（0 ，0）出发，到(i, j) 有dp[i][j]条不同的路径。\n",
    "    - 递推公式：dp[i][j] = dp[i - 1][j] + dp[i][j - 1]（这里需要注意一点，因为有了障碍，(i, j)如果就是障碍的话应该就保持初始状态（初始状态为0））\n",
    "    - 初始化：dp[i][0]一定都是1，dp[0][j]一定都是1（一旦遇到obstacleGrid[i][0] == 1的情况就停止dp[i][0]的赋值1的操作，dp[0][j]同理）\n",
    "    - 从左到右一层一层遍历\n",
    "    - 时间复杂度：$O(m \\times n)$\n",
    "    - 空间复杂度：$O(m \\times n)$"
   ]
  },
  {
   "cell_type": "code",
   "execution_count": null,
   "id": "b3094d05",
   "metadata": {},
   "outputs": [],
   "source": [
    "class Solution {\n",
    "public:\n",
    "    int uniquePathsWithObstacles(vector<vector<int>>& obstacleGrid) {\n",
    "        int m = obstacleGrid.size();\n",
    "        int n = obstacleGrid[0].size();\n",
    "        if (obstacleGrid[m - 1][n - 1] == 1 || obstacleGrid[0][0] == 1) return 0;\n",
    "        vector<vector<int>> dp(m, vector<int>(n, 0));\n",
    "        for (int i = 0; i < m && obstacleGrid[i][0] == 0; i++) dp[i][0] = 1;\n",
    "        for (int j = 0; j < n && obstacleGrid[0][j] == 0; j++) dp[0][j] = 1;\n",
    "        for (int i = 1; i < m; i++) {\n",
    "            for (int j = 1; j < n; j++) {\n",
    "                if (obstacleGrid[i][j] == 1) continue;\n",
    "                dp[i][j] = dp[i - 1][j] + dp[i][j - 1];\n",
    "            }\n",
    "        } \n",
    "        return dp[m - 1][n - 1];\n",
    "    }\n",
    "};"
   ]
  }
 ],
 "metadata": {
  "kernelspec": {
   "display_name": "Python 3 (ipykernel)",
   "language": "python",
   "name": "python3"
  },
  "language_info": {
   "codemirror_mode": {
    "name": "ipython",
    "version": 3
   },
   "file_extension": ".py",
   "mimetype": "text/x-python",
   "name": "python",
   "nbconvert_exporter": "python",
   "pygments_lexer": "ipython3",
   "version": "3.9.13"
  }
 },
 "nbformat": 4,
 "nbformat_minor": 5
}
