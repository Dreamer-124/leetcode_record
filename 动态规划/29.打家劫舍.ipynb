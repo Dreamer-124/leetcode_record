{
 "cells": [
  {
   "cell_type": "markdown",
   "id": "d26de61a",
   "metadata": {},
   "source": [
    "# 打家劫舍\n",
    "\n",
    "## [题目](https://leetcode.cn/problems/house-robber/description/)\n",
    "- 你是一个专业的小偷，计划偷窃沿街的房屋。每间房内都藏有一定的现金，影响你偷窃的唯一制约因素就是相邻的房屋装有相互连通的防盗系统，如果两间相邻的房屋在同一晚上被小偷闯入，系统会自动报警。\n",
    "\n",
    "- 给定一个代表每个房屋存放金额的非负整数数组，计算你 不触动警报装置的情况下 ，一夜之内能够偷窃到的最高金额。\n",
    "\n",
    "- 示例1：\n",
    "```C++\n",
    "输入：[1,2,3,1]\n",
    "输出：4\n",
    "```\n",
    "\n",
    "- 示例2：\n",
    "```C++\n",
    "输入：[2,7,9,3,1]\n",
    "输出：12 解释：偷窃 1 号房屋 (金额 = 2), 偷窃 3 号房屋 (金额 = 9)，接着偷窃 5 号房屋 (金额 = 1)。   偷窃到的最高金额 = 2 + 9 + 1 = 12 。\n",
    "```\n",
    "\n",
    "- 提示：\n",
    "    - 0 <= nums.length <= 100\n",
    "    - 0 <= nums[i] <= 400"
   ]
  },
  {
   "cell_type": "markdown",
   "id": "94d6cb87",
   "metadata": {},
   "source": [
    "## 代码示例\n",
    "- 动态规划：\n",
    "    - dp[i] 表示当前第 i 个以内的房屋，最多可以偷窃的金额为 dp[i]\n",
    "    - 状态转移方程：dp[i] = max(dp[i - 1], dp[i - 2] + nums[i])\n",
    "    - 时间复杂度：$O(n)$\n",
    "    - 空间复杂度：$O(n)$"
   ]
  },
  {
   "cell_type": "code",
   "execution_count": null,
   "id": "8688d87a",
   "metadata": {},
   "outputs": [],
   "source": [
    "class Solution {\n",
    "public:\n",
    "    int rob(vector<int>& nums) {\n",
    "        if (nums.size() == 1) return nums[0];\n",
    "        vector<int> dp(nums.size(), 0);\n",
    "        dp[0] = nums[0];\n",
    "        dp[1] = max(nums[0], nums[1]);\n",
    "        for (int i = 2; i < nums.size(); i++) {\n",
    "            dp[i] = max(dp[i - 2] + nums[i], dp[i - 1]);\n",
    "        }\n",
    "        return dp[nums.size() - 1];\n",
    "    }\n",
    "};"
   ]
  }
 ],
 "metadata": {
  "kernelspec": {
   "display_name": "Python 3 (ipykernel)",
   "language": "python",
   "name": "python3"
  },
  "language_info": {
   "codemirror_mode": {
    "name": "ipython",
    "version": 3
   },
   "file_extension": ".py",
   "mimetype": "text/x-python",
   "name": "python",
   "nbconvert_exporter": "python",
   "pygments_lexer": "ipython3",
   "version": "3.9.13"
  }
 },
 "nbformat": 4,
 "nbformat_minor": 5
}
