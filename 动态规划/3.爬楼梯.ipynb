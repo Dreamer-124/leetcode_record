{
 "cells": [
  {
   "cell_type": "markdown",
   "id": "1ce48bbf",
   "metadata": {},
   "source": [
    "# 爬楼梯\n",
    "\n",
    "## [题目](https://leetcode.cn/problems/climbing-stairs/description/)\n",
    "- 假设你正在爬楼梯。需要 n 阶你才能到达楼顶。\n",
    "\n",
    "- 每次你可以爬 1 或 2 个台阶。你有多少种不同的方法可以爬到楼顶呢？\n",
    "\n",
    "- 注意：给定 n 是一个正整数。\n",
    "\n",
    "- 示例1：\n",
    "```C++\n",
    "输入： 2\n",
    "输出： 2\n",
    "解释： 有两种方法可以爬到楼顶。\n",
    "    1 阶 + 1 阶\n",
    "    2 阶\n",
    "```\n",
    "\n",
    "- 示例2：\n",
    "```C++\n",
    "输入： 3\n",
    "输出： 3\n",
    "解释： 有三种方法可以爬到楼顶。\n",
    "    1 阶 + 1 阶 + 1 阶\n",
    "    1 阶 + 2 阶\n",
    "    2 阶 + 1 阶\n",
    "```"
   ]
  },
  {
   "cell_type": "markdown",
   "id": "6d5c3ad3",
   "metadata": {},
   "source": [
    "## 代码示例\n",
    "- 动态规划（迭代法实现）"
   ]
  },
  {
   "cell_type": "code",
   "execution_count": null,
   "id": "c8c9e4c5",
   "metadata": {},
   "outputs": [],
   "source": [
    "class Solution {\n",
    "public:\n",
    "    int climbStairs(int n) {\n",
    "        if (n <= 2) return n; \n",
    "        int dp[3];\n",
    "        dp[1] = 1;\n",
    "        dp[2] = 2;\n",
    "        for (int i = 3; i <= n; i++) {\n",
    "            int result = dp[1] + dp[2];\n",
    "            dp[1] = dp[2];\n",
    "            dp[2] = result;\n",
    "        }\n",
    "        return dp[2];\n",
    "    }\n",
    "};"
   ]
  }
 ],
 "metadata": {
  "kernelspec": {
   "display_name": "Python 3 (ipykernel)",
   "language": "python",
   "name": "python3"
  },
  "language_info": {
   "codemirror_mode": {
    "name": "ipython",
    "version": 3
   },
   "file_extension": ".py",
   "mimetype": "text/x-python",
   "name": "python",
   "nbconvert_exporter": "python",
   "pygments_lexer": "ipython3",
   "version": "3.9.13"
  }
 },
 "nbformat": 4,
 "nbformat_minor": 5
}
