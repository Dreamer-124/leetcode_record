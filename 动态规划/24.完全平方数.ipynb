{
 "cells": [
  {
   "cell_type": "markdown",
   "id": "4f812250",
   "metadata": {},
   "source": [
    "# 完全平方数\n",
    "\n",
    "## [题目](https://leetcode.cn/problems/perfect-squares/description/)\n",
    "\n",
    "- 给定正整数 n，找到若干个完全平方数（比如 1, 4, 9, 16, ...）使得它们的和等于 n。你需要让组成和的完全平方数的个数最少。\n",
    "\n",
    "- 给你一个整数 n ，返回和为 n 的完全平方数的 最少数量 。\n",
    "\n",
    "- 完全平方数 是一个整数，其值等于另一个整数的平方；换句话说，其值等于一个整数自乘的积。例如，1、4、9 和 16 都是完全平方数，而 3 和 11 不是。\n",
    "\n",
    "- 示例1：\n",
    "```C++\n",
    "输入：n = 12\n",
    "输出：3\n",
    "解释：12 = 4 + 4 + 4\n",
    "```\n",
    "\n",
    "- 示例2：\n",
    "```C++\n",
    "输入：n = 13\n",
    "输出：2\n",
    "解释：13 = 4 + 9\n",
    "```\n",
    "\n",
    "- 提示：\n",
    "    - 1 <= n <= $10^4$"
   ]
  },
  {
   "cell_type": "markdown",
   "id": "0b479314",
   "metadata": {},
   "source": [
    "## 代码示例\n",
    "- 动态规划\n",
    "    - dp[j]：和为j的完全平方数的最少数量为dp[j]\n",
    "    - dp[j] = min(dp[j - i * i] + 1, dp[j]);\n",
    "    - 非0下标的dp[j]一定要初始为最大值，这样dp[j]在递推的时候才不会被初始值覆盖\n",
    "    - 先遍历背包或者物品都是可以的\n",
    "    - 时间复杂度：$O(n \\times \\sqrt{n})$。\n",
    "    - 空间复杂度：$O(n)$"
   ]
  },
  {
   "cell_type": "code",
   "execution_count": null,
   "id": "2a51f4d8",
   "metadata": {},
   "outputs": [],
   "source": [
    "class Solution {\n",
    "public:\n",
    "    int numSquares(int n) {\n",
    "        vector<int> dp(n + 1, 0);\n",
    "        for (int i = 1; i <= n; i++) {\n",
    "            int minn = INT_MAX;\n",
    "            for (int j = 1; j * j <= i; j++) {\n",
    "                minn = min(minn, dp[i - j * j]);\n",
    "            }\n",
    "            dp[i] = minn + 1;\n",
    "        }\n",
    "        return dp[n];\n",
    "    }\n",
    "};"
   ]
  }
 ],
 "metadata": {
  "kernelspec": {
   "display_name": "Python 3 (ipykernel)",
   "language": "python",
   "name": "python3"
  },
  "language_info": {
   "codemirror_mode": {
    "name": "ipython",
    "version": 3
   },
   "file_extension": ".py",
   "mimetype": "text/x-python",
   "name": "python",
   "nbconvert_exporter": "python",
   "pygments_lexer": "ipython3",
   "version": "3.9.13"
  }
 },
 "nbformat": 4,
 "nbformat_minor": 5
}
