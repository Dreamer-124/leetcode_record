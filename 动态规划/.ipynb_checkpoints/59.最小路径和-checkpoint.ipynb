{
 "cells": [
  {
   "cell_type": "markdown",
   "id": "d5799ce3",
   "metadata": {},
   "source": [
    "# 最小路径和\n",
    "\n",
    "## [题目](https://leetcode.cn/problems/minimum-path-sum/description/)\n",
    "\n",
    "- 给定一个包含非负整数的 m x n 网格 grid ，请找出一条从左上角到右下角的路径，使得路径上的数字总和为最小。\n",
    "\n",
    "- 说明：每次只能向下或者向右移动一步。\n",
    "\n",
    "- 必须在不使用库内置的 sort 函数的情况下解决这个问题。\n",
    "\n",
    "- 示例1：\n",
    "\n",
    "<div align=\"center\" style=\"text-align: center;\">\n",
    "    <img src=\"../image/10-59-1.png\" style=\"width: 20%;\">\n",
    "</div> \n",
    "\n",
    "```C++\n",
    "输入：grid = [[1,3,1],[1,5,1],[4,2,1]]\n",
    "输出：7\n",
    "解释：因为路径 1→3→1→1→1 的总和最小。\n",
    "```\n",
    "\n",
    "- 示例2：\n",
    "```C++\n",
    "输入：grid = [[1,2,3],[4,5,6]]\n",
    "输出：12\n",
    "```\n",
    "\n",
    "- 提示：\n",
    "    - m == grid.length\n",
    "    - n == grid[i].length\n",
    "    - 1 <= m, n <= 200\n",
    "    - 0 <= grid[i][j] <= 200"
   ]
  },
  {
   "cell_type": "markdown",
   "id": "3dd1814d",
   "metadata": {},
   "source": [
    "## 代码示例\n",
    "- 动态规划\n",
    "    - dp[i][j] 表示从左上角出发到 (i,j) 位置的最小路径和\n",
    "    - dp[0][0] = grid[0][0]，当 i>0 且 j=0 时，dp[i][0]=dp[i−1][0]+grid[i][0]。当 i=0 且 j>0 时，dp[0][j]=dp[0][j−1]+grid[0][j]。\n",
    "    - 当 i>0 且 j>0 时，dp[i][j]=min(dp[i−1][j],dp[i][j−1])+grid[i][j]。\n",
    "    - 时间复杂度：$O(n^2)$\n",
    "    - 空间复杂度：$O(n)$"
   ]
  },
  {
   "cell_type": "code",
   "execution_count": null,
   "id": "505f1676",
   "metadata": {},
   "outputs": [],
   "source": [
    "class Solution {\n",
    "public:\n",
    "    int minPathSum(vector<vector<int>>& grid) {\n",
    "        // 处理特殊情况\n",
    "        if (grid.size() == 0 || grid[0].size() == 0) return 0;  \n",
    "        \n",
    "        // 初始化 dp 数组\n",
    "        vector<vector<int>> dp(grid.size(), vector(grid[0].size(), 0));\n",
    "        dp[0][0] = grid[0][0]; \n",
    "        for (int i = 1; i < grid.size(); i++) dp[i][0] = dp[i - 1][0] + grid[i][0];\n",
    "        for (int j = 1; j < grid[0].size(); j++) dp[0][j] = dp[0][j - 1] + grid[0][j];\n",
    "        \n",
    "        // 进行 dp 推导\n",
    "        for (int i = 1; i < grid.size(); i++) {\n",
    "            for (int j = 1; j < grid[0].size(); j++) {\n",
    "                dp[i][j] = min(dp[i - 1][j], dp[i][j - 1]) + grid[i][j];\n",
    "            }\n",
    "        }\n",
    "        \n",
    "        // 返回最终值\n",
    "        return dp[grid.size() - 1][grid[0].size() - 1];\n",
    "    }\n",
    "};"
   ]
  }
 ],
 "metadata": {
  "kernelspec": {
   "display_name": "Python 3 (ipykernel)",
   "language": "python",
   "name": "python3"
  },
  "language_info": {
   "codemirror_mode": {
    "name": "ipython",
    "version": 3
   },
   "file_extension": ".py",
   "mimetype": "text/x-python",
   "name": "python",
   "nbconvert_exporter": "python",
   "pygments_lexer": "ipython3",
   "version": "3.9.13"
  }
 },
 "nbformat": 4,
 "nbformat_minor": 5
}
