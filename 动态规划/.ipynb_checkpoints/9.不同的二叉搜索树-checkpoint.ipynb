{
 "cells": [
  {
   "cell_type": "markdown",
   "id": "eacb0da9",
   "metadata": {},
   "source": [
    "# 不同的二叉搜索树\n",
    "\n",
    "## [题目](https://leetcode.cn/problems/unique-binary-search-trees/description/)\n",
    "\n",
    "- 给定一个整数 n，求以 1 ... n 为节点组成的二叉搜索树有多少种？\n",
    "\n",
    "- 示例：\n",
    "\n",
    "<div align=\"center\" style=\"text-align: center;\">\n",
    "    <img src=\"../image/10-9-1.png\" style=\"width: 60%;\">\n",
    "</div> "
   ]
  },
  {
   "cell_type": "markdown",
   "id": "e7ffcc52",
   "metadata": {},
   "source": [
    "## 代码示例\n",
    "- 动态规划法\n",
    "    - dp[i]：1到i为节点组成的二叉搜索树的个数为dp[i]。\n",
    "    - dp[i] += dp[以j为头结点左子树节点数量] * dp[以j为头结点右子树节点数量]，即：dp[i] += dp[j - 1] * dp[i - j]；\n",
    "    - dp[0] = 1\n",
    "    - 遍历i里面每一个数作为头结点的状态，用j来遍历。\n",
    "    - 时间复杂度：$O(n^2)$\n",
    "    - 空间复杂度：$O(n)$"
   ]
  },
  {
   "cell_type": "code",
   "execution_count": null,
   "id": "b5f0cdba",
   "metadata": {},
   "outputs": [],
   "source": [
    "class Solution {\n",
    "public:\n",
    "    int numTrees(int n) {\n",
    "        vector<int> dp(n + 1);\n",
    "        dp[0] = 1;\n",
    "        for (int i = 1; i <= n; i++) {\n",
    "            for (int j = 1; j <= i; j++) {\n",
    "                dp[i] += dp[j - 1] * dp[i - j];\n",
    "            }\n",
    "        }\n",
    "        return dp[n];\n",
    "    }\n",
    "};"
   ]
  }
 ],
 "metadata": {
  "kernelspec": {
   "display_name": "Python 3 (ipykernel)",
   "language": "python",
   "name": "python3"
  },
  "language_info": {
   "codemirror_mode": {
    "name": "ipython",
    "version": 3
   },
   "file_extension": ".py",
   "mimetype": "text/x-python",
   "name": "python",
   "nbconvert_exporter": "python",
   "pygments_lexer": "ipython3",
   "version": "3.9.13"
  }
 },
 "nbformat": 4,
 "nbformat_minor": 5
}
