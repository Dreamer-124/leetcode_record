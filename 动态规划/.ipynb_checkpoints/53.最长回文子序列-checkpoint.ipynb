{
 "cells": [
  {
   "cell_type": "markdown",
   "id": "15790420",
   "metadata": {},
   "source": [
    "# 最长回文子序列\n",
    "\n",
    "## [题目](https://leetcode.cn/problems/longest-palindromic-subsequence/description/)\n",
    "\n",
    "- 给定一个字符串 s ，找到其中最长的回文子序列，并返回该序列的长度。可以假设 s 的最大长度为 1000\n",
    "\n",
    "- 示例1：\n",
    "```C++\n",
    "输入: \"bbbab\" \n",
    "输出: 4 一个可能的最长回文子序列为 \"bbbb\"\n",
    "```\n",
    "\n",
    "- 示例2：\n",
    "```C++\n",
    "输入:\"cbbd\" \n",
    "输出: 2 一个可能的最长回文子序列为 \"bb\"\n",
    "```\n",
    "\n",
    "- 提示：\n",
    "    - 1 <= s.length <= 1000\n",
    "    - s 只包含小写英文字母"
   ]
  },
  {
   "cell_type": "markdown",
   "id": "d8287320",
   "metadata": {},
   "source": [
    "## 代码示例\n",
    "- 动态规划\n",
    "    - dp[i][j]：字符串s在[i, j]范围内最长的回文子序列的长度为dp[i][j]\n",
    "    - 如果s[i]与s[j]相同，那么dp[i][j] = dp[i + 1][j - 1] + 2; 如果s[i]与s[j]不相同，dp[i][j] = max(dp[i + 1][j], dp[i][j - 1]);\n",
    "    - 初始化 i = j 的 dp 数组位置为 1，其余位置为 0\n",
    "    - i 从下向上遍历，j 从左向右遍历\n",
    "    - 时间复杂度：$O(n^2)$\n",
    "    - 空间复杂度：$O(n^2)$"
   ]
  },
  {
   "cell_type": "code",
   "execution_count": null,
   "id": "8ab17e99",
   "metadata": {},
   "outputs": [],
   "source": [
    "class Solution {\n",
    "public:\n",
    "    int longestPalindromeSubseq(string s) {\n",
    "        vector<vector<int>> dp(s.size(), vector<int>(s.size(), 0));\n",
    "        for (int i = 0; i < s.size(); i++) dp[i][i] = 1;\n",
    "        for (int i = s.size() - 1; i >= 0; i--) {\n",
    "            for (int j = i + 1; j < s.size(); j++) {\n",
    "                if (s[i] == s[j]) dp[i][j] = dp[i + 1][j - 1] + 2;\n",
    "                else dp[i][j] = max(dp[i + 1][j], dp[i][j - 1]);\n",
    "            }\n",
    "        }\n",
    "        return dp[0][s.size() - 1];\n",
    "    }\n",
    "};"
   ]
  }
 ],
 "metadata": {
  "kernelspec": {
   "display_name": "Python 3 (ipykernel)",
   "language": "python",
   "name": "python3"
  },
  "language_info": {
   "codemirror_mode": {
    "name": "ipython",
    "version": 3
   },
   "file_extension": ".py",
   "mimetype": "text/x-python",
   "name": "python",
   "nbconvert_exporter": "python",
   "pygments_lexer": "ipython3",
   "version": "3.9.13"
  }
 },
 "nbformat": 4,
 "nbformat_minor": 5
}
