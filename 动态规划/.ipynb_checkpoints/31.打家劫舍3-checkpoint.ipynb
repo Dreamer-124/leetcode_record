{
 "cells": [
  {
   "cell_type": "markdown",
   "id": "579cdd2e",
   "metadata": {},
   "source": [
    "# 打家劫舍3\n",
    "\n",
    "## [题目](https://leetcode.cn/problems/house-robber-iii/description/)\n",
    "\n",
    "- 在上次打劫完一条街道之后和一圈房屋后，小偷又发现了一个新的可行窃的地区。这个地区只有一个入口，我们称之为“根”。 除了“根”之外，每栋房子有且只有一个“父“房子与之相连。一番侦察之后，聪明的小偷意识到“这个地方的所有房屋的排列类似于一棵二叉树”。 如果两个直接相连的房子在同一天晚上被打劫，房屋将自动报警。\n",
    "\n",
    "- 计算在不触动警报的情况下，小偷一晚能够盗取的最高金额。\n",
    "\n",
    "- 示例：\n",
    "<div align=\"center\" style=\"text-align: center;\">\n",
    "    <img src=\"../image/10-31-1.png\" style=\"width: 60%;\">\n",
    "</div> "
   ]
  },
  {
   "cell_type": "markdown",
   "id": "ca913009",
   "metadata": {},
   "source": [
    "## 代码示例\n",
    "- 记忆化递推\n",
    "    - 考虑两种情况，偷父节点和不偷父节点，使用一个 map 把计算结果保存，如果计算过孙子了，那么计算孩子的时候可以复用孙子节点的结果。\n",
    "    - 时间复杂度：$O(n)$\n",
    "    - 空间复杂度：$O(logn)$"
   ]
  },
  {
   "cell_type": "code",
   "execution_count": null,
   "id": "03b96945",
   "metadata": {},
   "outputs": [],
   "source": [
    "class Solution {\n",
    "public:\n",
    "    unordered_map<TreeNode* , int> umap; // 记录计算过的结果\n",
    "    int rob(TreeNode* root) {\n",
    "        if (root == NULL) return 0;\n",
    "        if (root->left == NULL && root->right == NULL) return root->val;\n",
    "        if (umap[root]) return umap[root]; // 如果umap里已经有记录则直接返回\n",
    "        // 偷父节点\n",
    "        int val1 = root->val;\n",
    "        if (root->left) val1 += rob(root->left->left) + rob(root->left->right); // 跳过root->left\n",
    "        if (root->right) val1 += rob(root->right->left) + rob(root->right->right); // 跳过root->right\n",
    "        // 不偷父节点\n",
    "        int val2 = rob(root->left) + rob(root->right); // 考虑root的左右孩子\n",
    "        umap[root] = max(val1, val2); // umap记录一下结果\n",
    "        return max(val1, val2);\n",
    "    }\n",
    "};\n"
   ]
  }
 ],
 "metadata": {
  "kernelspec": {
   "display_name": "Python 3 (ipykernel)",
   "language": "python",
   "name": "python3"
  },
  "language_info": {
   "codemirror_mode": {
    "name": "ipython",
    "version": 3
   },
   "file_extension": ".py",
   "mimetype": "text/x-python",
   "name": "python",
   "nbconvert_exporter": "python",
   "pygments_lexer": "ipython3",
   "version": "3.9.13"
  }
 },
 "nbformat": 4,
 "nbformat_minor": 5
}
