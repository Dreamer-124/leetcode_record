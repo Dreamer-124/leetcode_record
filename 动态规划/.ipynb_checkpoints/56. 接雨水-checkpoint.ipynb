{
 "cells": [
  {
   "cell_type": "markdown",
   "id": "6e126b6a",
   "metadata": {},
   "source": [
    "# 接雨水\n",
    "\n",
    "## [题目](https://leetcode.cn/problems/trapping-rain-water/description/)\n",
    "\n",
    "- 给定 n 个非负整数表示每个宽度为 1 的柱子的高度图，计算按此排列的柱子，下雨之后能接多少雨水。\n",
    "\n",
    "- 示例1：\n",
    "\n",
    "<div align=\"center\" style=\"text-align: center;\">\n",
    "    <img src=\"../image/10-56-1.png\" style=\"width: 60%;\">\n",
    "</div> \n",
    "\n",
    "```C++\n",
    "输入：height = [0,1,0,2,1,0,1,3,2,1,2,1]\n",
    "输出：6\n",
    "解释：上面是由数组 [0,1,0,2,1,0,1,3,2,1,2,1] 表示的高度图，在这种情况下，可以接 6 个单位的雨水（蓝色部分表示雨水）。 \n",
    "```\n",
    "\n",
    "- 示例2：\n",
    "```C++\n",
    "输入：height = [4,2,0,3,2,5]\n",
    "输出：9\n",
    "```\n",
    "\n",
    "- 提示：\n",
    "    - n == height.length\n",
    "    - 1 <= n <= 2 * 104\n",
    "    - 0 <= height[i] <= 105"
   ]
  },
  {
   "cell_type": "markdown",
   "id": "42d5ee8c",
   "metadata": {},
   "source": [
    "## 代码示例\n",
    "- 动态规划\n",
    "    - leftMax[i]：对于第 i 列，左边最高的墙。rightMax[i]：对于第 i 列，右边最高的墙。\n",
    "    - leftMax[i] = max(leftMax[i - 1], height[i]), rightMax[i] = max(rightMax[i + 1], height[i])，ans += min(leftMax[i], rightMax[i]) - height[i];\n",
    "    - leftMax[0] = height[0]; rightMax[n - 1] = height[n - 1];\n",
    "    - 从左向右遍历\n",
    "    - 时间复杂度：$O(n)$\n",
    "    - 空间复杂度：$O(n)$"
   ]
  },
  {
   "cell_type": "code",
   "execution_count": null,
   "id": "1f6aac49",
   "metadata": {},
   "outputs": [],
   "source": [
    "class Solution {\n",
    "public:\n",
    "    int trap(vector<int>& height) {\n",
    "        int n = height.size();\n",
    "        if (n == 0) return 0;\n",
    "\n",
    "        vector<int> leftMax(n);\n",
    "        leftMax[0] = height[0];\n",
    "        for (int i = 1; i < n; i++) {\n",
    "            leftMax[i] = max(leftMax[i - 1], height[i]);\n",
    "        }\n",
    "        \n",
    "        vector<int> rightMax(n);\n",
    "        rightMax[n - 1] = height[n - 1];\n",
    "        for (int i = n - 2; i >= 0; i--) {\n",
    "            rightMax[i] = max(rightMax[i + 1], height[i]);\n",
    "        }\n",
    "\n",
    "        int ans = 0;\n",
    "        for (int i = 0; i < n; i++) {\n",
    "            ans += min(leftMax[i], rightMax[i]) - height[i];\n",
    "        }\n",
    "        return ans;\n",
    "    }\n",
    "};"
   ]
  }
 ],
 "metadata": {
  "kernelspec": {
   "display_name": "Python 3 (ipykernel)",
   "language": "python",
   "name": "python3"
  },
  "language_info": {
   "codemirror_mode": {
    "name": "ipython",
    "version": 3
   },
   "file_extension": ".py",
   "mimetype": "text/x-python",
   "name": "python",
   "nbconvert_exporter": "python",
   "pygments_lexer": "ipython3",
   "version": "3.9.13"
  }
 },
 "nbformat": 4,
 "nbformat_minor": 5
}
