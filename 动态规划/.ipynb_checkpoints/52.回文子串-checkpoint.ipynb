{
 "cells": [
  {
   "cell_type": "markdown",
   "id": "307aef0b",
   "metadata": {},
   "source": [
    "# 回文子串\n",
    "\n",
    "## [题目](https://leetcode.cn/problems/palindromic-substrings/description/)\n",
    "\n",
    "- 给定一个字符串，你的任务是计算这个字符串中有多少个回文子串。\n",
    "\n",
    "- 具有不同开始位置或结束位置的子串，即使是由相同的字符组成，也会被视作不同的子串。\n",
    "\n",
    "- 示例1：\n",
    "```C++\n",
    "输入：\"abc\"\n",
    "输出：3\n",
    "解释：三个回文子串: \"a\", \"b\", \"c\"\n",
    "```\n",
    "\n",
    "- 示例2：\n",
    "```C++\n",
    "输入：\"aaa\"\n",
    "输出：6\n",
    "解释：6个回文子串: \"a\", \"a\", \"a\", \"aa\", \"aa\", \"aaa\"\n",
    "```\n",
    "\n",
    "- 提示：\n",
    "    - 输入的字符串长度不会超过 1000"
   ]
  },
  {
   "cell_type": "markdown",
   "id": "cac4e52c",
   "metadata": {},
   "source": [
    "## 代码示例\n",
    "- 字符串方法\n",
    "    - 长度为 n 的字符串会生成 2n−1 组回文中心 $[l_i,r_i]$，其中 $l = i / 2$ 向下取整，$r_i = l_i + (i\\mod2)$。这样我们只要从 0 到 2n−2 遍历 i，就可以得到所有可能的回文中心，这样就把奇数长度和偶数长度两种情况统一起来了"
   ]
  },
  {
   "cell_type": "code",
   "execution_count": null,
   "id": "1d4f8890",
   "metadata": {},
   "outputs": [],
   "source": [
    "class Solution {\n",
    "public:\n",
    "    int countSubstrings(string s) {\n",
    "        int n = s.size(), ans = 0;\n",
    "        for (int i = 0; i < 2 * n - 1; i++) {\n",
    "            int l = i / 2, r = i / 2 + i % 2;\n",
    "            while (l >= 0 && r < n && s[l] == s[r]) {\n",
    "                l--;\n",
    "                r++;\n",
    "                ans++;\n",
    "            }\n",
    "        }\n",
    "        return ans;\n",
    "    }\n",
    "};"
   ]
  }
 ],
 "metadata": {
  "kernelspec": {
   "display_name": "Python 3 (ipykernel)",
   "language": "python",
   "name": "python3"
  },
  "language_info": {
   "codemirror_mode": {
    "name": "ipython",
    "version": 3
   },
   "file_extension": ".py",
   "mimetype": "text/x-python",
   "name": "python",
   "nbconvert_exporter": "python",
   "pygments_lexer": "ipython3",
   "version": "3.9.13"
  }
 },
 "nbformat": 4,
 "nbformat_minor": 5
}
