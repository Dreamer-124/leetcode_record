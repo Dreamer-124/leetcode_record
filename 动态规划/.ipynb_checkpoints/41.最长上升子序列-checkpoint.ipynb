{
 "cells": [
  {
   "cell_type": "markdown",
   "id": "b1a0c65d",
   "metadata": {},
   "source": [
    "# 最长上升子序列\n",
    "\n",
    "## [题目](https://leetcode.cn/problems/longest-increasing-subsequence/description/)\n",
    "\n",
    "- 给你一个整数数组 nums ，找到其中最长严格递增子序列的长度。\n",
    "\n",
    "- 子序列是由数组派生而来的序列，删除（或不删除）数组中的元素而不改变其余元素的顺序。例如，[3,6,2,7] 是数组 [0,3,1,6,2,2,7] 的子序列。\n",
    "\n",
    "- 示例1：\n",
    "```C++\n",
    "输入：nums = [10,9,2,5,3,7,101,18]\n",
    "输出：4\n",
    "解释：最长递增子序列是 [2,3,7,101]，因此长度为 4 。\n",
    "```\n",
    "\n",
    "- 示例2：\n",
    "```C++\n",
    "输入：nums = [0,1,0,3,2,3]\n",
    "输出：4\n",
    "```\n",
    "\n",
    "- 示例3：\n",
    "```C++\n",
    "输入：nums = [7,7,7,7,7,7,7]\n",
    "输出：1\n",
    "```\n",
    "\n",
    "- 提示：\n",
    "    - 1 <= nums.length <= 2500\n",
    "    - $-10^4$ <= nums[i] <= $10^4$"
   ]
  },
  {
   "cell_type": "markdown",
   "id": "b7abc3fc",
   "metadata": {},
   "source": [
    "## 代码示例\n",
    "- 动态规划法\n",
    "    - dp[i]表示i之前包括i的以nums[i]结尾的最长递增子序列的长度\n",
    "    - 定义状态转移方程：if (nums[i] > nums[j]) dp[i] = max(dp[i], dp[j] + 1);\n",
    "    - 每一个i，对应的dp[i]（即最长递增子序列）起始大小至少都是1.\n",
    "    - 前向后遍历\n",
    "    - 时间复杂度：$O(n^2)$\n",
    "    - 空间复杂度：$O(n)$"
   ]
  },
  {
   "cell_type": "code",
   "execution_count": null,
   "id": "a949f7cf",
   "metadata": {},
   "outputs": [],
   "source": [
    "class Solution {\n",
    "public:\n",
    "    int lengthOfLIS(vector<int>& nums) {\n",
    "        if (nums.size() <= 1) return nums.size();\n",
    "        vector<int> dp(nums.size(), 1);\n",
    "        int result = 0;\n",
    "        for (int i = 1; i < nums.size(); i++) {\n",
    "            for (int j = 0; j < i; j++) {\n",
    "                if (nums[i] > nums[j]) dp[i] = max(dp[i], dp[j] + 1);\n",
    "            }\n",
    "            if (dp[i] > result) result = dp[i]; // 取长的子序列\n",
    "        }\n",
    "        return result;\n",
    "    }\n",
    "};"
   ]
  }
 ],
 "metadata": {
  "kernelspec": {
   "display_name": "Python 3 (ipykernel)",
   "language": "python",
   "name": "python3"
  },
  "language_info": {
   "codemirror_mode": {
    "name": "ipython",
    "version": 3
   },
   "file_extension": ".py",
   "mimetype": "text/x-python",
   "name": "python",
   "nbconvert_exporter": "python",
   "pygments_lexer": "ipython3",
   "version": "3.9.13"
  }
 },
 "nbformat": 4,
 "nbformat_minor": 5
}
