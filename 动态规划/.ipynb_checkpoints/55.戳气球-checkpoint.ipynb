{
 "cells": [
  {
   "cell_type": "markdown",
   "id": "9855303b",
   "metadata": {},
   "source": [
    "# 戳气球\n",
    "\n",
    "## [题目](https://leetcode.cn/problems/house-robber-iii/description/)\n",
    "\n",
    "- 现在要求你戳破所有的气球。戳破第 i 个气球，你可以获得 nums[i - 1] * nums[i] * nums[i + 1] 枚硬币。 这里的 i - 1 和 i + 1 代表和 i 相邻的两个气球的序号。如果 i - 1或 i + 1 超出了数组的边界，那么就当它是一个数字为 1 的气球。\n",
    "\n",
    "- 求所能获得硬币的最大数量。\n",
    "\n",
    "- 示例 1：\n",
    "```C++\n",
    "输入：nums = [3,1,5,8]\n",
    "输出：167\n",
    "解释：\n",
    "nums = [3,1,5,8] --> [3,5,8] --> [3,8] --> [8] --> []\n",
    "coins =  3*1*5    +   3*5*8   +  1*3*8  + 1*8*1 = 167\n",
    "```\n",
    "\n",
    "- 示例 2：\n",
    "```C++\n",
    "输入：nums = [1,5]\n",
    "输出：10\n",
    "```"
   ]
  },
  {
   "cell_type": "markdown",
   "id": "50ba0e98",
   "metadata": {},
   "source": [
    "## 代码示例\n",
    "- 动态规划\n",
    "    - dp 数组的含义：dp[i][j] = x 表示，戳破气球 i 和气球 j 之间（开区间，不包括 i 和 j）的所有气球，可以获得的最高分数为 x\n",
    "    - 状态转移方程：dp[i][j] = dp[i][k] + dp[k][j] + points[i]* points[k]* points[j]\n",
    "    - dp 初始化为 0\n",
    "    - dp 的遍历顺序为 i 从达到下，j 从小到大，因为 i < k < j"
   ]
  },
  {
   "cell_type": "code",
   "execution_count": null,
   "id": "93b993c9",
   "metadata": {},
   "outputs": [],
   "source": [
    "class Solution {\n",
    "public:\n",
    "    int maxCoins(vector<int>& nums) {\n",
    "        int n = nums.size();\n",
    "        // 添加两侧的虚拟气球\n",
    "        vector<int> points(n + 2);\n",
    "        points[0] = points[n + 1] = 1;\n",
    "        for (int i = 1; i <= n; i++) {\n",
    "            points[i] = nums[i - 1];\n",
    "        }\n",
    "\n",
    "        // base case 已经都被初始化为 0\n",
    "        vector<vector<int>> dp(n + 2, vector<int> (n + 2, 0));\n",
    "        // 开始状态转移\n",
    "        // i 应该从下往上\n",
    "        for (int i  = n; i >= 0; i--) {\n",
    "            // j 应该从左往右\n",
    "            for (int j = i + 1; j < n + 2; j++) {\n",
    "                // 最后戳破的气球是哪个？\n",
    "                for (int k = i + 1; k < j; k++) {\n",
    "                    // 择优做选择\n",
    "                    dp[i][j] = max(\n",
    "                        dp[i][j], \n",
    "                        dp[i][k] + dp[k][j] + points[i] * points[k] * points[j]\n",
    "                    );\n",
    "                }\n",
    "            }\n",
    "        }\n",
    "        return dp[0][n + 1];\n",
    "    }\n",
    "};"
   ]
  }
 ],
 "metadata": {
  "kernelspec": {
   "display_name": "Python 3 (ipykernel)",
   "language": "python",
   "name": "python3"
  },
  "language_info": {
   "codemirror_mode": {
    "name": "ipython",
    "version": 3
   },
   "file_extension": ".py",
   "mimetype": "text/x-python",
   "name": "python",
   "nbconvert_exporter": "python",
   "pygments_lexer": "ipython3",
   "version": "3.9.13"
  }
 },
 "nbformat": 4,
 "nbformat_minor": 5
}
