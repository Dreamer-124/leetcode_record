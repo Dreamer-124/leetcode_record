{
 "cells": [
  {
   "cell_type": "markdown",
   "id": "0e8fdbc9",
   "metadata": {},
   "source": [
    "# 正则表达式匹配\n",
    "\n",
    "## [题目](https://leetcode.cn/problems/regular-expression-matching/description/)\n",
    "\n",
    "- 给你一个字符串 s 和一个字符规律 p，请你来实现一个支持 '.' 和 '*' 的正则表达式匹配。\n",
    "\n",
    "- '.' 匹配任意单个字符\n",
    "\n",
    "- '*' 匹配零个或多个前面的那一个元素\n",
    "\n",
    "- 所谓匹配，是要涵盖 整个 字符串 s 的，而不是部分字符串。\n",
    "\n",
    "- 示例1：\n",
    "```C++\n",
    "输入：s = \"aa\", p = \"a\"\n",
    "输出：false\n",
    "解释：\"a\" 无法匹配 \"aa\" 整个字符串。\n",
    "```\n",
    "\n",
    "- 示例2：\n",
    "```C++\n",
    "输入：s = \"aa\", p = \"a*\"\n",
    "输出：true\n",
    "解释：因为 '*' 代表可以匹配零个或多个前面的那一个元素, 在这里前面的元素就是 'a'。因此，字符串 \"aa\" 可被视为 'a' 重复了一次。\n",
    "```\n",
    "\n",
    "- 示例3：\n",
    "```C++\n",
    "输入：s = \"ab\", p = \".*\"\n",
    "输出：true\n",
    "解释：\".*\" 表示可匹配零个或多个（'*'）任意字符（'.'）。\n",
    "```\n",
    "\n",
    "- 提示：\n",
    "    - 1 <= s.length <= 20\n",
    "    - 1 <= p.length <= 20\n",
    "    - s 只包含从 a-z 的小写字母。\n",
    "    - p 只包含从 a-z 的小写字母，以及字符 . 和 *。\n",
    "    - 保证每次出现字符 * 时，前面都匹配到有效的字符"
   ]
  },
  {
   "cell_type": "markdown",
   "id": "078f0ade",
   "metadata": {},
   "source": [
    "## 代码示例\n",
    "- 动态规划法\n",
    "    - f[i][j] 表示 s 的前 i 个字符与 p 中的前 j 个字符是否能够匹配\n",
    "    - f[i][j] = f[i][j - 2]; if (matches(i, j - 1)) f[i][j] |= f[i - 1][j]; if (matches(i, j)) f[i][j] |= f[i - 1][j - 1];\n",
    "    - 从左向右遍历\n",
    "    - 初始化 f[0][0]=true"
   ]
  },
  {
   "cell_type": "code",
   "execution_count": null,
   "id": "132d0c9d",
   "metadata": {},
   "outputs": [],
   "source": [
    "class Solution {\n",
    "public:\n",
    "    bool isMatch(string s, string p) {\n",
    "        int m = s.size();\n",
    "        int n = p.size();\n",
    "        \n",
    "        // Lambda 表达式，用于判断字符串 s 的第 i 个字符和模式 p 的第 j 个字符是否匹配\n",
    "        auto matches = [&](int i, int j) {\n",
    "            if (i == 0) return false;\n",
    "            if (p[j - 1] == '.') return true;\n",
    "            return s[i - 1] == p[j - 1];\n",
    "        };\n",
    "\n",
    "        vector<vector<int>> f(m + 1, vector<int>(n + 1));\n",
    "        f[0][0] = true;\n",
    "        for (int i = 0; i <= m; i++) {\n",
    "            for (int j = 1; j <= n; j++) {\n",
    "                if (p[j - 1] == '*') {\n",
    "                    f[i][j] = f[i][j - 2];\n",
    "                    if (matches(i, j - 1)) f[i][j] |= f[i - 1][j];\n",
    "                } else {\n",
    "                    if (matches(i, j)) f[i][j] |= f[i - 1][j - 1];\n",
    "                }\n",
    "            }\n",
    "        }\n",
    "        return f[m][n];\n",
    "    }\n",
    "};"
   ]
  }
 ],
 "metadata": {
  "kernelspec": {
   "display_name": "Python 3 (ipykernel)",
   "language": "python",
   "name": "python3"
  },
  "language_info": {
   "codemirror_mode": {
    "name": "ipython",
    "version": 3
   },
   "file_extension": ".py",
   "mimetype": "text/x-python",
   "name": "python",
   "nbconvert_exporter": "python",
   "pygments_lexer": "ipython3",
   "version": "3.9.13"
  }
 },
 "nbformat": 4,
 "nbformat_minor": 5
}
