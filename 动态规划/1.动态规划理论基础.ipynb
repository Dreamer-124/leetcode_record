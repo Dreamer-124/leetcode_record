{
 "cells": [
  {
   "cell_type": "markdown",
   "id": "3b44f040",
   "metadata": {},
   "source": [
    "# 1.动态规划理论基础\n",
    "\n",
    "## 1.1 什么是动态规划？\n",
    "- 如果某一问题有很多重叠子问题，使用动态规划是最有效的。\n",
    "- 动态规划是由前一个状态推导出来的，而贪心是局部直接选最优的。\n",
    "\n",
    "## 1.2 动态规划的结题步骤是什么？\n",
    "- step1：确定 dp 数组（dp table）以及下标的含义\n",
    "- step2：确定递推公式\n",
    "- step3：dp 数组如何初始化\n",
    "- step4：确定遍历顺序\n",
    "- step5：举例推导 dp 数组\n",
    "\n",
    "## 1.3 动态规划应该如何 debug？\n",
    "- 找问题的最好方式就是把 dp 数组打印出来，看看究竟是不是按照自己思路推导的\n",
    "- 做动态规划的题目，写代码之前一定要把状态转移在 dp 数组上的具体情况模拟一遍，心中有数，确定最后推出的是想要的结果\n",
    "- 在刷题的时候，就锻炼自己养成专业提问的好习惯。"
   ]
  }
 ],
 "metadata": {
  "kernelspec": {
   "display_name": "Python 3 (ipykernel)",
   "language": "python",
   "name": "python3"
  },
  "language_info": {
   "codemirror_mode": {
    "name": "ipython",
    "version": 3
   },
   "file_extension": ".py",
   "mimetype": "text/x-python",
   "name": "python",
   "nbconvert_exporter": "python",
   "pygments_lexer": "ipython3",
   "version": "3.9.13"
  }
 },
 "nbformat": 4,
 "nbformat_minor": 5
}
