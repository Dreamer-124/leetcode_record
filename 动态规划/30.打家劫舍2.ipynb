{
 "cells": [
  {
   "cell_type": "markdown",
   "id": "249fce3f",
   "metadata": {},
   "source": [
    "# 打家劫舍2\n",
    "\n",
    "## [题目](https://leetcode.cn/problems/house-robber-ii/description/)\n",
    "- 你是一个专业的小偷，计划偷窃沿街的房屋，每间房内都藏有一定的现金。这个地方所有的房屋都 围成一圈 ，这意味着第一个房屋和最后一个房屋是紧挨着的。同时，相邻的房屋装有相互连通的防盗系统，如果两间相邻的房屋在同一晚上被小偷闯入，系统会自动报警 。\n",
    "\n",
    "- 给定一个代表每个房屋存放金额的非负整数数组，计算你 在不触动警报装置的情况下 ，能够偷窃到的最高金额。\n",
    "\n",
    "- 示例1：\n",
    "```C++\n",
    "输入：nums = [2,3,2]\n",
    "输出：3\n",
    "解释：你不能先偷窃 1 号房屋（金额 = 2），然后偷窃 3 号房屋（金额 = 2）, 因为他们是相邻的。\n",
    "```\n",
    "\n",
    "- 示例2：\n",
    "```C++\n",
    "输入：nums = [1,2,3,1]\n",
    "输出：4\n",
    "解释：你可以先偷窃 1 号房屋（金额 = 1），然后偷窃 3 号房屋（金额 = 3）。偷窃到的最高金额 = 1 + 3 = 4 。\n",
    "```\n",
    "\n",
    "- 示例3：\n",
    "```C++\n",
    "输入：nums = [0]\n",
    "输出：0\n",
    "```\n",
    "\n",
    "- 提示：\n",
    "    - 1 <= nums.length <= 100\n",
    "    - 0 <= nums[i] <= 1000"
   ]
  },
  {
   "cell_type": "markdown",
   "id": "e8616be7",
   "metadata": {},
   "source": [
    "## 代码示例\n",
    "- 动态规划：\n",
    "    - dp[i] 表示当前第 i 个以内的房屋，最多可以偷窃的金额为 dp[i]\n",
    "    - 状态转移方程：dp[i] = max(dp[i - 1], dp[i - 2] + nums[i])\n",
    "    - 但是需要考虑三种情况，就是考虑包含首元素，不包含尾元素，考虑包含尾元素，不包含首元素,考虑首尾元素都不包含的。其中前两种情况就包含了第三种情况\n",
    "    - 时间复杂度：$O(n)$\n",
    "    - 空间复杂度：$O(n)$"
   ]
  },
  {
   "cell_type": "code",
   "execution_count": null,
   "id": "b8fae232",
   "metadata": {},
   "outputs": [],
   "source": [
    "class Solution {\n",
    "public:\n",
    "    int rob(vector<int>& nums) {\n",
    "        if (nums.size() == 0) return 0;\n",
    "        if (nums.size() == 1) return nums[0];\n",
    "        int result1 = robRange(nums, 0, nums.size() - 2);\n",
    "        int result2 = robRange(nums, 1, nums.size() - 1);\n",
    "        return max(result1, result2);\n",
    "    }\n",
    "\n",
    "    int robRange(vector<int>& nums, int start, int end) {\n",
    "        if (end == start) return nums[start];\n",
    "        vector<int> dp(nums.size(), 0);\n",
    "        dp[start] = nums[start];\n",
    "        dp[start + 1] = max(nums[start], nums[start + 1]);\n",
    "        for (int i  = start + 2; i <= end; i++) {\n",
    "            dp[i] = max(dp[i - 1], dp[i - 2] + nums[i]);\n",
    "        }\n",
    "        return dp[end];\n",
    "    }\n",
    "};"
   ]
  }
 ],
 "metadata": {
  "kernelspec": {
   "display_name": "Python 3 (ipykernel)",
   "language": "python",
   "name": "python3"
  },
  "language_info": {
   "codemirror_mode": {
    "name": "ipython",
    "version": 3
   },
   "file_extension": ".py",
   "mimetype": "text/x-python",
   "name": "python",
   "nbconvert_exporter": "python",
   "pygments_lexer": "ipython3",
   "version": "3.9.13"
  }
 },
 "nbformat": 4,
 "nbformat_minor": 5
}
