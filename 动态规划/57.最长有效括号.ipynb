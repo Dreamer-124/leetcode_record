{
 "cells": [
  {
   "cell_type": "markdown",
   "id": "d9f800b9",
   "metadata": {},
   "source": [
    "# 最长有效括号\n",
    "\n",
    "## [题目](https://leetcode.cn/problems/longest-valid-parentheses/description/)\n",
    "\n",
    "- 给你一个只包含 '(' 和 ')' 的字符串，找出最长有效（格式正确且连续）括号子串的长度。\n",
    "\n",
    "- 示例1：\n",
    "```C++\n",
    "输入：s = \"(()\"\n",
    "输出：2\n",
    "解释：最长有效括号子串是 \"()\"\n",
    "```\n",
    "\n",
    "- 示例2：\n",
    "```C++\n",
    "输入：s = \")()())\"\n",
    "输出：4\n",
    "解释：最长有效括号子串是 \"()()\"\n",
    "```\n",
    "\n",
    "- 示例3：\n",
    "```C++\n",
    "输入：s = \"\"\n",
    "输出：0\n",
    "```\n",
    "\n",
    "- 提示：\n",
    "    - 0 <= s.length <= 3 * 104\n",
    "    - s[i] 为 '(' 或 ')'"
   ]
  },
  {
   "cell_type": "markdown",
   "id": "acd97d0b",
   "metadata": {},
   "source": [
    "## 代码示例\n",
    "- 动态规划法\n",
    "    - dp[i] 表示以下标 i 字符结尾的最长有效括号的长度\n",
    "    - 分情况讨论可以得到详尽的 dp 方程：dp[i] = (i >= 2 ? dp[i - 2] : 0) + 2; dp[i] = dp[i - 1] + ((i - dp[i - 1]) >= 2 ? dp[i - dp[i - 1] - 2] : 0) + 2;\n",
    "    - 初始化所有的 dp[i] 都等于 0\n",
    "    - 从左往右遍历\n",
    "    - 时间复杂度：$O(n)$\n",
    "    - 空间复杂度：$O(n)$"
   ]
  },
  {
   "cell_type": "code",
   "execution_count": null,
   "id": "460890d6",
   "metadata": {},
   "outputs": [],
   "source": [
    "class Solution {\n",
    "public:\n",
    "    int longestValidParentheses(string s) {\n",
    "        int maxman = 0, size = s.size();\n",
    "        vector<int> dp(size, 0);\n",
    "\n",
    "        for (int i = 1; i < size; i++) {\n",
    "            if (s[i] == ')') {\n",
    "                if (s[i - 1] == '(') {\n",
    "                    dp[i] = (i >= 2 ? dp[i - 2] : 0) + 2;\n",
    "                } else if (i - dp[i - 1] > 0 && s[i - dp[i - 1] - 1] == '(') {\n",
    "                   dp[i] = dp[i - 1] + ((i - dp[i - 1]) >= 2 ? dp[i - dp[i - 1] - 2] : 0) + 2;\n",
    "                }\n",
    "            }\n",
    "            maxman = max(maxman, dp[i]);\n",
    "        }\n",
    "\n",
    "        return maxman;     \n",
    "    }\n",
    "};"
   ]
  }
 ],
 "metadata": {
  "kernelspec": {
   "display_name": "Python 3 (ipykernel)",
   "language": "python",
   "name": "python3"
  },
  "language_info": {
   "codemirror_mode": {
    "name": "ipython",
    "version": 3
   },
   "file_extension": ".py",
   "mimetype": "text/x-python",
   "name": "python",
   "nbconvert_exporter": "python",
   "pygments_lexer": "ipython3",
   "version": "3.9.13"
  }
 },
 "nbformat": 4,
 "nbformat_minor": 5
}
