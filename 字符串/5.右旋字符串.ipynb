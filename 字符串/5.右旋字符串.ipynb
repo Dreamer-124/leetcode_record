{
 "cells": [
  {
   "cell_type": "markdown",
   "id": "e6ea71f6",
   "metadata": {},
   "source": [
    "# 右旋字符串\n",
    "\n",
    "## [题目](https://kamacoder.com/problempage.php?pid=1065)\n",
    "- 字符串的右旋转操作是把字符串尾部的若干个字符转移到字符串的前面。给定一个字符串 s 和一个正整数 k，请编写一个函数，将字符串中的后面 k 个字符移到字符串的前面，实现字符串的右旋转操作。 \n",
    "\n",
    "- 示例1：\n",
    "```C++\n",
    "对于输入字符串 \"abcdefg\" 和整数 2，函数应该将其转换为 \"fgabcde\"。\n",
    "```\n",
    "\n",
    "- 输入描述\n",
    "    - 输入共包含两行，第一行为一个正整数 k，代表右旋转的位数。第二行为字符串 s，代表需要旋转的字符串。\n",
    "\n",
    "- 输出描述\n",
    "    - 输出共一行，为进行了右旋转操作后的字符串。\n",
    "\n",
    "- 提示信息\n",
    "    - 数据范围：1 <= k < 10000, 1 <= s.length < 10000;"
   ]
  },
  {
   "cell_type": "markdown",
   "id": "32d9574a",
   "metadata": {},
   "source": [
    "## 代码示例\n",
    "- 时间复杂度：$O(n)$\n",
    "- 空间复杂度：$O(1)$"
   ]
  },
  {
   "cell_type": "code",
   "execution_count": null,
   "id": "be34db9c",
   "metadata": {},
   "outputs": [],
   "source": [
    "#include<iostream>\n",
    "#include<algorithm>\n",
    "using namespace std;\n",
    "\n",
    "int main() {\n",
    "    // 处理输入\n",
    "    int k;\n",
    "    string s;\n",
    "    cin >> k;\n",
    "    cin >> s;\n",
    "\n",
    "    // 将所有字符进行翻转\n",
    "    reverse(s.begin(), s.end());\n",
    "    // 将前k个字符翻转\n",
    "    reverse(s.begin(), s.begin() + k);\n",
    "    // 将剩余的字符翻转，既可得到最终结果\n",
    "    reverse(s.begin() + k, s.end());\n",
    "\n",
    "    cout << s << endl;\n",
    "}"
   ]
  }
 ],
 "metadata": {
  "language_info": {
   "name": "python"
  }
 },
 "nbformat": 4,
 "nbformat_minor": 5
}
