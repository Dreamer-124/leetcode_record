{
 "cells": [
  {
   "cell_type": "markdown",
   "id": "f9ff5545",
   "metadata": {},
   "source": [
    "# 重复的子字符串\n",
    "\n",
    "## [题目](https://leetcode.cn/problems/repeated-substring-pattern/description/)\n",
    "- 给定一个非空的字符串 s ，检查是否可以通过由它的一个子串重复多次构成\n",
    "\n",
    "- 示例1：\n",
    "```C++\n",
    "输入: s = \"abab\"\n",
    "输出: true\n",
    "解释: 可由子串 \"ab\" 重复两次构成。\n",
    "```\n",
    "\n",
    "- 示例2：\n",
    "```C++\n",
    "输入: s = \"aba\"\n",
    "输出: false\n",
    "```\n",
    "\n",
    "- 示例3：\n",
    "```C++\n",
    "输入: s = \"abcabcabcabc\"\n",
    "输出: true\n",
    "解释: 可由子串 \"abc\" 重复四次构成。 (或子串 \"abcabc\" 重复两次构成。)\n",
    "```\n",
    "\n",
    "- 提示\n",
    "    - 1 <= s.length <= 104\n",
    "    - s 由小写英文字母组成"
   ]
  },
  {
   "cell_type": "markdown",
   "id": "d9a587f1",
   "metadata": {},
   "source": [
    "## 代码示例\n",
    "- 时间复杂度：$O(n)$\n",
    "- 空间复杂度：$O(1)$"
   ]
  },
  {
   "cell_type": "code",
   "execution_count": null,
   "id": "00d57b43",
   "metadata": {},
   "outputs": [],
   "source": [
    "class Solution {\n",
    "public:\n",
    "    bool repeatedSubstringPattern(string s) {\n",
    "        // 对字符串进行拼接\n",
    "        string t = s + s;\n",
    "        // 掐头去尾\n",
    "        t.erase(t.begin()); t.erase(t.end() - 1); \n",
    "        // 如果发现 s 是 t 的子串，则证明其为重复子字符串\n",
    "        if (t.find(s) != std::string::npos) return true; \n",
    "        // 前面的情况都处理完了，仍然没有发现重复子字符串\n",
    "        return false;\n",
    "    }\n",
    "};"
   ]
  }
 ],
 "metadata": {
  "language_info": {
   "name": "python"
  }
 },
 "nbformat": 4,
 "nbformat_minor": 5
}
