{
 "cells": [
  {
   "cell_type": "markdown",
   "id": "79274844-6da0-4b7a-8ea4-7facdeb5a9b0",
   "metadata": {},
   "source": [
    "# 替换数字\n",
    "\n",
    "## [题目](https://kamacoder.com/problempage.php?pid=1064)\n",
    "- 给定一个字符串 s，它包含小写字母和数字字符，请编写一个函数，将字符串中的字母字符保持不变，而将每个数字字符替换为number。\n",
    "\n",
    "- 示例1：\n",
    "```C++\n",
    "输入：\"a1b2c3\"\n",
    "输出：\"anumberbnumbercnumber\"\n",
    "```\n",
    "\n",
    "- 提示：\n",
    "    - 数据范围：1 <= s.length < 10000"
   ]
  },
  {
   "cell_type": "markdown",
   "id": "a9761067-11f8-400a-ae5b-ae6eb2ce20ed",
   "metadata": {},
   "source": [
    "## 代码示例\n",
    "- 很多数组填充类的问题，做法都是先预先给数组扩容后带填充后的大小，然后再从后向前进行操作。\n",
    "- 时间复杂度：$O(n)$\n",
    "- 空间复杂度：$O(1)$"
   ]
  },
  {
   "cell_type": "code",
   "execution_count": null,
   "id": "cfe29e27-1480-4673-95f4-339344409dc7",
   "metadata": {},
   "outputs": [],
   "source": [
    "#include <iostream>\n",
    "using namespace std;\n",
    "int main() {\n",
    "    string s;\n",
    "    while (cin >> s) {\n",
    "        int sOldIndex = s.size() - 1;\n",
    "        int count = 0; // 统计数字的个数\n",
    "        for (int i = 0; i < s.size(); i++) {\n",
    "            if (s[i] >= '0' && s[i] <= '9') {\n",
    "                count++;\n",
    "            }\n",
    "        }\n",
    "        // 扩充字符串s的大小，也就是将每个数字替换成\"number\"之后的大小\n",
    "        s.resize(s.size() + count * 5);\n",
    "        int sNewIndex = s.size() - 1;\n",
    "        // 从后往前将数字替换为\"number\"并且保留原有的字符\n",
    "        while (sOldIndex >= 0) {\n",
    "            if (s[sOldIndex] >= '0' && s[sOldIndex] <= '9') {\n",
    "                s[sNewIndex--] = 'r';\n",
    "                s[sNewIndex--] = 'e';\n",
    "                s[sNewIndex--] = 'b';\n",
    "                s[sNewIndex--] = 'm';\n",
    "                s[sNewIndex--] = 'u';\n",
    "                s[sNewIndex--] = 'n';\n",
    "            } else {\n",
    "                s[sNewIndex--] = s[sOldIndex];\n",
    "            }\n",
    "            sOldIndex--;\n",
    "        }\n",
    "        cout << s << endl;       \n",
    "    }"
   ]
  }
 ],
 "metadata": {
  "kernelspec": {
   "display_name": "C++17",
   "language": "C++17",
   "name": "xcpp17"
  },
  "language_info": {
   "codemirror_mode": "text/x-c++src",
   "file_extension": ".cpp",
   "mimetype": "text/x-c++src",
   "name": "c++",
   "version": "17"
  }
 },
 "nbformat": 4,
 "nbformat_minor": 5
}
