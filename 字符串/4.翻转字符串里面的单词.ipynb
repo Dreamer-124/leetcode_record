{
 "cells": [
  {
   "cell_type": "markdown",
   "id": "f34a9d90-6511-49bd-800d-7709874ed312",
   "metadata": {},
   "source": [
    "# 翻转字符串里面的单词\n",
    "\n",
    "## [题目](https://leetcode.cn/problems/reverse-words-in-a-string/description/)\n",
    "- 给定一个字符串，逐个翻转字符串中的每个单词。\n",
    "\n",
    "- 示例1：\n",
    "```C++\n",
    "输入: \"the sky is blue\"\n",
    "输出: \"blue is sky the\"\n",
    "```\n",
    "\n",
    "- 示例2：\n",
    "```C++\n",
    "输入: \"  hello world!  \"\n",
    "输出: \"world! hello\"\n",
    "```\n",
    "- （解释：输入字符串可以在前面或者后面包含多余的空格，但是反转后的字符不能包括。）\n",
    "\n",
    "- 示例3：\n",
    "```C++\n",
    "输入: \"a good   example\"\n",
    "输出: \"example good a\"\n",
    "```\n",
    "- （解释：如果两个单词间有多余的空格，将反转后单词间的空格减少到只含一个。）"
   ]
  },
  {
   "cell_type": "markdown",
   "id": "41199b0a-c208-4ab6-94a8-ebeb2be4542a",
   "metadata": {},
   "source": [
    "## 代码示例\n",
    "- 注意字符串操作的库函数 erase 本身就是一个时间复杂度为 $O(n)$ 的操作\n",
    "- 时间复杂度：$O(n)$\n",
    "- 空间复杂度：$O(1)$"
   ]
  },
  {
   "cell_type": "code",
   "execution_count": null,
   "id": "3548a9ee-2b4b-4619-ae98-66c99f8d6100",
   "metadata": {},
   "outputs": [],
   "source": [
    "class Solution {\n",
    "public:\n",
    "    void reverse(string& s, int start, int end){ //翻转，区间写法：左闭右闭 []\n",
    "        for (int i = start, j = end; i < j; i++, j--) {\n",
    "            swap(s[i], s[j]);\n",
    "        }\n",
    "    }\n",
    "\n",
    "    void removeExtraSpaces(string& s) {//去除所有空格并在相邻单词之间添加空格, 快慢指针。\n",
    "        int slow = 0;   //整体思想参考https://programmercarl.com/0027.移除元素.html\n",
    "        for (int i = 0; i < s.size(); ++i) { //\n",
    "            if (s[i] != ' ') { //遇到非空格就处理，即删除所有空格。\n",
    "                if (slow != 0) s[slow++] = ' '; //手动控制空格，给单词之间添加空格。slow != 0说明不是第一个单词，需要在单词前添加空格。\n",
    "                while (i < s.size() && s[i] != ' ') { //补上该单词，遇到空格说明单词结束。\n",
    "                    s[slow++] = s[i++];\n",
    "                }\n",
    "            }\n",
    "        }\n",
    "        s.resize(slow); //slow的大小即为去除多余空格后的大小。\n",
    "    }\n",
    "\n",
    "    string reverseWords(string s) {\n",
    "        removeExtraSpaces(s); //去除多余空格，保证单词之间之只有一个空格，且字符串首尾没空格。\n",
    "        reverse(s, 0, s.size() - 1);\n",
    "        int start = 0; //removeExtraSpaces后保证第一个单词的开始下标一定是0。\n",
    "        for (int i = 0; i <= s.size(); ++i) {\n",
    "            if (i == s.size() || s[i] == ' ') { //到达空格或者串尾，说明一个单词结束。进行翻转。\n",
    "                reverse(s, start, i - 1); //翻转，注意是左闭右闭 []的翻转。\n",
    "                start = i + 1; //更新下一个单词的开始下标start\n",
    "            }\n",
    "        }\n",
    "        return s;\n",
    "    }\n",
    "};"
   ]
  }
 ],
 "metadata": {
  "kernelspec": {
   "display_name": "C++17",
   "language": "C++17",
   "name": "xcpp17"
  },
  "language_info": {
   "codemirror_mode": "text/x-c++src",
   "file_extension": ".cpp",
   "mimetype": "text/x-c++src",
   "name": "c++",
   "version": "17"
  }
 },
 "nbformat": 4,
 "nbformat_minor": 5
}
