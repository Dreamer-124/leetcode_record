{
 "cells": [
  {
   "cell_type": "markdown",
   "id": "ccfff95e-f48f-45d3-a7dd-17297d7f34b2",
   "metadata": {},
   "source": [
    "# 反转字符串II\n",
    "\n",
    "## [题目](https://leetcode.cn/problems/reverse-string-ii/description/)\n",
    "- 给定一个字符串 s 和一个整数 k，从字符串开头算起, 每计数至 2k 个字符，就反转这 2k 个字符中的前 k 个字符。\n",
    "\n",
    "- 如果剩余字符少于 k 个，则将剩余字符全部反转。\n",
    "\n",
    "- 如果剩余字符小于 2k 但大于或等于 k 个，则反转前 k 个字符，其余字符保持原样。\n",
    "\n",
    "- 示例1：\n",
    "```C++\n",
    "给定 nums = [2, 7, 11, 15], target = 9\n",
    "\n",
    "因为 nums[0] + nums[1] = 2 + 7 = 9\n",
    "\n",
    "所以返回 [0, 1]\n",
    "```"
   ]
  },
  {
   "cell_type": "markdown",
   "id": "d85a71b4-51d9-4b3e-b296-9fd66820aa4c",
   "metadata": {},
   "source": [
    "## 代码示例\n",
    "- 延续反转字符串的思路，使用 reserve 进行求解\n",
    "    - 当需要固定规律一段一段去处理字符串的时候，要想想在在for循环的表达式上做做文章\n",
    "    - 时间复杂度：$O(n)$\n",
    "    - 空间复杂度：$O(1)$"
   ]
  },
  {
   "cell_type": "code",
   "execution_count": null,
   "id": "4ca9268e-a984-4575-9c17-80a7876b2a7d",
   "metadata": {},
   "outputs": [],
   "source": [
    "class Solution {\n",
    "public:\n",
    "    string reverseStr(string s, int k) {\n",
    "        for (int i = 0; i < s.size(); i += (2 * k)) {\n",
    "            // 1. 每隔 2k 个字符的前 k 个字符进行反转\n",
    "            // 2. 剩余字符小于 2k 但大于或等于 k 个，则反转前 k 个字符\n",
    "            if (i + k <= s.size()) {\n",
    "                reverse(s.begin() + i, s.begin() + i + k );\n",
    "            } else {\n",
    "                // 3. 剩余字符少于 k 个，则将剩余字符全部反转。\n",
    "                reverse(s.begin() + i, s.end());\n",
    "            }\n",
    "        }\n",
    "        return s;\n",
    "    }\n",
    "};"
   ]
  }
 ],
 "metadata": {
  "kernelspec": {
   "display_name": "C++17",
   "language": "C++17",
   "name": "xcpp17"
  },
  "language_info": {
   "codemirror_mode": "text/x-c++src",
   "file_extension": ".cpp",
   "mimetype": "text/x-c++src",
   "name": "c++",
   "version": "17"
  }
 },
 "nbformat": 4,
 "nbformat_minor": 5
}
