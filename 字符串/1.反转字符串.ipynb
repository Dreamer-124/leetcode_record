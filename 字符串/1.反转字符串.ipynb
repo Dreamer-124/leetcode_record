{
 "cells": [
  {
   "cell_type": "markdown",
   "id": "f075b4bb-d7d7-4a98-b14e-0c150440869c",
   "metadata": {},
   "source": [
    "## 反转字符串\n",
    "\n",
    "## [题目](https://leetcode.cn/problems/reverse-string/description/)\n",
    "- 编写一个函数，其作用是将输入的字符串反转过来。输入字符串以字符数组 char[] 的形式给出。\n",
    "\n",
    "- 不要给另外的数组分配额外的空间，你必须原地修改输入数组、使用 O(1) 的额外空间解决这一问题。\n",
    "\n",
    "- 你可以假设数组中的所有字符都是 ASCII 码表中的可打印字符。\n",
    "\n",
    "- 示例1：\n",
    "```C++\n",
    "给定 nums = [2, 7, 11, 15], target = 9\n",
    "\n",
    "因为 nums[0] + nums[1] = 2 + 7 = 9\n",
    "\n",
    "所以返回 [0, 1]\n",
    "```"
   ]
  },
  {
   "cell_type": "markdown",
   "id": "85abbf56-4f45-43d3-bf29-add6e605a5aa",
   "metadata": {},
   "source": [
    "## 代码示例\n",
    "- 双指针法求解\n",
    "    - 在字符串相关的题目中，库函数对大家的诱惑力是非常大的，因为会有各种反转，切割取词之类的操作\n",
    "    - 时间复杂度：$O(n)$\n",
    "    - 空间复杂度：$O(1)$"
   ]
  },
  {
   "cell_type": "code",
   "execution_count": null,
   "id": "7642fdd2-a4e4-4bac-b3d3-b60120097c65",
   "metadata": {},
   "outputs": [],
   "source": [
    "class Solution {\n",
    "public:\n",
    "    void reverseString(vector<char>& s) {\n",
    "        for (int i = 0, j = s.size() - 1; i < s.size()/2; i++, j--) {\n",
    "            swap(s[i],s[j]);\n",
    "        }\n",
    "    }\n",
    "};"
   ]
  }
 ],
 "metadata": {
  "kernelspec": {
   "display_name": "C++17",
   "language": "C++17",
   "name": "xcpp17"
  },
  "language_info": {
   "codemirror_mode": "text/x-c++src",
   "file_extension": ".cpp",
   "mimetype": "text/x-c++src",
   "name": "c++",
   "version": "17"
  }
 },
 "nbformat": 4,
 "nbformat_minor": 5
}
