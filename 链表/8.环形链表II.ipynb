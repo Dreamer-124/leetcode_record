{
 "cells": [
  {
   "cell_type": "markdown",
   "id": "ade321ab-6252-4d8b-8f10-d930e92b1e5c",
   "metadata": {},
   "source": [
    "# 环形链表II\n",
    "\n",
    "## [题目](https://leetcode.cn/problems/linked-list-cycle-ii/)\n",
    "- 题意： 给定一个链表，返回链表开始入环的第一个节点。 如果链表无环，则返回 null。\n",
    "\n",
    "- 为了表示给定链表中的环，使用整数 pos 来表示链表尾连接到链表中的位置（索引从 0 开始）。 如果 pos 是 -1，则在该链表中没有环。\n",
    "\n",
    "- 说明：不允许修改给定的链表。\n",
    "\n",
    "- 示例1：\n",
    "![](../image/2-8-1.png)"
   ]
  },
  {
   "cell_type": "markdown",
   "id": "cc0b050e-aac7-4db6-9da3-e2de175fe127",
   "metadata": {},
   "source": [
    "## 代码示例\n",
    "- 快慢指针法\n",
    "    -  fast指针一定先进入环中，如果fast指针和slow指针相遇的话，一定是在环中相遇，这是毋庸置疑的，因为相对于slow来说，fast是一个节点一个节点的靠近slow的\n",
    "    -  从头结点出发一个指针，从相遇节点 也出发一个指针，这两个指针每次只走一个节点， 那么当这两个指针相遇的时候就是 环形入口的节点\n",
    "    -  时间复杂度：$O(n)$\n",
    "    -  空间复杂度：$O(1)$"
   ]
  },
  {
   "cell_type": "code",
   "execution_count": null,
   "id": "15059459-8be4-43a0-a184-0bfe7d7f55f3",
   "metadata": {},
   "outputs": [],
   "source": [
    "/**\n",
    " * Definition for singly-linked list.\n",
    " * struct ListNode {\n",
    " *     int val;\n",
    " *     ListNode *next;\n",
    " *     ListNode(int x) : val(x), next(NULL) {}\n",
    " * };\n",
    " */\n",
    "class Solution {\n",
    "public:\n",
    "    ListNode *detectCycle(ListNode *head) {\n",
    "        // 初始化快慢指针\n",
    "        ListNode* fast = head;\n",
    "        ListNode* slow = head;\n",
    "        \n",
    "        // 确保快指针有效然后进行循环\n",
    "        while(fast != NULL && fast->next != NULL) {\n",
    "            // 移动快慢指针\n",
    "            slow = slow->next;\n",
    "            fast = fast->next->next;\n",
    "            // 快慢指针相遇，此时从head 和 相遇点，同时查找直至相遇\n",
    "            if (slow == fast) {\n",
    "                ListNode* index1 = fast;\n",
    "                ListNode* index2 = head;\n",
    "                while (index1 != index2) {\n",
    "                    index1 = index1->next;\n",
    "                    index2 = index2->next;\n",
    "                }\n",
    "                return index2; // 返回环的入口\n",
    "            }\n",
    "        }\n",
    "        return NULL;\n",
    "    }\n",
    "};"
   ]
  }
 ],
 "metadata": {
  "kernelspec": {
   "display_name": "C++17",
   "language": "C++17",
   "name": "xcpp17"
  },
  "language_info": {
   "codemirror_mode": "text/x-c++src",
   "file_extension": ".cpp",
   "mimetype": "text/x-c++src",
   "name": "c++",
   "version": "17"
  }
 },
 "nbformat": 4,
 "nbformat_minor": 5
}
