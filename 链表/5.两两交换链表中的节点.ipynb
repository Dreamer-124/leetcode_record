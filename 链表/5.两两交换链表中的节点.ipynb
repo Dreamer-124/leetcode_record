{
 "cells": [
  {
   "cell_type": "markdown",
   "id": "57be30e3-0dda-4654-97a4-b3311001818d",
   "metadata": {},
   "source": [
    "# 两两交换链表中的节点\n",
    "\n",
    "## [题目](https://leetcode.cn/problems/swap-nodes-in-pairs/description/)\n",
    "- 给定一个链表，两两交换其中相邻的节点，并返回交换后的链表，你不能只是单纯地改变节点内部的值，而是需要实际地进行节点交换\n",
    "\n",
    "- 示例1：\n",
    "```C++\n",
    "输入：head = [1,2,3,4]\n",
    "输出：[2,1,4,3]\n",
    "```\n",
    "\n",
    "- 示例2：\n",
    "```C++\n",
    "输入：head = []\n",
    "输出：[]\n",
    "```\n",
    "\n",
    "- 示例3：\n",
    "```C++\n",
    "输入：head = [1]\n",
    "输出：[1]\n",
    "```"
   ]
  },
  {
   "cell_type": "markdown",
   "id": "3930f97d-b0cf-4af5-bc32-ddcef5921cf3",
   "metadata": {},
   "source": [
    "## 代码示例\n",
    "- 直接模拟\n",
    "    - 要注意链表的操作顺序，并进行画图\n",
    "    - 建议使用虚拟头结点，要不然每次针对头结点，还需要单独处理\n",
    "    - 时间复杂度：$O(n)$\n",
    "    - 空间复杂度：$O(1)$"
   ]
  },
  {
   "cell_type": "code",
   "execution_count": null,
   "id": "f59fbd0e-c5df-4844-8e76-22295ae0a176",
   "metadata": {},
   "outputs": [],
   "source": [
    "class Solution {\n",
    "public:\n",
    "    ListNode* swapPairs(ListNode* head) {\n",
    "        ListNode* dummyHead = new ListNode(0); // 设置一个虚拟头结点\n",
    "        dummyHead->next = head; // 将虚拟头结点指向head，这样方便后面做删除操作\n",
    "        ListNode* cur = dummyHead;\n",
    "        while(cur->next != nullptr && cur->next->next != nullptr) {\n",
    "            ListNode* tmp = cur->next; // 记录临时节点\n",
    "            ListNode* tmp1 = cur->next->next->next; // 记录临时节点\n",
    "\n",
    "            cur->next = cur->next->next;    // 步骤一\n",
    "            cur->next->next = tmp;          // 步骤二\n",
    "            cur->next->next->next = tmp1;   // 步骤三\n",
    "\n",
    "            cur = cur->next->next; // cur移动两位，准备下一轮交换\n",
    "        }\n",
    "        ListNode* result = dummyHead->next;\n",
    "        delete dummyHead;  // 删除虚拟头节点\n",
    "        return result;\n",
    "    }\n",
    "};"
   ]
  }
 ],
 "metadata": {
  "kernelspec": {
   "display_name": "C++17",
   "language": "C++17",
   "name": "xcpp17"
  },
  "language_info": {
   "codemirror_mode": "text/x-c++src",
   "file_extension": ".cpp",
   "mimetype": "text/x-c++src",
   "name": "c++",
   "version": "17"
  }
 },
 "nbformat": 4,
 "nbformat_minor": 5
}
