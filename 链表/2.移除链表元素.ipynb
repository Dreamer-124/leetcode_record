{
 "cells": [
  {
   "cell_type": "markdown",
   "id": "dcddce3d-a01c-43cd-9ba5-56f143e583be",
   "metadata": {},
   "source": [
    "# 移除链表元素\n",
    "\n",
    "## [题目](https://leetcode.cn/problems/remove-linked-list-elements/)\n",
    "- **删除链表中等于给定值 val 的所有节点**\n",
    "\n",
    "- **示例1：**\n",
    "```C++\n",
    "输入：head = [1,2,6,3,4,5,6], val = 6 \n",
    "输出：[1,2,3,4,5] \n",
    "```\n",
    "- **示例2：**\n",
    "```C++\n",
    "输入：head = [7,7,7,7], val = 7 \n",
    "输出：[]   \n",
    "```"
   ]
  },
  {
   "cell_type": "markdown",
   "id": "9d5d8825-f2f2-4d74-9f04-aeeb680d1fd6",
   "metadata": {},
   "source": [
    "## 代码示例\n",
    "- **直接使用原来的链表进行删除操作**\n",
    "    - **需要注意头结点的删除方式**\n",
    "    - **时间复杂度：$O(n)$**\n",
    "    - **空间复杂度：$O(1)$**"
   ]
  },
  {
   "cell_type": "code",
   "execution_count": null,
   "id": "04f375bb-b9ce-4139-a463-f81aa42326ea",
   "metadata": {},
   "outputs": [],
   "source": [
    "class Solution {\n",
    "public:\n",
    "    ListNode* removeElements(ListNode* head, int val) {\n",
    "        // 删除头结点\n",
    "        while (head != NULL && head->val == val) { // 注意这里不是if\n",
    "            ListNode* tmp = head;\n",
    "            head = head->next;\n",
    "            delete tmp;\n",
    "        }\n",
    "\n",
    "        // 删除非头结点\n",
    "        ListNode* cur = head;\n",
    "        while (cur != NULL && cur->next!= NULL) {\n",
    "            if (cur->next->val == val) {\n",
    "                ListNode* tmp = cur->next;\n",
    "                cur->next = cur->next->next;\n",
    "                delete tmp;\n",
    "            } else {\n",
    "                cur = cur->next;\n",
    "            }\n",
    "        }\n",
    "        return head;\n",
    "    }\n",
    "};"
   ]
  },
  {
   "cell_type": "markdown",
   "id": "66283481-4d2c-4287-a7fe-ae273f7470c5",
   "metadata": {},
   "source": [
    "- **设置一个虚拟头节点再进行移除节点操作**\n",
    "    - **这样原链表的所有节点都可以按照统一的方式进行移除了**\n",
    "    - **时间复杂度：$O(n)$**\n",
    "    - **空间复杂度：$O(1)$**"
   ]
  },
  {
   "cell_type": "code",
   "execution_count": null,
   "id": "e90550ea-5926-4eca-97f1-4cdbeeef443b",
   "metadata": {},
   "outputs": [],
   "source": [
    "class Solution {\n",
    "public:\n",
    "    ListNode* removeElements(ListNode* head, int val) {\n",
    "        ListNode* dummyHead = new ListNode(0); // 设置一个虚拟头结点\n",
    "        dummyHead->next = head; // 将虚拟头结点指向head，这样方便后面做删除操作\n",
    "        ListNode* cur = dummyHead;\n",
    "        while (cur->next != NULL) {\n",
    "            if(cur->next->val == val) {\n",
    "                ListNode* tmp = cur->next;\n",
    "                cur->next = cur->next->next;\n",
    "                delete tmp;\n",
    "            } else {\n",
    "                cur = cur->next;\n",
    "            }\n",
    "        }\n",
    "        head = dummyHead->next;\n",
    "        delete dummyHead;\n",
    "        return head;\n",
    "    }\n",
    "};"
   ]
  }
 ],
 "metadata": {
  "kernelspec": {
   "display_name": "C++17",
   "language": "C++17",
   "name": "xcpp17"
  },
  "language_info": {
   "codemirror_mode": "text/x-c++src",
   "file_extension": ".cpp",
   "mimetype": "text/x-c++src",
   "name": "c++",
   "version": "17"
  }
 },
 "nbformat": 4,
 "nbformat_minor": 5
}
