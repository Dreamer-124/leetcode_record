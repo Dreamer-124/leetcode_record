{
 "cells": [
  {
   "cell_type": "markdown",
   "id": "3e3de3ec-15e8-4ad2-a259-459e6d639c40",
   "metadata": {},
   "source": [
    "# 链表相交\n",
    "\n",
    "## [题目](https://leetcode.cn/problems/intersection-of-two-linked-lists-lcci/description/)\n",
    "- 给你两个单链表的头节点 headA 和 headB ，请你找出并返回两个单链表相交的起始节点。如果两个链表没有交点，返回 null\n",
    "\n",
    "- 图示两个链表在节点 c1 开始相交：\n",
    "![](../image/2-7-1.png)\n",
    "\n",
    "- 题目数据 保证 整个链式结构中不存在环\n",
    "\n",
    "- 注意，函数返回结果后，链表必须保持其原始结构\n",
    "\n",
    "- 示例1：\n",
    "![](../image/2-7-2.png)"
   ]
  },
  {
   "cell_type": "markdown",
   "id": "c89da428-23f1-4dbc-93fd-9e6f343a4eab",
   "metadata": {},
   "source": [
    "## 代码示例\n",
    "- 先计算出两个链表的长度，然后直接移动链表差值个元素使其起始位置对齐\n",
    "    - 时间复杂度：$O(n+m)$\n",
    "    - 空间复杂度：$O(1)$"
   ]
  },
  {
   "cell_type": "code",
   "execution_count": null,
   "id": "2e736837-772b-4eba-901b-4a81511e563c",
   "metadata": {},
   "outputs": [],
   "source": [
    "class Solution {\n",
    "public:\n",
    "    ListNode *getIntersectionNode(ListNode *headA, ListNode *headB) {\n",
    "        ListNode* curA = headA;\n",
    "        ListNode* curB = headB;\n",
    "        int lenA = 0, lenB = 0;\n",
    "        while (curA != NULL) { // 求链表A的长度\n",
    "            lenA++;\n",
    "            curA = curA->next;\n",
    "        }\n",
    "        while (curB != NULL) { // 求链表B的长度\n",
    "            lenB++;\n",
    "            curB = curB->next;\n",
    "        }\n",
    "        curA = headA;\n",
    "        curB = headB;\n",
    "        // 让curA为最长链表的头，lenA为其长度\n",
    "        if (lenB > lenA) {\n",
    "            swap (lenA, lenB);\n",
    "            swap (curA, curB);\n",
    "        }\n",
    "        // 求长度差\n",
    "        int gap = lenA - lenB;\n",
    "        // 让curA和curB在同一起点上（末尾位置对齐）\n",
    "        while (gap--) {\n",
    "            curA = curA->next;\n",
    "        }\n",
    "        // 遍历curA 和 curB，遇到相同则直接返回\n",
    "        while (curA != NULL) {\n",
    "            if (curA == curB) {\n",
    "                return curA;\n",
    "            }\n",
    "            curA = curA->next;\n",
    "            curB = curB->next;\n",
    "        }\n",
    "        return NULL;\n",
    "    }\n",
    "};"
   ]
  }
 ],
 "metadata": {
  "kernelspec": {
   "display_name": "C++17",
   "language": "C++17",
   "name": "xcpp17"
  },
  "language_info": {
   "codemirror_mode": "text/x-c++src",
   "file_extension": ".cpp",
   "mimetype": "text/x-c++src",
   "name": "c++",
   "version": "17"
  }
 },
 "nbformat": 4,
 "nbformat_minor": 5
}
