{
 "cells": [
  {
   "cell_type": "markdown",
   "id": "2ed65dbe-ce27-494d-854c-712ec0b75cfc",
   "metadata": {},
   "source": [
    "# 删除链表的倒数第N个节点\n",
    "\n",
    "## [题目](https://leetcode.cn/problems/remove-nth-node-from-end-of-list/description/)\n",
    "- 给你一个链表，删除链表的倒数第 n 个结点，并且返回链表的头结点。\n",
    "- 进阶：你能尝试使用一趟扫描实现吗？\n",
    "\n",
    "- 示例1：\n",
    "```C++\n",
    "输入：head = [1,2,3,4,5], n = 2 \n",
    "输出：[1,2,3,5]\n",
    "```\n",
    "\n",
    "- 示例2：\n",
    "```C++\n",
    "输入：head = [1], n = 1 \n",
    "输出：[]\n",
    "```\n",
    "\n",
    "- 示例3：\n",
    "```C++\n",
    "输入：head = [1,2], n = 1 \n",
    "输出：[1]\n",
    "```"
   ]
  },
  {
   "cell_type": "markdown",
   "id": "c9d6e5bf-36db-4fca-a646-4869bb3f62e6",
   "metadata": {},
   "source": [
    "## 代码示例\n",
    "- 双指针法（快慢指针）\n",
    "    - 快指针先走 n 步，然后慢指针再和快指针一起移动，这样当快指针移动到 null，慢指针就可以移动到倒数第 n 个\n",
    "    - 时间复杂度：$O(n)$\n",
    "    - 空间复杂度：$O(1)$"
   ]
  },
  {
   "cell_type": "code",
   "execution_count": null,
   "id": "f54aad61-cbd4-40b0-ba92-0d2c3985613a",
   "metadata": {},
   "outputs": [],
   "source": [
    "class Solution {\n",
    "public:\n",
    "    ListNode* removeNthFromEnd(ListNode* head, int n) {\n",
    "        ListNode* dummyHead = new ListNode(0);\n",
    "        dummyHead->next = head;\n",
    "        ListNode* slow = dummyHead;\n",
    "        ListNode* fast = dummyHead;\n",
    "        while(n-- && fast != NULL) {\n",
    "            fast = fast->next;\n",
    "        }\n",
    "        fast = fast->next; // fast再提前走一步，因为需要让slow指向删除节点的上一个节点\n",
    "        while (fast != NULL) {\n",
    "            fast = fast->next;\n",
    "            slow = slow->next;\n",
    "        }\n",
    "        slow->next = slow->next->next; \n",
    "        \n",
    "        // ListNode *tmp = slow->next;  C++释放内存的逻辑\n",
    "        // slow->next = tmp->next;\n",
    "        // delete tmp;\n",
    "        \n",
    "        return dummyHead->next;\n",
    "    }\n",
    "};"
   ]
  }
 ],
 "metadata": {
  "kernelspec": {
   "display_name": "C++17",
   "language": "C++17",
   "name": "xcpp17"
  },
  "language_info": {
   "codemirror_mode": "text/x-c++src",
   "file_extension": ".cpp",
   "mimetype": "text/x-c++src",
   "name": "c++",
   "version": "17"
  }
 },
 "nbformat": 4,
 "nbformat_minor": 5
}
