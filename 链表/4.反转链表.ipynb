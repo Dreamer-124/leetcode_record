{
 "cells": [
  {
   "cell_type": "markdown",
   "id": "5ce034ad-1284-432d-898d-3d25ed23e074",
   "metadata": {},
   "source": [
    "# 反转链表\n",
    "\n",
    "## [题目](https://leetcode.cn/problems/reverse-linked-list/description/)\n",
    "- **题意：反转一个单链表。**\n",
    "\n",
    "- **示例：**\n",
    "```C++\n",
    "输入: 1->2->3->4->5->NULL \n",
    "输出: 5->4->3->2->1->NULL\n",
    "```"
   ]
  },
  {
   "cell_type": "markdown",
   "id": "5f189538-8c6e-4330-99d3-a43b70223d18",
   "metadata": {},
   "source": [
    "## 代码示例\n",
    "- **双指针法：定义一个 pre 指针，一个 cur 指针**\n",
    "    - **时间复杂度：$O(n)$**\n",
    "    - **空间复杂度：$O(1)$**"
   ]
  },
  {
   "cell_type": "code",
   "execution_count": null,
   "id": "ad2a304b-4eef-4730-915d-5c06b0d71cfd",
   "metadata": {},
   "outputs": [],
   "source": [
    "class Solution {\n",
    "public:\n",
    "    ListNode* reverseList(ListNode* head) {\n",
    "        ListNode* temp; // 保存cur的下一个节点\n",
    "        ListNode* cur = head;\n",
    "        ListNode* pre = NULL;\n",
    "        while(cur) {\n",
    "            temp = cur->next;  // 保存一下 cur的下一个节点，因为接下来要改变cur->next\n",
    "            cur->next = pre; // 翻转操作\n",
    "            // 更新pre 和 cur指针\n",
    "            pre = cur;\n",
    "            cur = temp;\n",
    "        }\n",
    "        return pre;\n",
    "    }\n",
    "};"
   ]
  }
 ],
 "metadata": {
  "kernelspec": {
   "display_name": "C++17",
   "language": "C++17",
   "name": "xcpp17"
  },
  "language_info": {
   "codemirror_mode": "text/x-c++src",
   "file_extension": ".cpp",
   "mimetype": "text/x-c++src",
   "name": "c++",
   "version": "17"
  }
 },
 "nbformat": 4,
 "nbformat_minor": 5
}
