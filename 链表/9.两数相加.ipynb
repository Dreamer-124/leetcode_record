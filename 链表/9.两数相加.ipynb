{
 "cells": [
  {
   "cell_type": "markdown",
   "id": "0234dd3e",
   "metadata": {},
   "source": [
    "# 两数相加\n",
    "\n",
    "## [题目](https://leetcode.cn/problems/add-two-numbers/description/)\n",
    "- 给你两个 非空 的链表，表示两个非负的整数。它们每位数字都是按照 逆序 的方式存储的，并且每个节点只能存储 一位 数字。\n",
    "\n",
    "- 请你将两个数相加，并以相同形式返回一个表示和的链表。\n",
    "\n",
    "- 你可以假设除了数字 0 之外，这两个数都不会以 0 开头。\n",
    "\n",
    "- 示例1：\n",
    "```C++\n",
    "输入：l1 = [2,4,3], l2 = [5,6,4]\n",
    "输出：[7,0,8]\n",
    "解释：342 + 465 = 807.\n",
    "```\n",
    "\n",
    "- 示例2：\n",
    "```C++\n",
    "输入：l1 = [0], l2 = [0]\n",
    "输出：[0]\n",
    "```\n",
    "\n",
    "- 示例3：\n",
    "```C++\n",
    "输入：l1 = [9,9,9,9,9,9,9], l2 = [9,9,9,9]\n",
    "输出：[8,9,9,9,0,0,0,1]\n",
    "```"
   ]
  },
  {
   "cell_type": "markdown",
   "id": "11a463e8",
   "metadata": {},
   "source": [
    "## 代码示例\n",
    "- 模拟\n",
    "    - 时间复杂度：$O(max(m,n))$\n",
    "    - 空间复杂度：$O(1)$"
   ]
  },
  {
   "cell_type": "code",
   "execution_count": null,
   "id": "3f0f0c73",
   "metadata": {},
   "outputs": [],
   "source": [
    "/**\n",
    " * Definition for singly-linked list.\n",
    " * struct ListNode {\n",
    " *     int val;\n",
    " *     ListNode *next;\n",
    " *     ListNode() : val(0), next(nullptr) {}\n",
    " *     ListNode(int x) : val(x), next(nullptr) {}\n",
    " *     ListNode(int x, ListNode *next) : val(x), next(next) {}\n",
    " * };\n",
    " */\n",
    "class Solution {\n",
    "public:\n",
    "    ListNode* addTwoNumbers(ListNode* l1, ListNode* l2) {\n",
    "        // 初始化新链表的头尾指针\n",
    "        ListNode *head = nullptr, *tail = nullptr;\n",
    "        // 初始化进制\n",
    "        int carry = 0;\n",
    "        // 开始对 l1 和 l2 两个链表的各个位置进行遍历\n",
    "        while(l1 || l2) {\n",
    "            // 取 l1 和 l2 的值，然后相加求和\n",
    "            int n1 = l1 ? l1->val : 0;\n",
    "            int n2 = l2 ? l2->val : 0;\n",
    "            int sum = n1 + n2 + carry;\n",
    "            // 如果 head 为刚开始的位置，进行初始化\n",
    "            if (!head) head = tail = new ListNode(sum % 10);  \n",
    "            else {\n",
    "                tail->next = new ListNode(sum % 10);\n",
    "                tail = tail->next;\n",
    "            }\n",
    "            // 获取每一位加法的进位\n",
    "            carry = sum / 10;\n",
    "            if (l1) l1 = l1->next;\n",
    "            if (l2) l2 = l2->next;\n",
    "        }\n",
    "        // 对最后的进位进行处理\n",
    "        if (carry > 0) tail->next = new ListNode(carry);\n",
    "\n",
    "        return head;\n",
    "    }\n",
    "};"
   ]
  }
 ],
 "metadata": {
  "kernelspec": {
   "display_name": "Python 3 (ipykernel)",
   "language": "python",
   "name": "python3"
  },
  "language_info": {
   "codemirror_mode": {
    "name": "ipython",
    "version": 3
   },
   "file_extension": ".py",
   "mimetype": "text/x-python",
   "name": "python",
   "nbconvert_exporter": "python",
   "pygments_lexer": "ipython3",
   "version": "3.9.13"
  }
 },
 "nbformat": 4,
 "nbformat_minor": 5
}
