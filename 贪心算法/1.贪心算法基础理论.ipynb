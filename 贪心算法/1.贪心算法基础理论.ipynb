{
 "cells": [
  {
   "cell_type": "markdown",
   "id": "30fcefab",
   "metadata": {},
   "source": [
    "# 1. 贪心算法基础理论\n",
    "\n",
    "## 1.1 什么是贪心？\n",
    "- 贪心的本质是选择每一阶段的局部最优，从而达到全局最优\n",
    "\n",
    "## 1.2 什么时候用贪心？\n",
    "- 刷题或者面试的时候，手动模拟一下感觉可以局部最优推出整体最优，而且想不到反例，那么就试一试贪心\n",
    "\n",
    "## 1.3 贪心一般解题步骤是什么？\n",
    "- 贪心算法一般分为如下四步：\n",
    "    - 将问题分解为若干个子问题\n",
    "    - 找出适合的贪心策略\n",
    "    - 求解每一个子问题的最优解\n",
    "    - 将局部最优解堆叠成全局最优解"
   ]
  }
 ],
 "metadata": {
  "kernelspec": {
   "display_name": "Python 3 (ipykernel)",
   "language": "python",
   "name": "python3"
  },
  "language_info": {
   "codemirror_mode": {
    "name": "ipython",
    "version": 3
   },
   "file_extension": ".py",
   "mimetype": "text/x-python",
   "name": "python",
   "nbconvert_exporter": "python",
   "pygments_lexer": "ipython3",
   "version": "3.9.13"
  }
 },
 "nbformat": 4,
 "nbformat_minor": 5
}
