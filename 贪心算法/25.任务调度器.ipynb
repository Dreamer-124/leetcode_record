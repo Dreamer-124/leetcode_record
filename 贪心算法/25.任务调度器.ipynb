{
 "cells": [
  {
   "cell_type": "markdown",
   "id": "bd75db69",
   "metadata": {},
   "source": [
    "# 任务调度器\n",
    "\n",
    "## [题目](https://leetcode.cn/problems/letter-combinations-of-a-phone-number/description/)\n",
    "\n",
    "- 给你一个用字符数组 tasks 表示的 CPU 需要执行的任务列表，用字母 A 到 Z 表示，以及一个冷却时间 n。每个周期或时间间隔允许完成一项任务。任务可以按任何顺序完成，但有一个限制：两个 相同种类 的任务之间必须有长度为 n 的冷却时间。\n",
    "\n",
    "- 返回完成所有任务所需要的 最短时间间隔 。\n",
    "\n",
    "- 示例1：\n",
    "```C++\n",
    "输入：tasks = [\"A\",\"A\",\"A\",\"B\",\"B\",\"B\"], n = 2\n",
    "输出：8\n",
    "解释：\n",
    "在完成任务 A 之后，你必须等待两个间隔。对任务 B 来说也是一样。在第 3 个间隔，A 和 B 都不能完成，所以你需要待命。在第 4 个间隔，由于已经经过了 2 个间隔，你可以再次执行 A 任务。\n",
    "```\n",
    "\n",
    "- 示例2：\n",
    "```C++\n",
    "输入：tasks = [\"A\",\"C\",\"A\",\"B\",\"D\",\"B\"], n = 1\n",
    "\n",
    "输出：6\n",
    "\n",
    "解释：一种可能的序列是：A -> B -> C -> D -> A -> B。\n",
    "\n",
    "由于冷却间隔为 1，你可以在完成另一个任务后重复执行这个任务。\n",
    "```\n",
    "\n",
    "- 示例3：\n",
    "```C++\n",
    "输入：tasks = [\"A\",\"A\",\"A\",\"B\",\"B\",\"B\"], n = 3\n",
    "输出：10\n",
    "解释：一种可能的序列为：A -> B -> idle -> idle -> A -> B -> idle -> idle -> A -> B。\n",
    "只有两种任务类型，A 和 B，需要被 3 个间隔分割。这导致重复执行这些任务的间隔当中有两次待命状态。\n",
    "```\n",
    "\n",
    "- 提示：\n",
    "    - 1 <= tasks.length <= 104\n",
    "    - tasks[i] 是大写英文字母\n",
    "    - 0 <= n <= 100"
   ]
  },
  {
   "cell_type": "markdown",
   "id": "f9e8eae5",
   "metadata": {},
   "source": [
    "## 代码示例\n",
    "- 贪心算法\n",
    "    - 总共有三种情况，求最大值即可\n",
    "    - 时间复杂度：$O(nlogn)$\n",
    "    - 空间复杂度：$O(1)$"
   ]
  },
  {
   "cell_type": "code",
   "execution_count": null,
   "id": "d93b25f2",
   "metadata": {},
   "outputs": [],
   "source": [
    "class Solution {\n",
    "public:\n",
    "    int leastInterval(vector<char>& tasks, int n) {\n",
    "        int len = tasks.size();\n",
    "        vector<int> vec(26);\n",
    "        for (char c : tasks) vec[c - 'A']++;\n",
    "        sort(vec.begin(), vec.end(), [](int& x, int& y){return x > y;});\n",
    "        int cnt = 1;\n",
    "        while(cnt < vec.size() && vec[cnt] == vec[0]) cnt++;\n",
    "        return max(len, cnt + (n + 1) * (vec[0] - 1));\n",
    "    }\n",
    "};"
   ]
  }
 ],
 "metadata": {
  "kernelspec": {
   "display_name": "Python 3 (ipykernel)",
   "language": "python",
   "name": "python3"
  },
  "language_info": {
   "codemirror_mode": {
    "name": "ipython",
    "version": 3
   },
   "file_extension": ".py",
   "mimetype": "text/x-python",
   "name": "python",
   "nbconvert_exporter": "python",
   "pygments_lexer": "ipython3",
   "version": "3.9.13"
  }
 },
 "nbformat": 4,
 "nbformat_minor": 5
}
