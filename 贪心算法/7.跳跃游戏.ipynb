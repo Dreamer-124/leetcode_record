{
 "cells": [
  {
   "cell_type": "markdown",
   "id": "1a1f741f",
   "metadata": {},
   "source": [
    "# 7. 跳跃游戏\n",
    "\n",
    "## [题目](https://leetcode.cn/problems/letter-combinations-of-a-phone-number/description/)\n",
    "\n",
    "- 给定一个非负整数数组，你最初位于数组的第一个位置。\n",
    "\n",
    "- 数组中的每个元素代表你在该位置可以跳跃的最大长度。\n",
    "\n",
    "- 判断你是否能够到达最后一个位置。\n",
    "\n",
    "- 示例1：\n",
    "```C++\n",
    "输入: [2,3,1,1,4]\n",
    "输出: true\n",
    "解释: 我们可以先跳 1 步，从位置 0 到达 位置 1, 然后再从位置 1 跳 3 步到达最后一个位置。\n",
    "```\n",
    "\n",
    "- 示例2：\n",
    "```C++\n",
    "输入: [3,2,1,0,4]\n",
    "输出: false\n",
    "解释: 无论怎样，你总会到达索引为 3 的位置。但该位置的最大跳跃长度是 0 ， 所以你永远不可能到达最后一个位置。\n",
    "```"
   ]
  },
  {
   "cell_type": "markdown",
   "id": "4abab8fc",
   "metadata": {},
   "source": [
    "## 代码示例\n",
    "- 这个问题可以转化为跳跃覆盖范围可不可以覆盖到终点。\n",
    "    - 贪心算法局部最优解：每次取最大跳跃步数（取最大覆盖范围），整体最优解：最后得到整体最大覆盖范围，看是否能到终点。\n",
    "    - 时间复杂度：$O(n)$\n",
    "    - 空间复杂度：$O(1)$"
   ]
  },
  {
   "cell_type": "code",
   "execution_count": null,
   "id": "85ec9378",
   "metadata": {},
   "outputs": [],
   "source": [
    "class Solution {\n",
    "public:\n",
    "    bool canJump(vector<int>& nums) {\n",
    "        int cover = 0;\n",
    "        if (nums.size() == 1) return true; // 只有一个元素，就是能达到\n",
    "        for (int i = 0; i <= cover; i++) { // 注意这里是小于等于cover\n",
    "            cover = max(i + nums[i], cover);\n",
    "            if (cover >= nums.size() - 1) return true; // 说明可以覆盖到终点了\n",
    "        }\n",
    "        return false;\n",
    "    }\n",
    "};"
   ]
  }
 ],
 "metadata": {
  "kernelspec": {
   "display_name": "Python 3 (ipykernel)",
   "language": "python",
   "name": "python3"
  },
  "language_info": {
   "codemirror_mode": {
    "name": "ipython",
    "version": 3
   },
   "file_extension": ".py",
   "mimetype": "text/x-python",
   "name": "python",
   "nbconvert_exporter": "python",
   "pygments_lexer": "ipython3",
   "version": "3.9.13"
  }
 },
 "nbformat": 4,
 "nbformat_minor": 5
}
