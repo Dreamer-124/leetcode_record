{
 "cells": [
  {
   "cell_type": "markdown",
   "id": "33611c32",
   "metadata": {},
   "source": [
    "# 二叉树的递归遍历\n",
    "- 写递归必须要注意的三要素或步骤：\n",
    "    - 确定递归函数的参数和返回值\n",
    "    - 确定终止条件\n",
    "    - 确定单层递归的逻辑\n",
    "\n",
    "## 题目\n",
    "- [前序遍历](https://leetcode.cn/problems/binary-tree-preorder-traversal/description/)\n",
    "- [后序遍历](https://leetcode.cn/problems/binary-tree-postorder-traversal/description/)\n",
    "- [中序遍历](https://leetcode.cn/problems/binary-tree-inorder-traversal/description/)\n",
    "\n",
    "## 代码示例\n",
    "- 前序遍历"
   ]
  },
  {
   "cell_type": "code",
   "execution_count": null,
   "id": "a77c616d",
   "metadata": {},
   "outputs": [],
   "source": [
    "/**\n",
    " * Definition for a binary tree node.\n",
    " * struct TreeNode {\n",
    " *     int val;\n",
    " *     TreeNode *left;\n",
    " *     TreeNode *right;\n",
    " *     TreeNode() : val(0), left(nullptr), right(nullptr) {}\n",
    " *     TreeNode(int x) : val(x), left(nullptr), right(nullptr) {}\n",
    " *     TreeNode(int x, TreeNode *left, TreeNode *right) : val(x), left(left), right(right) {}\n",
    " * };\n",
    " */\n",
    "class Solution {\n",
    "public:\n",
    "    // 递归函数 \n",
    "    void traversal(TreeNode* cur, vector<int>& vec){\n",
    "        // 如果当前节点值为空，直接返回\n",
    "        if(cur == nullptr){\n",
    "            return;\n",
    "        }\n",
    "        // 使用 vector 容器引用当前数组，插入当前值\n",
    "        vec.push_back(cur->val);\n",
    "        // 递归遍历左右叶子结点\n",
    "        traversal(cur->left, vec);\n",
    "        traversal(cur->right, vec);\n",
    "    }\n",
    "\n",
    "    // 主函数\n",
    "    vector<int> preorderTraversal(TreeNode* root) {\n",
    "        // 定义结果容器\n",
    "        vector<int> result;\n",
    "        // 进行前序遍历（中左右）\n",
    "        traversal(root, result);\n",
    "        // 返回结果\n",
    "        return result;\n",
    "    }\n",
    "};"
   ]
  },
  {
   "cell_type": "markdown",
   "id": "7e086436",
   "metadata": {},
   "source": [
    "- 后序遍历"
   ]
  },
  {
   "cell_type": "code",
   "execution_count": null,
   "id": "ceefb69d",
   "metadata": {},
   "outputs": [],
   "source": [
    "/**\n",
    " * Definition for a binary tree node.\n",
    " * struct TreeNode {\n",
    " *     int val;\n",
    " *     TreeNode *left;\n",
    " *     TreeNode *right;\n",
    " *     TreeNode() : val(0), left(nullptr), right(nullptr) {}\n",
    " *     TreeNode(int x) : val(x), left(nullptr), right(nullptr) {}\n",
    " *     TreeNode(int x, TreeNode *left, TreeNode *right) : val(x), left(left), right(right) {}\n",
    " * };\n",
    " */\n",
    "class Solution {\n",
    "public:\n",
    "    void traversal(TreeNode* cur, vector<int>& vec){\n",
    "        if(cur == nullptr){\n",
    "            return;\n",
    "        }\n",
    "        // 后序遍历（左右中）\n",
    "        traversal(cur->left, vec);\n",
    "        traversal(cur->right, vec);\n",
    "        vec.push_back(cur->val);\n",
    "    }\n",
    "    vector<int> postorderTraversal(TreeNode* root) {\n",
    "        vector<int> result;\n",
    "        traversal(root, result);\n",
    "        return result;\n",
    "    }\n",
    "};"
   ]
  },
  {
   "cell_type": "markdown",
   "id": "f0a49725",
   "metadata": {},
   "source": [
    "- 中序遍历"
   ]
  },
  {
   "cell_type": "code",
   "execution_count": null,
   "id": "7cefdb92",
   "metadata": {},
   "outputs": [],
   "source": [
    "/**\n",
    " * Definition for a binary tree node.\n",
    " * struct TreeNode {\n",
    " *     int val;\n",
    " *     TreeNode *left;\n",
    " *     TreeNode *right;\n",
    " *     TreeNode() : val(0), left(nullptr), right(nullptr) {}\n",
    " *     TreeNode(int x) : val(x), left(nullptr), right(nullptr) {}\n",
    " *     TreeNode(int x, TreeNode *left, TreeNode *right) : val(x), left(left), right(right) {}\n",
    " * };\n",
    " */\n",
    "class Solution {\n",
    "public:\n",
    "    void traversal(TreeNode* cur, vector<int>& vec){\n",
    "        if(cur == nullptr){\n",
    "            return;\n",
    "        }\n",
    "        // 中序遍历（左中右）\n",
    "        traversal(cur->left, vec);\n",
    "        vec.push_back(cur->val);\n",
    "        traversal(cur->right, vec);\n",
    "    }\n",
    "    vector<int> inorderTraversal(TreeNode* root) {\n",
    "        vector<int> result;\n",
    "        traversal(root, result);\n",
    "        return  result;\n",
    "    }\n",
    "};"
   ]
  }
 ],
 "metadata": {
  "kernelspec": {
   "display_name": "Python 3 (ipykernel)",
   "language": "python",
   "name": "python3"
  },
  "language_info": {
   "codemirror_mode": {
    "name": "ipython",
    "version": 3
   },
   "file_extension": ".py",
   "mimetype": "text/x-python",
   "name": "python",
   "nbconvert_exporter": "python",
   "pygments_lexer": "ipython3",
   "version": "3.9.13"
  }
 },
 "nbformat": 4,
 "nbformat_minor": 5
}
