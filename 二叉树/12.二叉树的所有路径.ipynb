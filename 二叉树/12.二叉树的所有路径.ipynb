{
 "cells": [
  {
   "cell_type": "markdown",
   "id": "7bd7631b",
   "metadata": {},
   "source": [
    "# 完全二叉树的节点个数\n",
    "\n",
    "## [题目](https://leetcode.cn/problems/binary-tree-paths/description/)\n",
    "- 给定一个二叉树，返回所有从根节点到叶子节点的路径。\n",
    "\n",
    "- 本题中，一棵高度平衡二叉树定义为：一个二叉树每个节点 的左右两个子树的高度差的绝对值不超过1。\n",
    "\n",
    "- 示例：\n",
    "\n",
    "<div align=\"center\" style=\"text-align: center;\">\n",
    "    <img src=\"../image/7-12-1.png\" style=\"width: 60%;\">\n",
    "</div> \n",
    "\n",
    "- 说明: 叶子节点是指没有子节点的节点。"
   ]
  },
  {
   "cell_type": "markdown",
   "id": "1b67e68c",
   "metadata": {},
   "source": [
    "## 代码示例\n",
    "- 迭代法"
   ]
  },
  {
   "cell_type": "code",
   "execution_count": null,
   "id": "7eb10a95",
   "metadata": {},
   "outputs": [],
   "source": [
    "// 版本一\n",
    "class Solution {\n",
    "private:\n",
    "    void traversal(TreeNode* cur, vector<int>& path, vector<string>& result) {\n",
    "        path.push_back(cur->val); // 中，中为什么写在这里，因为最后一个节点也要加入到path中 \n",
    "        // 这才到了叶子节点\n",
    "        if (cur->left == NULL && cur->right == NULL) {\n",
    "            string sPath;\n",
    "            for (int i = 0; i < path.size() - 1; i++) {\n",
    "                sPath += to_string(path[i]);\n",
    "                sPath += \"->\";\n",
    "            }\n",
    "            sPath += to_string(path[path.size() - 1]);\n",
    "            result.push_back(sPath);\n",
    "            return;\n",
    "        }\n",
    "        if (cur->left) { // 左 \n",
    "            traversal(cur->left, path, result);\n",
    "            path.pop_back(); // 回溯\n",
    "        }\n",
    "        if (cur->right) { // 右\n",
    "            traversal(cur->right, path, result);\n",
    "            path.pop_back(); // 回溯\n",
    "        }\n",
    "    }\n",
    "\n",
    "public:\n",
    "    vector<string> binaryTreePaths(TreeNode* root) {\n",
    "        vector<string> result;\n",
    "        vector<int> path;\n",
    "        if (root == NULL) return result;\n",
    "        traversal(root, path, result);\n",
    "        return result;\n",
    "    }\n",
    "};"
   ]
  }
 ],
 "metadata": {
  "kernelspec": {
   "display_name": "Python 3 (ipykernel)",
   "language": "python",
   "name": "python3"
  },
  "language_info": {
   "codemirror_mode": {
    "name": "ipython",
    "version": 3
   },
   "file_extension": ".py",
   "mimetype": "text/x-python",
   "name": "python",
   "nbconvert_exporter": "python",
   "pygments_lexer": "ipython3",
   "version": "3.9.13"
  }
 },
 "nbformat": 4,
 "nbformat_minor": 5
}
