{
 "cells": [
  {
   "cell_type": "markdown",
   "id": "61ccf444",
   "metadata": {},
   "source": [
    "# 二叉搜索树中的众数\n",
    "\n",
    "## [题目](https://leetcode.cn/problems/find-mode-in-binary-search-tree/description/)\n",
    "- 给定一个有相同值的二叉搜索树（BST），找出 BST 中的所有众数（出现频率最高的元素）。\n",
    "\n",
    "- 假定 BST 有如下定义：\n",
    "    - 结点左子树中所含结点的值小于等于当前结点的值\n",
    "    - 结点右子树中所含结点的值大于等于当前结点的值\n",
    "    - 左子树和右子树都是二叉搜索树\n",
    "\n",
    "- 示例：\n",
    "```C++\n",
    "输入：给定 BST [1,null,2,2],\n",
    "输出：返回 [2]\n",
    "```\n",
    "\n",
    "<div align=\"center\" style=\"text-align: center;\">\n",
    "    <img src=\"../image/7-21-1.png\" style=\"width: 60%;\">\n",
    "</div> \n",
    "\n",
    "- 提示：如果众数超过1个，不需考虑输出顺序"
   ]
  },
  {
   "cell_type": "markdown",
   "id": "084cebd8",
   "metadata": {},
   "source": [
    "## 代码示例\n",
    "- Step1：这个树都遍历了，用map统计频率\n",
    "- Step2：把统计的出来的出现频率（即map中的value）排个序\n",
    "- 时间复杂度：$O(n)$\n",
    "- 空间复杂度：$O(n)$"
   ]
  },
  {
   "cell_type": "code",
   "execution_count": null,
   "id": "9d05dfa7",
   "metadata": {},
   "outputs": [],
   "source": [
    "class Solution {\n",
    "private:\n",
    "\n",
    "void searchBST(TreeNode* cur, unordered_map<int, int>& map) { // 前序遍历\n",
    "    if (cur == NULL) return ;\n",
    "    map[cur->val]++; // 统计元素频率\n",
    "    searchBST(cur->left, map);\n",
    "    searchBST(cur->right, map);\n",
    "    return ;\n",
    "}\n",
    "bool static cmp (const pair<int, int>& a, const pair<int, int>& b) {\n",
    "    return a.second > b.second;\n",
    "}\n",
    "public:\n",
    "    vector<int> findMode(TreeNode* root) {\n",
    "        unordered_map<int, int> map; // key:元素，value:出现频率\n",
    "        vector<int> result;\n",
    "        if (root == NULL) return result;\n",
    "        searchBST(root, map);\n",
    "        vector<pair<int, int>> vec(map.begin(), map.end());\n",
    "        sort(vec.begin(), vec.end(), cmp); // 给频率排个序\n",
    "        result.push_back(vec[0].first);\n",
    "        for (int i = 1; i < vec.size(); i++) {\n",
    "            // 取最高的放到result数组中\n",
    "            if (vec[i].second == vec[0].second) result.push_back(vec[i].first);\n",
    "            else break;\n",
    "        }\n",
    "        return result;\n",
    "    }\n",
    "};"
   ]
  }
 ],
 "metadata": {
  "kernelspec": {
   "display_name": "Python 3 (ipykernel)",
   "language": "python",
   "name": "python3"
  },
  "language_info": {
   "codemirror_mode": {
    "name": "ipython",
    "version": 3
   },
   "file_extension": ".py",
   "mimetype": "text/x-python",
   "name": "python",
   "nbconvert_exporter": "python",
   "pygments_lexer": "ipython3",
   "version": "3.9.13"
  }
 },
 "nbformat": 4,
 "nbformat_minor": 5
}
