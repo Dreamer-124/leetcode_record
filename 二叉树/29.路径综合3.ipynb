{
 "cells": [
  {
   "cell_type": "markdown",
   "id": "376fed0c",
   "metadata": {},
   "source": [
    "# 路径总和3\n",
    "\n",
    "## [题目](https://leetcode.cn/problems/path-sum-iii/description/)\n",
    "- 给定一个二叉树的根节点 root ，和一个整数 targetSum ，求该二叉树里节点值之和等于 targetSum 的 路径 的数目。\n",
    "\n",
    "- 路径 不需要从根节点开始，也不需要在叶子节点结束，但是路径方向必须是向下的（只能从父节点到子节点）。\n",
    "\n",
    "<div align=\"center\" style=\"text-align: center;\">\n",
    "    <img src=\"../image/7-29-1.png\" style=\"width: 60%;\">\n",
    "</div> \n",
    "\n",
    "- 示例1：\n",
    "```C++\n",
    "输入：root = [10,5,-3,3,2,null,11,3,-2,null,1], targetSum = 8\n",
    "输出：3\n",
    "解释：和等于 8 的路径有 3 条，如图所示。\n",
    "```\n",
    "\n",
    "- 示例2：\n",
    "```C++\n",
    "输入：root = [5,4,8,11,null,13,4,7,2,null,null,5,1], targetSum = 22\n",
    "输出：3\n",
    "```\n",
    "\n",
    "- 说明: \n",
    "    - 二叉树的节点个数的范围是 [0,1000]\n",
    "    - $-10^9 <= Node.val <= 10^9$ \n",
    "    - $-1000 <= targetSum <= 1000$ "
   ]
  },
  {
   "cell_type": "markdown",
   "id": "17a49bc0",
   "metadata": {},
   "source": [
    "## 代码示例\n",
    "- 深度优先搜索\n",
    "    - 时间复杂度：$O(n^2)$\n",
    "    - 空间复杂度：$O(n)$"
   ]
  },
  {
   "cell_type": "code",
   "execution_count": null,
   "id": "39363810",
   "metadata": {},
   "outputs": [],
   "source": [
    "/**\n",
    " * Definition for a binary tree node.\n",
    " * struct TreeNode {\n",
    " *     int val;\n",
    " *     TreeNode *left;\n",
    " *     TreeNode *right;\n",
    " *     TreeNode() : val(0), left(nullptr), right(nullptr) {}\n",
    " *     TreeNode(int x) : val(x), left(nullptr), right(nullptr) {}\n",
    " *     TreeNode(int x, TreeNode *left, TreeNode *right) : val(x), left(left), right(right) {}\n",
    " * };\n",
    " */\n",
    "class Solution {\n",
    "public:\n",
    "    int rootSum(TreeNode* root, int targetSum) {\n",
    "        if (!root) {\n",
    "            return 0;\n",
    "        }\n",
    "\n",
    "        int ret = 0;\n",
    "        if (root->val == targetSum) {\n",
    "            ret++;\n",
    "        } \n",
    "\n",
    "        ret += rootSum(root->left, targetSum - root->val);\n",
    "        ret += rootSum(root->right, targetSum - root->val);\n",
    "        return ret;\n",
    "    }\n",
    "\n",
    "    int pathSum(TreeNode* root, int targetSum) {\n",
    "        if (!root) {\n",
    "            return 0;\n",
    "        }\n",
    "        \n",
    "        int ret = rootSum(root, targetSum);\n",
    "        ret += pathSum(root->left, targetSum);\n",
    "        ret += pathSum(root->right, targetSum);\n",
    "        return ret;\n",
    "    }\n",
    "};"
   ]
  }
 ],
 "metadata": {
  "kernelspec": {
   "display_name": "Python 3 (ipykernel)",
   "language": "python",
   "name": "python3"
  },
  "language_info": {
   "codemirror_mode": {
    "name": "ipython",
    "version": 3
   },
   "file_extension": ".py",
   "mimetype": "text/x-python",
   "name": "python",
   "nbconvert_exporter": "python",
   "pygments_lexer": "ipython3",
   "version": "3.9.13"
  }
 },
 "nbformat": 4,
 "nbformat_minor": 5
}
