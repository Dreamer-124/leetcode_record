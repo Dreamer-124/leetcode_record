{
 "cells": [
  {
   "cell_type": "markdown",
   "id": "8c342261",
   "metadata": {},
   "source": [
    "# 翻转二叉树\n",
    "\n",
    "## [题目](https://leetcode.cn/problems/invert-binary-tree/)\n",
    "- 翻转一颗二叉树。\n",
    "\n",
    "- 示例：\n",
    "<div align=\"center\" style=\"text-align: center;\">\n",
    "    <img src=\"../image/7-6-1.png\" style=\"width: 60%;\">\n",
    "</div> "
   ]
  },
  {
   "cell_type": "markdown",
   "id": "02a76569",
   "metadata": {},
   "source": [
    "## 代码示例\n",
    "- 使用层序遍历，然后将每一个节点的左右子节点翻转即可。\n",
    "- 时间复杂度：$O(n)$\n",
    "- 空间复杂度：$O(n)$"
   ]
  },
  {
   "cell_type": "code",
   "execution_count": null,
   "id": "1faeaa3c",
   "metadata": {},
   "outputs": [],
   "source": [
    "/**\n",
    " * Definition for a binary tree node.\n",
    " * struct TreeNode {\n",
    " *     int val;\n",
    " *     TreeNode *left;\n",
    " *     TreeNode *right;\n",
    " *     TreeNode() : val(0), left(nullptr), right(nullptr) {}\n",
    " *     TreeNode(int x) : val(x), left(nullptr), right(nullptr) {}\n",
    " *     TreeNode(int x, TreeNode *left, TreeNode *right) : val(x), left(left), right(right) {}\n",
    " * };\n",
    " */\n",
    "class Solution {\n",
    "public:\n",
    "    TreeNode* invertTree(TreeNode* root) {\n",
    "        queue<TreeNode*> que;\n",
    "        if(root) que.push(root);\n",
    "        while(!que.empty()){\n",
    "            int size = que.size();\n",
    "            while(size--){\n",
    "                TreeNode* node = que.front();\n",
    "                que.pop();\n",
    "                TreeNode* tmp = node->left;\n",
    "                node->left = node->right;\n",
    "                node->right = tmp;\n",
    "                if(node->left) que.push(node->left);\n",
    "                if(node->right) que.push(node->right);\n",
    "            }\n",
    "        }\n",
    "        return root;\n",
    "    }\n",
    "};"
   ]
  }
 ],
 "metadata": {
  "kernelspec": {
   "display_name": "Python 3 (ipykernel)",
   "language": "python",
   "name": "python3"
  },
  "language_info": {
   "codemirror_mode": {
    "name": "ipython",
    "version": 3
   },
   "file_extension": ".py",
   "mimetype": "text/x-python",
   "name": "python",
   "nbconvert_exporter": "python",
   "pygments_lexer": "ipython3",
   "version": "3.9.13"
  }
 },
 "nbformat": 4,
 "nbformat_minor": 5
}
