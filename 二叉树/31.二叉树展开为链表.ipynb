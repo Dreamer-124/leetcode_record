{
 "cells": [
  {
   "cell_type": "markdown",
   "id": "66f081ca",
   "metadata": {},
   "source": [
    "# 二叉树展开为链表\n",
    "\n",
    "## [题目](https://leetcode.cn/problems/flatten-binary-tree-to-linked-list/description/)\n",
    "- 给你二叉树的根结点 root ，请你将它展开为一个单链表：\n",
    "\n",
    "- 展开后的单链表应该同样使用 TreeNode ，其中 right 子指针指向链表中下一个结点，而左子指针始终为 null 。\n",
    "\n",
    "- 展开后的单链表应该与二叉树 先序遍历 顺序相同。\n",
    "\n",
    "- 示例1：\n",
    "\n",
    "<div align=\"center\" style=\"text-align: center;\">\n",
    "    <img src=\"../image/7-31-1.png\" style=\"width: 60%;\">\n",
    "</div> \n",
    "\n",
    "```C++\n",
    "输入：root = [1,2,5,3,4,null,6]\n",
    "输出：[1,null,2,null,3,null,4,null,5,null,6]\n",
    "```\n",
    "\n",
    "- 示例2：\n",
    "```C++\n",
    "输入：root = []\n",
    "输出：[]\n",
    "```\n",
    "\n",
    "- 示例3：\n",
    "```C++\n",
    "输入：root = [0]\n",
    "输出：[0]\n",
    "```\n",
    "\n",
    "- 提示：\n",
    "    - 树中结点数在范围 [0, 2000] 内\n",
    "    - -100 <= Node.val <= 100"
   ]
  },
  {
   "cell_type": "markdown",
   "id": "348bd13a",
   "metadata": {},
   "source": [
    "## 代码示例\n",
    "- 二叉树的前序遍历\n",
    "    - 递归实现：先对二叉树进行前序遍历的递归实现，得到顺序，然后再将二叉树的结构填充完整\n",
    "    - 时间复杂度：$O(n)$\n",
    "    - 空间复杂度：$O(n)$"
   ]
  },
  {
   "cell_type": "code",
   "execution_count": null,
   "id": "9786fc1b",
   "metadata": {},
   "outputs": [],
   "source": [
    "/**\n",
    " * Definition for a binary tree node.\n",
    " * struct TreeNode {\n",
    " *     int val;\n",
    " *     TreeNode *left;\n",
    " *     TreeNode *right;\n",
    " *     TreeNode() : val(0), left(nullptr), right(nullptr) {}\n",
    " *     TreeNode(int x) : val(x), left(nullptr), right(nullptr) {}\n",
    " *     TreeNode(int x, TreeNode *left, TreeNode *right) : val(x), left(left), right(right) {}\n",
    " * };\n",
    " */\n",
    "class Solution {\n",
    "private:\n",
    "    void preorderTraversal(TreeNode* root, vector<TreeNode*>& l){\n",
    "        if (root != nullptr) {\n",
    "            l.push_back(root);\n",
    "            preorderTraversal(root->left, l);\n",
    "            preorderTraversal(root->right, l);\n",
    "        }\n",
    "\n",
    "    }\n",
    "public:\n",
    "    void flatten(TreeNode* root) {\n",
    "        vector<TreeNode*> l;\n",
    "        preorderTraversal(root, l);\n",
    "        int n = l.size();\n",
    "        for (int i = 1; i < n; i++) {\n",
    "            TreeNode *prev = l[i - 1], *curr = l[i];\n",
    "            prev->left = nullptr;\n",
    "            prev->right = curr;\n",
    "        }\n",
    "    }\n",
    "};"
   ]
  }
 ],
 "metadata": {
  "kernelspec": {
   "display_name": "Python 3 (ipykernel)",
   "language": "python",
   "name": "python3"
  },
  "language_info": {
   "codemirror_mode": {
    "name": "ipython",
    "version": 3
   },
   "file_extension": ".py",
   "mimetype": "text/x-python",
   "name": "python",
   "nbconvert_exporter": "python",
   "pygments_lexer": "ipython3",
   "version": "3.9.13"
  }
 },
 "nbformat": 4,
 "nbformat_minor": 5
}
