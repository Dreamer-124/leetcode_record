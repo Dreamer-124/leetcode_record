{
 "cells": [
  {
   "cell_type": "markdown",
   "id": "a2e05e62",
   "metadata": {},
   "source": [
    "# 二叉树的层序遍历\n",
    "\n",
    "## [题目](https://leetcode.cn/problems/binary-tree-level-order-traversal/description/)\n",
    "- 给你一个二叉树，请你返回其按 层序遍历 得到的节点值。 （即逐层地，从左到右访问所有节点）。\n",
    "\n",
    "- 示例：\n",
    "<div align=\"center\" style=\"text-align: center;\">\n",
    "    <img src=\"../image/7-5-1.png\" style=\"width: 60%;\">\n",
    "</div> "
   ]
  },
  {
   "cell_type": "markdown",
   "id": "f96970e5",
   "metadata": {},
   "source": [
    "## 代码示例\n",
    "- 使用数据结构即队列来实现，队列先进先出，符合一层一层遍历的逻辑，而用栈先进后出适合模拟深度优先遍历也是就是递归的逻辑。\n",
    "- 使用队列实现二叉树广度优先遍历，动画如下：\n",
    "<div align=\"center\" style=\"text-align: center;\">\n",
    "    <img src=\"../image/7-5-2.gif\" style=\"width: 80%;\">\n",
    "</div> "
   ]
  },
  {
   "cell_type": "code",
   "execution_count": null,
   "id": "aa8d8393",
   "metadata": {},
   "outputs": [],
   "source": [
    "/**\n",
    " * Definition for a binary tree node.\n",
    " * struct TreeNode {\n",
    " *     int val;\n",
    " *     TreeNode *left;\n",
    " *     TreeNode *right;\n",
    " *     TreeNode() : val(0), left(nullptr), right(nullptr) {}\n",
    " *     TreeNode(int x) : val(x), left(nullptr), right(nullptr) {}\n",
    " *     TreeNode(int x, TreeNode *left, TreeNode *right) : val(x), left(left), right(right) {}\n",
    " * };\n",
    " */\n",
    "class Solution {\n",
    "public:\n",
    "    vector<vector<int>> levelOrder(TreeNode* root) {\n",
    "        // 使用包含树节点的队列来实现二叉树的层序遍历\n",
    "        queue<TreeNode*> que;\n",
    "        // 将根节点放入队列中\n",
    "        if (root != nullptr) que.push(root);\n",
    "        // 定义层序遍历的结果变量\n",
    "        vector<vector<int>> result;\n",
    "        // 当队列不为空\n",
    "        while(!que.empty()){\n",
    "            // 获取当前队列大小\n",
    "            int size = que.size();\n",
    "            vector<int> vec;\n",
    "            while(size--){\n",
    "                // 获取当前队列的头部元素\n",
    "                TreeNode* node = que.front();\n",
    "                // 弹出当前队列的头部元素\n",
    "                que.pop();\n",
    "                // 将当前元素的值放入 vector 容器\n",
    "                vec.push_back(node->val);\n",
    "                // 遍历左右节点\n",
    "                if(node->left) que.push(node->left);\n",
    "                if(node->right) que.push(node->right);\n",
    "            }\n",
    "            // 将结果放入 result 变量中\n",
    "            result.push_back(vec);\n",
    "        }\n",
    "        return result;\n",
    "    }\n",
    "};"
   ]
  }
 ],
 "metadata": {
  "kernelspec": {
   "display_name": "Python 3 (ipykernel)",
   "language": "python",
   "name": "python3"
  },
  "language_info": {
   "codemirror_mode": {
    "name": "ipython",
    "version": 3
   },
   "file_extension": ".py",
   "mimetype": "text/x-python",
   "name": "python",
   "nbconvert_exporter": "python",
   "pygments_lexer": "ipython3",
   "version": "3.9.13"
  }
 },
 "nbformat": 4,
 "nbformat_minor": 5
}
