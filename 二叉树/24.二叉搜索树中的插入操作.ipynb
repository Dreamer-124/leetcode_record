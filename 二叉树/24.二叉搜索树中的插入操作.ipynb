{
 "cells": [
  {
   "cell_type": "markdown",
   "id": "b8e7841d",
   "metadata": {},
   "source": [
    "# 二叉搜索树中的插入操作\n",
    "\n",
    "## [题目](https://leetcode.cn/problems/insert-into-a-binary-search-tree/description/)\n",
    "- 给定二叉搜索树（BST）的根节点和要插入树中的值，将值插入二叉搜索树。 返回插入后二叉搜索树的根节点。 输入数据保证，新值和原始二叉搜索树中的任意节点值都不同。\n",
    "\n",
    "- 注意，可能存在多种有效的插入方式，只要树在插入后仍保持为二叉搜索树即可。 你可以返回任意有效的结果。\n",
    "\n",
    "- 示例：\n",
    "<div align=\"center\" style=\"text-align: center;\">\n",
    "    <img src=\"../image/7-24-1.png\" style=\"width: 60%;\">\n",
    "</div> \n",
    "\n",
    "- 说明：\n",
    "    - 给定的树上的节点数介于 0 和 10^4 之间\n",
    "    - 每个节点都有一个唯一整数值，取值范围从 0 到 10^8\n",
    "    - -10^8 <= val <= 10^8\n",
    "    - 新值和原始二叉搜索树中的任意节点值都不同"
   ]
  },
  {
   "cell_type": "markdown",
   "id": "2c2d111c",
   "metadata": {},
   "source": [
    "## 代码示例\n",
    "- 递归法\n",
    "    - 通过递归函数的返回值完成父子节点的赋值是可以带来便利的。\n",
    "    - 照二叉搜索树的规则去遍历，遇到空节点就插入节点就可以了。"
   ]
  },
  {
   "cell_type": "code",
   "execution_count": null,
   "id": "368b0049",
   "metadata": {},
   "outputs": [],
   "source": [
    "/**\n",
    " * Definition for a binary tree node.\n",
    " * struct TreeNode {\n",
    " *     int val;\n",
    " *     TreeNode *left;\n",
    " *     TreeNode *right;\n",
    " *     TreeNode() : val(0), left(nullptr), right(nullptr) {}\n",
    " *     TreeNode(int x) : val(x), left(nullptr), right(nullptr) {}\n",
    " *     TreeNode(int x, TreeNode *left, TreeNode *right) : val(x), left(left), right(right) {}\n",
    " * };\n",
    " */\n",
    "class Solution {\n",
    "public:\n",
    "    TreeNode* insertIntoBST(TreeNode* root, int val) {\n",
    "        if (root == nullptr) {\n",
    "            TreeNode* node = new TreeNode(val);\n",
    "            return node;\n",
    "        }\n",
    "        if (val < root->val) root->left = insertIntoBST(root->left, val);\n",
    "        if (val > root->val) root->right = insertIntoBST(root->right, val);\n",
    "        return root;\n",
    "    }\n",
    "};"
   ]
  }
 ],
 "metadata": {
  "kernelspec": {
   "display_name": "Python 3 (ipykernel)",
   "language": "python",
   "name": "python3"
  },
  "language_info": {
   "codemirror_mode": {
    "name": "ipython",
    "version": 3
   },
   "file_extension": ".py",
   "mimetype": "text/x-python",
   "name": "python",
   "nbconvert_exporter": "python",
   "pygments_lexer": "ipython3",
   "version": "3.9.13"
  }
 },
 "nbformat": 4,
 "nbformat_minor": 5
}
