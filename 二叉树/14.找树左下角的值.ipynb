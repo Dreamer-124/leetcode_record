{
 "cells": [
  {
   "cell_type": "markdown",
   "id": "9c32ca06",
   "metadata": {},
   "source": [
    "# 找树左下角的值\n",
    "\n",
    "## [题目](https://leetcode.cn/problems/find-bottom-left-tree-value/description/)\n",
    "- 给定一个二叉树，在树的最后一行找到最左边的值。\n",
    "\n",
    "- 示例1：\n",
    "\n",
    "<div align=\"center\" style=\"text-align: center;\">\n",
    "    <img src=\"../image/7-14-1.png\" style=\"width: 60%;\">\n",
    "</div> \n",
    "\n",
    "- 示例2：\n",
    "\n",
    "<div align=\"center\" style=\"text-align: center;\">\n",
    "    <img src=\"../image/7-14-2.png\" style=\"width: 60%;\">\n",
    "</div> "
   ]
  },
  {
   "cell_type": "markdown",
   "id": "c6d28bce",
   "metadata": {},
   "source": [
    "## 代码示例\n",
    "- 迭代法（层序遍历）\n",
    "- 时间复杂度：$O(n)$\n",
    "- 空间复杂度：$O(n)$"
   ]
  },
  {
   "cell_type": "code",
   "execution_count": null,
   "id": "0e20dbf8",
   "metadata": {},
   "outputs": [],
   "source": [
    "/**\n",
    " * Definition for a binary tree node.\n",
    " * struct TreeNode {\n",
    " *     int val;\n",
    " *     TreeNode *left;\n",
    " *     TreeNode *right;\n",
    " *     TreeNode() : val(0), left(nullptr), right(nullptr) {}\n",
    " *     TreeNode(int x) : val(x), left(nullptr), right(nullptr) {}\n",
    " *     TreeNode(int x, TreeNode *left, TreeNode *right) : val(x), left(left), right(right) {}\n",
    " * };\n",
    " */\n",
    "class Solution {\n",
    "public:\n",
    "    int findBottomLeftValue(TreeNode* root) {\n",
    "        queue<TreeNode*> que;\n",
    "        if (root) que.push(root);\n",
    "        int result;\n",
    "        while (!que.empty()) {\n",
    "            int size = que.size();\n",
    "            bool flag = true;\n",
    "            while(size--) {\n",
    "                TreeNode* node = que.front();\n",
    "                que.pop();\n",
    "                if (flag) {\n",
    "                    result = node->val;\n",
    "                    flag = false;\n",
    "                }\n",
    "                if (node->left) que.push(node->left);\n",
    "                if (node->right) que.push(node->right);\n",
    "            }\n",
    "        }\n",
    "        return result;\n",
    "    }\n",
    "};"
   ]
  }
 ],
 "metadata": {
  "kernelspec": {
   "display_name": "Python 3 (ipykernel)",
   "language": "python",
   "name": "python3"
  },
  "language_info": {
   "codemirror_mode": {
    "name": "ipython",
    "version": 3
   },
   "file_extension": ".py",
   "mimetype": "text/x-python",
   "name": "python",
   "nbconvert_exporter": "python",
   "pygments_lexer": "ipython3",
   "version": "3.9.13"
  }
 },
 "nbformat": 4,
 "nbformat_minor": 5
}
