{
 "cells": [
  {
   "cell_type": "markdown",
   "id": "221123c1",
   "metadata": {},
   "source": [
    "# 二叉树的最大深度\n",
    "\n",
    "## [题目](https://leetcode.cn/problems/maximum-depth-of-binary-tree/)\n",
    "\n",
    "- 给定一个二叉树，找出其最大深度。\n",
    "\n",
    "- 二叉树的深度为根节点到最远叶子节点的最长路径上的节点数。    \n",
    "\n",
    "- 说明：叶子节点是指没有子节点的节点。\n",
    "\n",
    "- 示例：\n",
    "    - 给定二叉树 [3,9,20,null,null,15,7]，\n",
    "    <div align=\"center\" style=\"text-align: center;\">\n",
    "        <img src=\"../image/7-8-1.png\" style=\"width: 60%;\">\n",
    "    </div> \n",
    "    - 返回它的最大深度 3 。"
   ]
  },
  {
   "cell_type": "markdown",
   "id": "0817443a",
   "metadata": {},
   "source": [
    "## 代码示例\n",
    "- 递归法"
   ]
  },
  {
   "cell_type": "code",
   "execution_count": null,
   "id": "521019c5",
   "metadata": {},
   "outputs": [],
   "source": [
    "class Solution {\n",
    "public:\n",
    "    int maxDepth(TreeNode* root) {\n",
    "        if (root == null) return 0;\n",
    "        return 1 + max(maxDepth(root->left), maxDepth(root->right));\n",
    "    }\n",
    "};"
   ]
  },
  {
   "cell_type": "markdown",
   "id": "bba836f8",
   "metadata": {},
   "source": [
    "- 迭代法"
   ]
  },
  {
   "cell_type": "code",
   "execution_count": null,
   "id": "14d49f81",
   "metadata": {},
   "outputs": [],
   "source": [
    "class Solution {\n",
    "public:\n",
    "    int maxDepth(TreeNode* root) {\n",
    "        if (root == NULL) return 0;\n",
    "        int depth = 0;\n",
    "        queue<TreeNode*> que;\n",
    "        que.push(root);\n",
    "        while(!que.empty()) {\n",
    "            int size = que.size();\n",
    "            depth++; // 记录深度\n",
    "            for (int i = 0; i < size; i++) {\n",
    "                TreeNode* node = que.front();\n",
    "                que.pop();\n",
    "                if (node->left) que.push(node->left);\n",
    "                if (node->right) que.push(node->right);\n",
    "            }\n",
    "        }\n",
    "        return depth;\n",
    "    }\n",
    "};"
   ]
  }
 ],
 "metadata": {
  "kernelspec": {
   "display_name": "Python 3 (ipykernel)",
   "language": "python",
   "name": "python3"
  },
  "language_info": {
   "codemirror_mode": {
    "name": "ipython",
    "version": 3
   },
   "file_extension": ".py",
   "mimetype": "text/x-python",
   "name": "python",
   "nbconvert_exporter": "python",
   "pygments_lexer": "ipython3",
   "version": "3.9.13"
  }
 },
 "nbformat": 4,
 "nbformat_minor": 5
}
