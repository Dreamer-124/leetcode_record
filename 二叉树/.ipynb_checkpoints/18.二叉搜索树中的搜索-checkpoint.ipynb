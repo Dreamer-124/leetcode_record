{
 "cells": [
  {
   "cell_type": "markdown",
   "id": "540d7272",
   "metadata": {},
   "source": [
    "# 二叉搜索树中的搜索\n",
    "\n",
    "## [题目](https://leetcode.cn/problems/search-in-a-binary-search-tree/description/)\n",
    "- 给定二叉搜索树（BST）的根节点和一个值。 你需要在BST中找到节点值等于给定值的节点。 返回以该节点为根的子树。 如果节点不存在，则返回 NULL。\n",
    "\n",
    "- 示例1：\n",
    "<div align=\"center\" style=\"text-align: center;\">\n",
    "    <img src=\"../image/7-16-1.png\" style=\"width: 60%;\">\n",
    "</div> \n",
    "\n",
    "- 注意: 在上述示例中，如果要找的值是 5，但因为没有节点值为 5，我们应该返回 NULL。"
   ]
  },
  {
   "cell_type": "markdown",
   "id": "7a4f97f6",
   "metadata": {},
   "source": [
    "## 代码示例\n",
    "- 二叉搜索树是一个有序树：\n",
    "    - 若它的左子树不空，则左子树上所有结点的值均小于它的根节点的值\n",
    "    - 若它的右子树不空，则右子树上所有结点的值均大于它的根结点的值\n",
    "    - 它的左、右子树也分别为二叉搜索树\n",
    "    \n",
    "- 使用前序遍历，完全处理每一个节点\n",
    "- 时间复杂度：$O(n)$\n",
    "- 空间复杂度：$O(n)$"
   ]
  },
  {
   "cell_type": "code",
   "execution_count": null,
   "id": "2f92868b",
   "metadata": {},
   "outputs": [],
   "source": [
    "/**\n",
    " * Definition for a binary tree node.\n",
    " * struct TreeNode {\n",
    " *     int val;\n",
    " *     TreeNode *left;\n",
    " *     TreeNode *right;\n",
    " *     TreeNode() : val(0), left(nullptr), right(nullptr) {}\n",
    " *     TreeNode(int x) : val(x), left(nullptr), right(nullptr) {}\n",
    " *     TreeNode(int x, TreeNode *left, TreeNode *right) : val(x), left(left), right(right) {}\n",
    " * };\n",
    " */\n",
    "class Solution {\n",
    "public:\n",
    "    TreeNode* searchBST(TreeNode* root, int val) {\n",
    "        if (root == nullptr || root->val == val) return root;\n",
    "        if (root->val > val) return searchBST(root->left, val);\n",
    "        if (root->val < val) return searchBST(root->right, val);\n",
    "        return nullptr;\n",
    "    }\n",
    "};"
   ]
  }
 ],
 "metadata": {
  "kernelspec": {
   "display_name": "Python 3 (ipykernel)",
   "language": "python",
   "name": "python3"
  },
  "language_info": {
   "codemirror_mode": {
    "name": "ipython",
    "version": 3
   },
   "file_extension": ".py",
   "mimetype": "text/x-python",
   "name": "python",
   "nbconvert_exporter": "python",
   "pygments_lexer": "ipython3",
   "version": "3.9.13"
  }
 },
 "nbformat": 4,
 "nbformat_minor": 5
}
