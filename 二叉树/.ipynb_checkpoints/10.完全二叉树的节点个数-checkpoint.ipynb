{
 "cells": [
  {
   "cell_type": "markdown",
   "id": "8792127f",
   "metadata": {},
   "source": [
    "# 完全二叉树的节点个数\n",
    "\n",
    "## [题目](https://leetcode.cn/problems/count-complete-tree-nodes/description/)\n",
    "- 给出一个完全二叉树，求出该树的节点个数。  \n",
    "\n",
    "- 示例1：\n",
    "```C++\n",
    "输入：root = [1,2,3,4,5,6]\n",
    "输出：6\n",
    "```\n",
    "\n",
    "- 示例2：\n",
    "```C++\n",
    "输入：root = []\n",
    "输出：0\n",
    "```\n",
    "\n",
    "- 示例3：\n",
    "```C++\n",
    "输入：root = [1]\n",
    "输出：1\n",
    "```\n",
    "\n",
    "- 提示: \n",
    "    - 树中节点的数目范围是[0, 5 * 10^4]\n",
    "    - 0 <= Node.val <= 5 * 10^4\n",
    "    - 题目数据保证输入的树是 完全二叉树 \n",
    "    - 在完全二叉树中，除了最底层节点可能没填满外，其余每层节点数都达到最大值，并且最下面一层的节点都集中在该层最左边的若干位置。若最底层为第 h 层，则该层包含 1~ 2^(h-1)  个节点。\n",
    "    <div align=\"center\" style=\"text-align: center;\">\n",
    "        <img src=\"../image/7-9-1.png\" style=\"width: 60%;\">\n",
    "    </div> "
   ]
  },
  {
   "cell_type": "markdown",
   "id": "1a4de7b9",
   "metadata": {},
   "source": [
    "## 代码示例\n",
    "- 迭代法\n",
    "    - 空间复杂度 $O(n)$\n",
    "    - 时间复杂度 $O(n)$"
   ]
  },
  {
   "cell_type": "code",
   "execution_count": null,
   "id": "245aeb59",
   "metadata": {},
   "outputs": [],
   "source": [
    "/**\n",
    " * Definition for a binary tree node.\n",
    " * struct TreeNode {\n",
    " *     int val;\n",
    " *     TreeNode *left;\n",
    " *     TreeNode *right;\n",
    " *     TreeNode() : val(0), left(nullptr), right(nullptr) {}\n",
    " *     TreeNode(int x) : val(x), left(nullptr), right(nullptr) {}\n",
    " *     TreeNode(int x, TreeNode *left, TreeNode *right) : val(x), left(left), right(right) {}\n",
    " * };\n",
    " */\n",
    "class Solution {\n",
    "public:\n",
    "    int countNodes(TreeNode* root) {\n",
    "        queue<TreeNode*> que;\n",
    "        if (root) que.push(root);\n",
    "        int result = 0;\n",
    "        while(!que.empty()) {\n",
    "            int size = que.size();\n",
    "            result += size;\n",
    "            while(size--){\n",
    "                TreeNode* node = que.front();\n",
    "                que.pop();\n",
    "                if(node->left) que.push(node->left);\n",
    "                if(node->right) que.push(node->right);\n",
    "            }\n",
    "        }\n",
    "        return result;\n",
    "    }\n",
    "};"
   ]
  },
  {
   "cell_type": "markdown",
   "id": "433b9f6d",
   "metadata": {},
   "source": [
    "- 递归法\n",
    "    - 空间复杂度 $O(n)$\n",
    "    - 时间复杂度 $O(n)$"
   ]
  },
  {
   "cell_type": "code",
   "execution_count": null,
   "id": "306ac03f",
   "metadata": {},
   "outputs": [],
   "source": [
    "class Solution {\n",
    "public:\n",
    "    int countNodes(TreeNode* root) {\n",
    "        if (root == NULL) return 0;\n",
    "        return 1 + countNodes(root->left) + countNodes(root->right);\n",
    "    }\n",
    "};"
   ]
  }
 ],
 "metadata": {
  "kernelspec": {
   "display_name": "Python 3 (ipykernel)",
   "language": "python",
   "name": "python3"
  },
  "language_info": {
   "codemirror_mode": {
    "name": "ipython",
    "version": 3
   },
   "file_extension": ".py",
   "mimetype": "text/x-python",
   "name": "python",
   "nbconvert_exporter": "python",
   "pygments_lexer": "ipython3",
   "version": "3.9.13"
  }
 },
 "nbformat": 4,
 "nbformat_minor": 5
}
