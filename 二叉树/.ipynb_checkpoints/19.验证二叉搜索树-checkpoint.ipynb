{
 "cells": [
  {
   "cell_type": "markdown",
   "id": "93a08499",
   "metadata": {},
   "source": [
    "# 验证二叉搜索树\n",
    "\n",
    "## [题目](https://leetcode.cn/problems/validate-binary-search-tree/description/)\n",
    "- 给定一个二叉树，判断其是否是一个有效的二叉搜索树。\n",
    "\n",
    "- 假设一个二叉搜索树具有如下特征：\n",
    "    - 节点的左子树只包含小于当前节点的数。\n",
    "    - 节点的右子树只包含大于当前节点的数。\n",
    "    - 所有左子树和右子树自身必须也是二叉搜索树。\n",
    "\n",
    "- 示例1：\n",
    "\n",
    "<div align=\"center\" style=\"text-align: center;\">\n",
    "    <img src=\"../image/7-19-1.png\" style=\"width: 60%;\">\n",
    "</div> "
   ]
  },
  {
   "cell_type": "markdown",
   "id": "451cee53",
   "metadata": {},
   "source": [
    "## 代码示例\n",
    "- 中序遍历下，输出的二叉搜索树节点的数值是有序序列。有了这个特性，验证二叉搜索树，就相当于变成了判断一个序列是不是递增的了\n",
    "- 样例中最小节点 可能是int的最小值，如果这样使用最小的int来比较也是不行的。此时可以初始化比较元素为longlong的最小值。\n",
    "- 时间复杂度：$O(n)$\n",
    "- 空间复杂度：$O(n)$"
   ]
  },
  {
   "cell_type": "code",
   "execution_count": null,
   "id": "382ded80",
   "metadata": {},
   "outputs": [],
   "source": [
    "/**\n",
    " * Definition for a binary tree node.\n",
    " * struct TreeNode {\n",
    " *     int val;\n",
    " *     TreeNode *left;\n",
    " *     TreeNode *right;\n",
    " *     TreeNode() : val(0), left(nullptr), right(nullptr) {}\n",
    " *     TreeNode(int x) : val(x), left(nullptr), right(nullptr) {}\n",
    " *     TreeNode(int x, TreeNode *left, TreeNode *right) : val(x), left(left), right(right) {}\n",
    " * };\n",
    " */\n",
    "class Solution {\n",
    "public:\n",
    "    TreeNode* pre = nullptr;\n",
    "    bool isValidBST(TreeNode* root) {\n",
    "        if (root == nullptr) return true;\n",
    "        \n",
    "        bool left = isValidBST(root->left);\n",
    "\n",
    "        if (pre != nullptr && root->val <= pre->val) return false;\n",
    "        pre = root; \n",
    "\n",
    "        bool right = isValidBST(root->right);\n",
    "\n",
    "        return left && right;\n",
    "    }\n",
    "};"
   ]
  }
 ],
 "metadata": {
  "kernelspec": {
   "display_name": "Python 3 (ipykernel)",
   "language": "python",
   "name": "python3"
  },
  "language_info": {
   "codemirror_mode": {
    "name": "ipython",
    "version": 3
   },
   "file_extension": ".py",
   "mimetype": "text/x-python",
   "name": "python",
   "nbconvert_exporter": "python",
   "pygments_lexer": "ipython3",
   "version": "3.9.13"
  }
 },
 "nbformat": 4,
 "nbformat_minor": 5
}
