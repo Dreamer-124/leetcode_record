{
 "cells": [
  {
   "cell_type": "markdown",
   "id": "2ac84c34",
   "metadata": {},
   "source": [
    "# 二叉树的最小深度\n",
    "\n",
    "## [题目](https://leetcode.cn/problems/minimum-depth-of-binary-tree/description/)\n",
    "- 给定一个二叉树，找出其最小深度。\n",
    "\n",
    "- 最小深度是从根节点到最近叶子节点的最短路径上的节点数量。\n",
    "\n",
    "- 说明: 叶子节点是指没有子节点的节点。   \n",
    "\n",
    "- 示例：\n",
    "    - 给定二叉树 [3,9,20,null,null,15,7]，\n",
    "    <div align=\"center\" style=\"text-align: center;\">\n",
    "        <img src=\"../image/7-8-1.png\" style=\"width: 60%;\">\n",
    "    </div> \n",
    "    - 返回它的最大深度 2 。"
   ]
  },
  {
   "cell_type": "markdown",
   "id": "c80c7976",
   "metadata": {},
   "source": [
    "## 代码示例\n",
    "- 递归法"
   ]
  },
  {
   "cell_type": "code",
   "execution_count": null,
   "id": "a2d3470b",
   "metadata": {},
   "outputs": [],
   "source": [
    "class Solution {\n",
    "public:\n",
    "    int minDepth(TreeNode* root) {\n",
    "        if (root == NULL) return 0;\n",
    "        if (root->left == NULL && root->right != NULL) {\n",
    "            return 1 + minDepth(root->right);\n",
    "        }\n",
    "        if (root->left != NULL && root->right == NULL) {\n",
    "            return 1 + minDepth(root->left);\n",
    "        }\n",
    "        return 1 + min(minDepth(root->left), minDepth(root->right));\n",
    "    }\n",
    "};"
   ]
  },
  {
   "cell_type": "markdown",
   "id": "a7435e0c",
   "metadata": {},
   "source": [
    "- 迭代法"
   ]
  },
  {
   "cell_type": "code",
   "execution_count": null,
   "id": "c7ad6593",
   "metadata": {},
   "outputs": [],
   "source": [
    "class Solution {\n",
    "public:\n",
    "\n",
    "    int minDepth(TreeNode* root) {\n",
    "        if (root == NULL) return 0;\n",
    "        int depth = 0;\n",
    "        queue<TreeNode*> que;\n",
    "        que.push(root);\n",
    "        while(!que.empty()) {\n",
    "            int size = que.size();\n",
    "            depth++; // 记录最小深度\n",
    "            for (int i = 0; i < size; i++) {\n",
    "                TreeNode* node = que.front();\n",
    "                que.pop();\n",
    "                if (node->left) que.push(node->left);\n",
    "                if (node->right) que.push(node->right);\n",
    "                if (!node->left && !node->right) { // 当左右孩子都为空的时候，说明是最低点的一层了，退出\n",
    "                    return depth;\n",
    "                }\n",
    "            }\n",
    "        }\n",
    "        return depth;\n",
    "    }\n",
    "};"
   ]
  }
 ],
 "metadata": {
  "kernelspec": {
   "display_name": "Python 3 (ipykernel)",
   "language": "python",
   "name": "python3"
  },
  "language_info": {
   "codemirror_mode": {
    "name": "ipython",
    "version": 3
   },
   "file_extension": ".py",
   "mimetype": "text/x-python",
   "name": "python",
   "nbconvert_exporter": "python",
   "pygments_lexer": "ipython3",
   "version": "3.9.13"
  }
 },
 "nbformat": 4,
 "nbformat_minor": 5
}
