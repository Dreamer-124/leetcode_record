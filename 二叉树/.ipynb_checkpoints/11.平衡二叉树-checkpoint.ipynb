{
 "cells": [
  {
   "cell_type": "markdown",
   "id": "0e42fc66",
   "metadata": {},
   "source": [
    "# 完全二叉树的节点个数\n",
    "\n",
    "## [题目](https://leetcode.cn/problems/balanced-binary-tree/description/)\n",
    "- 给定一个二叉树，判断它是否是高度平衡的二叉树。\n",
    "\n",
    "- 本题中，一棵高度平衡二叉树定义为：一个二叉树每个节点 的左右两个子树的高度差的绝对值不超过1。\n",
    "\n",
    "- 示例1：\n",
    "```C++\n",
    "输入：给定二叉树 [3,9,20,null,null,15,7]\n",
    "输出：返回 true 。\n",
    "```\n",
    "<div align=\"center\" style=\"text-align: center;\">\n",
    "    <img src=\"../image/7-11-1.png\" style=\"width: 60%;\">\n",
    "</div> \n",
    "\n",
    "- 示例2：\n",
    "```C++\n",
    "输入：给定二叉树 [1,2,2,3,3,null,null,4,4]\n",
    "输出：返回 false 。\n",
    "```\n",
    "\n",
    "<div align=\"center\" style=\"text-align: center;\">\n",
    "    <img src=\"../image/7-11-2.png\" style=\"width: 60%;\">\n",
    "</div> "
   ]
  },
  {
   "cell_type": "markdown",
   "id": "4b541f35",
   "metadata": {},
   "source": [
    "## 代码示例\n",
    "- 递归法\n",
    "    - 时间复杂度：$O(n)$\n",
    "    - 空间复杂度：$O(n)$"
   ]
  },
  {
   "cell_type": "code",
   "execution_count": null,
   "id": "f36ce057",
   "metadata": {},
   "outputs": [],
   "source": [
    "class Solution {\n",
    "public:\n",
    "    // 返回以该节点为根节点的二叉树的高度，如果不是平衡二叉树了则返回-1\n",
    "    int getHeight(TreeNode* node) {\n",
    "        if (node == NULL) {\n",
    "            return 0;\n",
    "        }\n",
    "        int leftHeight = getHeight(node->left);\n",
    "        if (leftHeight == -1) return -1;\n",
    "        int rightHeight = getHeight(node->right);\n",
    "        if (rightHeight == -1) return -1;\n",
    "        return abs(leftHeight - rightHeight) > 1 ? -1 : 1 + max(leftHeight, rightHeight);\n",
    "    }\n",
    "    bool isBalanced(TreeNode* root) {\n",
    "        return getHeight(root) == -1 ? false : true;\n",
    "    }\n",
    "};"
   ]
  }
 ],
 "metadata": {
  "kernelspec": {
   "display_name": "Python 3 (ipykernel)",
   "language": "python",
   "name": "python3"
  },
  "language_info": {
   "codemirror_mode": {
    "name": "ipython",
    "version": 3
   },
   "file_extension": ".py",
   "mimetype": "text/x-python",
   "name": "python",
   "nbconvert_exporter": "python",
   "pygments_lexer": "ipython3",
   "version": "3.9.13"
  }
 },
 "nbformat": 4,
 "nbformat_minor": 5
}
