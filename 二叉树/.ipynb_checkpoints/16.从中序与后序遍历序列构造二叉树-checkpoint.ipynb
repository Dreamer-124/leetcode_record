{
 "cells": [
  {
   "cell_type": "markdown",
   "id": "657fb7f3",
   "metadata": {},
   "source": [
    "# 从中序与后序遍历序列构造二叉树\n",
    "\n",
    "## [题目](https://leetcode.cn/problems/construct-binary-tree-from-inorder-and-postorder-traversal/description/)\n",
    "- 根据一棵树的中序遍历与后序遍历构造二叉树。\n",
    "\n",
    "- 示例1：\n",
    "```C++\n",
    "输入：中序遍历 inorder = [9,3,15,20,7] 后序遍历 postorder = [9,15,7,20,3] 返回如下的二叉树：\n",
    "```\n",
    "<div align=\"center\" style=\"text-align: center;\">\n",
    "    <img src=\"../image/7-16-1.png\" style=\"width: 60%;\">\n",
    "</div> \n",
    "\n",
    "- 注意: 你可以假设树中没有重复的元素。"
   ]
  },
  {
   "cell_type": "markdown",
   "id": "9cd37fd1",
   "metadata": {},
   "source": [
    "## 代码示例\n",
    "- 递归完成如下操作：\n",
    "    - step1：如果数组大小为 0 的话，说明是空节点了。\n",
    "    - step2：如果不为空，那么取后序数组最后一个元素作为节点元素。\n",
    "    - step3：找到后序数组最后一个元素在中序数组的位置，作为切割点。\n",
    "    - step4：切割中序数组，切成中序左数组和中序右数组（顺序别搞反了，一定是先切中序数组）\n",
    "    - step5：切割后序数组，切成后序左数组和后序右数组\n",
    "    - step6：递归处理左区间和右区间\n",
    "- 时间复杂度：$O(n)$\n",
    "- 空间复杂度：$O(n)$"
   ]
  },
  {
   "cell_type": "code",
   "execution_count": null,
   "id": "bdff8014",
   "metadata": {},
   "outputs": [],
   "source": [
    "class Solution {\n",
    "private:\n",
    "    TreeNode* traversal (vector<int>& inorder, vector<int>& postorder) {\n",
    "        if (postorder.size() == 0) return NULL;\n",
    "\n",
    "        // 后序遍历数组最后一个元素，就是当前的中间节点\n",
    "        int rootValue = postorder[postorder.size() - 1];\n",
    "        TreeNode* root = new TreeNode(rootValue);\n",
    "\n",
    "        // 叶子节点\n",
    "        if (postorder.size() == 1) return root;\n",
    "\n",
    "        // 找到中序遍历的切割点\n",
    "        int delimiterIndex;\n",
    "        for (delimiterIndex = 0; delimiterIndex < inorder.size(); delimiterIndex++) {\n",
    "            if (inorder[delimiterIndex] == rootValue) break;\n",
    "        }\n",
    "\n",
    "        // 切割中序数组\n",
    "        // 左闭右开区间：[0, delimiterIndex)\n",
    "        vector<int> leftInorder(inorder.begin(), inorder.begin() + delimiterIndex);\n",
    "        // [delimiterIndex + 1, end)\n",
    "        vector<int> rightInorder(inorder.begin() + delimiterIndex + 1, inorder.end() );\n",
    "\n",
    "        // postorder 舍弃末尾元素\n",
    "        postorder.resize(postorder.size() - 1);\n",
    "\n",
    "        // 切割后序数组\n",
    "        // 依然左闭右开，注意这里使用了左中序数组大小作为切割点\n",
    "        // [0, leftInorder.size)\n",
    "        vector<int> leftPostorder(postorder.begin(), postorder.begin() + leftInorder.size());\n",
    "        // [leftInorder.size(), end)\n",
    "        vector<int> rightPostorder(postorder.begin() + leftInorder.size(), postorder.end());\n",
    "\n",
    "        root->left = traversal(leftInorder, leftPostorder);\n",
    "        root->right = traversal(rightInorder, rightPostorder);\n",
    "\n",
    "        return root;\n",
    "    }\n",
    "public:\n",
    "    TreeNode* buildTree(vector<int>& inorder, vector<int>& postorder) {\n",
    "        if (inorder.size() == 0 || postorder.size() == 0) return NULL;\n",
    "        return traversal(inorder, postorder);\n",
    "    }\n",
    "};\n"
   ]
  }
 ],
 "metadata": {
  "kernelspec": {
   "display_name": "Python 3 (ipykernel)",
   "language": "python",
   "name": "python3"
  },
  "language_info": {
   "codemirror_mode": {
    "name": "ipython",
    "version": 3
   },
   "file_extension": ".py",
   "mimetype": "text/x-python",
   "name": "python",
   "nbconvert_exporter": "python",
   "pygments_lexer": "ipython3",
   "version": "3.9.13"
  }
 },
 "nbformat": 4,
 "nbformat_minor": 5
}
