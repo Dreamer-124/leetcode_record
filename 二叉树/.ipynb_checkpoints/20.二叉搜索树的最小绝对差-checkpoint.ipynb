{
 "cells": [
  {
   "cell_type": "markdown",
   "id": "045469c4",
   "metadata": {},
   "source": [
    "# 验证二叉搜索树\n",
    "\n",
    "## [题目](https://leetcode.cn/problems/minimum-absolute-difference-in-bst/description/)\n",
    "- 给你一棵所有节点为非负值的二叉搜索树，请你计算树中任意两节点的差的绝对值的最小值。\n",
    "\n",
    "- 示例：\n",
    "\n",
    "<div align=\"center\" style=\"text-align: center;\">\n",
    "    <img src=\"../image/7-20-1.png\" style=\"width: 60%;\">\n",
    "</div> \n",
    "\n",
    "- 提示：树中至少有 2 个节点。"
   ]
  },
  {
   "cell_type": "markdown",
   "id": "e2785115",
   "metadata": {},
   "source": [
    "## 代码示例\n",
    "- 二叉搜索树的中序遍历是一个递增数组，在一个有序数组上求两个数最小差值。\n",
    "- 时间复杂度：$O(n)$\n",
    "- 空间复杂度：$O(n)$"
   ]
  },
  {
   "cell_type": "code",
   "execution_count": null,
   "id": "14b411e1",
   "metadata": {},
   "outputs": [],
   "source": [
    "/**\n",
    " * Definition for a binary tree node.\n",
    " * struct TreeNode {\n",
    " *     int val;\n",
    " *     TreeNode *left;\n",
    " *     TreeNode *right;\n",
    " *     TreeNode() : val(0), left(nullptr), right(nullptr) {}\n",
    " *     TreeNode(int x) : val(x), left(nullptr), right(nullptr) {}\n",
    " *     TreeNode(int x, TreeNode *left, TreeNode *right) : val(x), left(left), right(right) {}\n",
    " * };\n",
    " */\n",
    "class Solution {\n",
    "public:\n",
    "    void traversal(TreeNode* root, vector<int>& vec) {\n",
    "        if (root == nullptr) return ;\n",
    "        traversal(root->left, vec);\n",
    "        vec.push_back(root->val);\n",
    "        traversal(root->right, vec);\n",
    "    }   \n",
    "    int getMinimumDifference(TreeNode* root) {\n",
    "        vector<int> vec;\n",
    "        int minVal = INT_MAX;\n",
    "        traversal(root, vec);\n",
    "        for (int i = 0; i < vec.size() - 1; i++) {\n",
    "            if (abs(vec[i] - vec[i + 1]) < minVal) {\n",
    "                minVal = abs(vec[i] - vec[i + 1]);\n",
    "            }\n",
    "        }\n",
    "        return minVal;\n",
    "    }\n",
    "};"
   ]
  }
 ],
 "metadata": {
  "kernelspec": {
   "display_name": "Python 3 (ipykernel)",
   "language": "python",
   "name": "python3"
  },
  "language_info": {
   "codemirror_mode": {
    "name": "ipython",
    "version": 3
   },
   "file_extension": ".py",
   "mimetype": "text/x-python",
   "name": "python",
   "nbconvert_exporter": "python",
   "pygments_lexer": "ipython3",
   "version": "3.9.13"
  }
 },
 "nbformat": 4,
 "nbformat_minor": 5
}
