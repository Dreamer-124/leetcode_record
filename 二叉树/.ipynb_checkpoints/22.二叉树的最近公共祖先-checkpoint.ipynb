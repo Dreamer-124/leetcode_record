{
 "cells": [
  {
   "cell_type": "markdown",
   "id": "1dbc3646",
   "metadata": {},
   "source": [
    "# 二叉树的最近公共祖先\n",
    "\n",
    "## [题目](https://leetcode.cn/problems/balanced-binary-tree/description/)\n",
    "- 给定一个二叉树, 找到该树中两个指定节点的最近公共祖先。\n",
    "\n",
    "- 百度百科中最近公共祖先的定义为：“对于有根树 T 的两个结点 p、q，最近公共祖先表示为一个结点 x，满足 x 是 p、q 的祖先且 x 的深度尽可能大（一个节点也可以是它自己的祖先）。”\n",
    "\n",
    "- 示例1：\n",
    "```C++\n",
    "输入: root = [3,5,1,6,2,0,8,null,null,7,4], p = 5, q = 1 \n",
    "输出: 3 \n",
    "解释: 节点 5 和节点 1 的最近公共祖先是节点 3。\n",
    "```\n",
    "\n",
    "- 示例2：\n",
    "```C++\n",
    "输入: root = [3,5,1,6,2,0,8,null,null,7,4], p = 5, q = 4 \n",
    "输出: 5 \n",
    "解释: 节点 5 和节点 4 的最近公共祖先是节点 5。因为根据定义最近公共祖先节点可以为节点本身。\n",
    "```\n",
    "\n",
    "<div align=\"center\" style=\"text-align: center;\">\n",
    "    <img src=\"../image/7-21-1.png\" style=\"width: 60%;\">\n",
    "</div> \n",
    "\n",
    "- 说明：\n",
    "    - 所有节点的值都是唯一的\n",
    "    - p、q 为不同节点且均存在于给定的二叉树中"
   ]
  },
  {
   "cell_type": "markdown",
   "id": "16b53c9c",
   "metadata": {},
   "source": [
    "## 代码示例\n",
    "- 如果找到一个节点，发现左子树出现结点p，右子树出现节点q，或者 左子树出现结点q，右子树出现节点p，那么该节点就是节点p和q的最近公共祖先。\n",
    "- 遇到 q 或者 p 就返回，这样也包含了 q 或者 p 本身就是 公共祖先的情况。\n",
    "- 递归解法\n",
    "    - 时间复杂度：$O(n)$\n",
    "    - 空间复杂度：$O(n)$\n"
   ]
  },
  {
   "cell_type": "code",
   "execution_count": null,
   "id": "47698a8a",
   "metadata": {},
   "outputs": [],
   "source": [
    "/**\n",
    " * Definition for a binary tree node.\n",
    " * struct TreeNode {\n",
    " *     int val;\n",
    " *     TreeNode *left;\n",
    " *     TreeNode *right;\n",
    " *     TreeNode(int x) : val(x), left(NULL), right(NULL) {}\n",
    " * };\n",
    " */\n",
    "class Solution {\n",
    "public:\n",
    "    TreeNode* lowestCommonAncestor(TreeNode* root, TreeNode* p, TreeNode* q) {\n",
    "        if (root == q || root == p || root == NULL) return root;\n",
    "        TreeNode* left = lowestCommonAncestor(root->left, p, q);\n",
    "        TreeNode* right = lowestCommonAncestor(root->right, p, q);\n",
    "        if(left != NULL && right != NULL) return root;\n",
    "        if(left == NULL) return right;\n",
    "        return left;\n",
    "    }\n",
    "};"
   ]
  }
 ],
 "metadata": {
  "kernelspec": {
   "display_name": "Python 3 (ipykernel)",
   "language": "python",
   "name": "python3"
  },
  "language_info": {
   "codemirror_mode": {
    "name": "ipython",
    "version": 3
   },
   "file_extension": ".py",
   "mimetype": "text/x-python",
   "name": "python",
   "nbconvert_exporter": "python",
   "pygments_lexer": "ipython3",
   "version": "3.9.13"
  }
 },
 "nbformat": 4,
 "nbformat_minor": 5
}
