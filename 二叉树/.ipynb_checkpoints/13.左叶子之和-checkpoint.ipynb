{
 "cells": [
  {
   "cell_type": "markdown",
   "id": "d4ec55e1",
   "metadata": {},
   "source": [
    "# 左叶子之和\n",
    "\n",
    "## [题目](https://leetcode.cn/problems/sum-of-left-leaves/description/)\n",
    "- 计算给定二叉树的所有左叶子之和。\n",
    "\n",
    "- 示例：\n",
    "\n",
    "<div align=\"center\" style=\"text-align: center;\">\n",
    "    <img src=\"../image/7-13-1.png\" style=\"width: 60%;\">\n",
    "</div> "
   ]
  },
  {
   "cell_type": "markdown",
   "id": "f3934f1b",
   "metadata": {},
   "source": [
    "## 代码示例\n",
    "- 递归法（使用前序遍历），然后做中止条件判断，最后处理单层逻辑\n",
    "- 通过节点的父节点判断本节点的属性\n",
    "- 时间复杂度：$O(n)$\n",
    "- 空间复杂度：$O(n)$"
   ]
  },
  {
   "cell_type": "code",
   "execution_count": null,
   "id": "59d61d75",
   "metadata": {},
   "outputs": [],
   "source": [
    "class Solution {\n",
    "public:\n",
    "    int sumOfLeftLeaves(TreeNode* root) {\n",
    "        if (root == NULL) return 0;\n",
    "        int leftValue = 0;\n",
    "        if (root->left != NULL && root->left->left == NULL && root->left->right == NULL) {\n",
    "            leftValue = root->left->val;\n",
    "        }\n",
    "        return leftValue + sumOfLeftLeaves(root->left) + sumOfLeftLeaves(root->right);\n",
    "    }\n",
    "};"
   ]
  },
  {
   "cell_type": "markdown",
   "id": "c17ba4bd",
   "metadata": {},
   "source": [
    "## 代码示例\n",
    "- 迭代法（使用前序遍历）\n",
    "- 时间复杂度：$O(n)$\n",
    "- 空间复杂度：$O(n)$"
   ]
  },
  {
   "cell_type": "code",
   "execution_count": null,
   "id": "215177d7",
   "metadata": {},
   "outputs": [],
   "source": [
    "class Solution {\n",
    "public:\n",
    "    int sumOfLeftLeaves(TreeNode* root) {\n",
    "        stack<TreeNode*> st;\n",
    "        if (root == NULL) return 0;\n",
    "        st.push(root);\n",
    "        int result = 0;\n",
    "        while (!st.empty()) {\n",
    "            TreeNode* node = st.top();\n",
    "            st.pop();\n",
    "            if (node->left != NULL && node->left->left == NULL && node->left->right == NULL) {\n",
    "                result += node->left->val;\n",
    "            }\n",
    "            if (node->right) st.push(node->right);\n",
    "            if (node->left) st.push(node->left);\n",
    "        }\n",
    "        return result;\n",
    "    }\n",
    "};"
   ]
  }
 ],
 "metadata": {
  "kernelspec": {
   "display_name": "Python 3 (ipykernel)",
   "language": "python",
   "name": "python3"
  },
  "language_info": {
   "codemirror_mode": {
    "name": "ipython",
    "version": 3
   },
   "file_extension": ".py",
   "mimetype": "text/x-python",
   "name": "python",
   "nbconvert_exporter": "python",
   "pygments_lexer": "ipython3",
   "version": "3.9.13"
  }
 },
 "nbformat": 4,
 "nbformat_minor": 5
}
