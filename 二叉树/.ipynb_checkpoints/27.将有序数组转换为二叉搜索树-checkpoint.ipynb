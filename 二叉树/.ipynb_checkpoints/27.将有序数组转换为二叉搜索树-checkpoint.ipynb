{
 "cells": [
  {
   "cell_type": "markdown",
   "id": "1b11cc4d",
   "metadata": {},
   "source": [
    "# 将有序数组转换为二叉搜索树\n",
    "\n",
    "## [题目](https://leetcode.cn/problems/convert-sorted-array-to-binary-search-tree/description/)\n",
    "- 将一个按照升序排列的有序数组，转换为一棵高度平衡二叉搜索树。\n",
    "\n",
    "- 本题中，一个高度平衡二叉树是指一个二叉树每个节点 的左右两个子树的高度差的绝对值不超过 1。\n",
    "\n",
    "- 示例：\n",
    "\n",
    "<div align=\"center\" style=\"text-align: center;\">\n",
    "    <img src=\"../image/7-27-1.png\" style=\"width: 60%;\">\n",
    "</div> "
   ]
  },
  {
   "cell_type": "markdown",
   "id": "94d996ee",
   "metadata": {},
   "source": [
    "## 代码示例\n",
    "- 迭代法\n",
    "    - 主要找到分割点，分割点作为当前节点，然后递归左右区间"
   ]
  },
  {
   "cell_type": "code",
   "execution_count": null,
   "id": "7e552a57",
   "metadata": {},
   "outputs": [],
   "source": [
    "/**\n",
    " * Definition for a binary tree node.\n",
    " * struct TreeNode {\n",
    " *     int val;\n",
    " *     TreeNode *left;\n",
    " *     TreeNode *right;\n",
    " *     TreeNode() : val(0), left(nullptr), right(nullptr) {}\n",
    " *     TreeNode(int x) : val(x), left(nullptr), right(nullptr) {}\n",
    " *     TreeNode(int x, TreeNode *left, TreeNode *right) : val(x), left(left), right(right) {}\n",
    " * };\n",
    " */\n",
    "class Solution {\n",
    "public:\n",
    "    TreeNode* sortedArrayToBST(vector<int>& nums) {\n",
    "        if (nums.size() == 0) return nullptr;\n",
    "        int middle = nums.size() / 2;\n",
    "        TreeNode* node = new TreeNode(nums[middle]);\n",
    "        vector<int> left_nums(nums.begin(), nums.begin() + middle);\n",
    "        vector<int> right_nums(nums.begin() + middle + 1, nums.end()); \n",
    "        node->left = sortedArrayToBST(left_nums);\n",
    "        node->right = sortedArrayToBST(right_nums);\n",
    "        return node;\n",
    "    }\n",
    "};"
   ]
  }
 ],
 "metadata": {
  "kernelspec": {
   "display_name": "Python 3 (ipykernel)",
   "language": "python",
   "name": "python3"
  },
  "language_info": {
   "codemirror_mode": {
    "name": "ipython",
    "version": 3
   },
   "file_extension": ".py",
   "mimetype": "text/x-python",
   "name": "python",
   "nbconvert_exporter": "python",
   "pygments_lexer": "ipython3",
   "version": "3.9.13"
  }
 },
 "nbformat": 4,
 "nbformat_minor": 5
}
