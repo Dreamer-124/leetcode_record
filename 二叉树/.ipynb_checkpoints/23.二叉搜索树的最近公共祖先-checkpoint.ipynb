{
 "cells": [
  {
   "cell_type": "markdown",
   "id": "961b9aae",
   "metadata": {},
   "source": [
    "# 二叉搜索树的最近公共祖先\n",
    "\n",
    "## [题目](https://leetcode.cn/problems/lowest-common-ancestor-of-a-binary-search-tree/description/)\n",
    "- 给定一个二叉搜索树, 找到该树中两个指定节点的最近公共祖先。\n",
    "\n",
    "- 百度百科中最近公共祖先的定义为：“对于有根树 T 的两个结点 p、q，最近公共祖先表示为一个结点 x，满足 x 是 p、q 的祖先且 x 的深度尽可能大（一个节点也可以是它自己的祖先）。”\n",
    "\n",
    "- 示例1：\n",
    "```C++\n",
    "输入: root = [6,2,8,0,4,7,9,null,null,3,5], p = 2, q = 8\n",
    "输出: 6\n",
    "解释: 节点 2 和节点 8 的最近公共祖先是 6。\n",
    "```\n",
    "\n",
    "- 示例2：\n",
    "```C++\n",
    "输入: root = [6,2,8,0,4,7,9,null,null,3,5], p = 2, q = 4\n",
    "输出: 2\n",
    "解释: 节点 2 和节点 4 的最近公共祖先是 2, 因为根据定义最近公共祖先节点可以为节点本身。\n",
    "```\n",
    "\n",
    "<div align=\"center\" style=\"text-align: center;\">\n",
    "    <img src=\"../image/7-23-1.png\" style=\"width: 60%;\">\n",
    "</div> \n",
    "\n",
    "- 说明：\n",
    "    - 所有节点的值都是唯一的\n",
    "    - p、q 为不同节点且均存在于给定的二叉搜索树中。"
   ]
  },
  {
   "cell_type": "markdown",
   "id": "7efdd78b",
   "metadata": {},
   "source": [
    "## 代码示例\n",
    "- 迭代法"
   ]
  },
  {
   "cell_type": "code",
   "execution_count": null,
   "id": "17b041ba",
   "metadata": {},
   "outputs": [],
   "source": [
    "class Solution {\n",
    "public:\n",
    "    TreeNode* lowestCommonAncestor(TreeNode* root, TreeNode* p, TreeNode* q) {\n",
    "        while(root) {\n",
    "            if (root->val > p->val && root->val > q->val) {\n",
    "                root = root->left;\n",
    "            } else if (root->val < p->val && root->val < q->val) {\n",
    "                root = root->right;\n",
    "            } else return root;\n",
    "        }\n",
    "        return NULL;\n",
    "    }\n",
    "};"
   ]
  },
  {
   "cell_type": "markdown",
   "id": "cddc4230",
   "metadata": {},
   "source": [
    "- 递归法"
   ]
  },
  {
   "cell_type": "code",
   "execution_count": null,
   "id": "747c016d",
   "metadata": {},
   "outputs": [],
   "source": [
    "class Solution {\n",
    "private:\n",
    "    TreeNode* traversal(TreeNode* cur, TreeNode* p, TreeNode* q) {\n",
    "        if (cur == NULL) return cur;\n",
    "                                                        // 中\n",
    "        if (cur->val > p->val && cur->val > q->val) {   // 左\n",
    "            TreeNode* left = traversal(cur->left, p, q);\n",
    "            if (left != NULL) {\n",
    "                return left;\n",
    "            }\n",
    "        }\n",
    "\n",
    "        if (cur->val < p->val && cur->val < q->val) {   // 右\n",
    "            TreeNode* right = traversal(cur->right, p, q);\n",
    "            if (right != NULL) {\n",
    "                return right;\n",
    "            }\n",
    "        }\n",
    "        return cur;\n",
    "    }\n",
    "public:\n",
    "    TreeNode* lowestCommonAncestor(TreeNode* root, TreeNode* p, TreeNode* q) {\n",
    "        return traversal(root, p, q);\n",
    "    }\n",
    "};"
   ]
  }
 ],
 "metadata": {
  "kernelspec": {
   "display_name": "Python 3 (ipykernel)",
   "language": "python",
   "name": "python3"
  },
  "language_info": {
   "codemirror_mode": {
    "name": "ipython",
    "version": 3
   },
   "file_extension": ".py",
   "mimetype": "text/x-python",
   "name": "python",
   "nbconvert_exporter": "python",
   "pygments_lexer": "ipython3",
   "version": "3.9.13"
  }
 },
 "nbformat": 4,
 "nbformat_minor": 5
}
