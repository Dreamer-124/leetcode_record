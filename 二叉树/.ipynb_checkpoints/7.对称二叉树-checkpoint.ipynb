{
 "cells": [
  {
   "cell_type": "markdown",
   "id": "460157d4",
   "metadata": {},
   "source": [
    "# 对称二叉树\n",
    "\n",
    "## [题目](https://leetcode.cn/problems/symmetric-tree/description/)\n",
    "- 给定一个二叉树，检查它是否是镜像堆对称的。\n",
    "\n",
    "- 示例：\n",
    "<div align=\"center\" style=\"text-align: center;\">\n",
    "    <img src=\"../image/7-7-1.png\" style=\"width: 60%;\">\n",
    "</div> "
   ]
  },
  {
   "cell_type": "markdown",
   "id": "2d33a01e",
   "metadata": {},
   "source": [
    "## 代码示例\n",
    "- 使用递归来实现，比较两棵树"
   ]
  },
  {
   "cell_type": "code",
   "execution_count": null,
   "id": "60e221a5",
   "metadata": {},
   "outputs": [],
   "source": [
    "class Solution {\n",
    "public:\n",
    "    bool compare(TreeNode* left, TreeNode* right) {\n",
    "        // 首先排除空节点的情况\n",
    "        if (left == NULL && right != NULL) return false;\n",
    "        else if (left != NULL && right == NULL) return false;\n",
    "        else if (left == NULL && right == NULL) return true;\n",
    "        // 排除了空节点，再排除数值不相同的情况\n",
    "        else if (left->val != right->val) return false;\n",
    "\n",
    "        // 此时就是：左右节点都不为空，且数值相同的情况\n",
    "        // 此时才做递归，做下一层的判断\n",
    "        bool outside = compare(left->left, right->right);   // 左子树：左、 右子树：右\n",
    "        bool inside = compare(left->right, right->left);    // 左子树：右、 右子树：左\n",
    "        bool isSame = outside && inside;                    // 左子树：中、 右子树：中 （逻辑处理）\n",
    "        return isSame;\n",
    "\n",
    "    }\n",
    "    bool isSymmetric(TreeNode* root) {\n",
    "        if (root == NULL) return true;\n",
    "        return compare(root->left, root->right);\n",
    "    }\n",
    "};"
   ]
  },
  {
   "cell_type": "markdown",
   "id": "c7c64b03",
   "metadata": {},
   "source": [
    "- 使用队列来通过迭代实现"
   ]
  },
  {
   "cell_type": "code",
   "execution_count": null,
   "id": "9d057db9",
   "metadata": {},
   "outputs": [],
   "source": [
    "class Solution {\n",
    "public:\n",
    "    bool isSymmetric(TreeNode* root) {\n",
    "        if (root == NULL) return true;\n",
    "        queue<TreeNode*> que;\n",
    "        que.push(root->left);   // 将左子树头结点加入队列\n",
    "        que.push(root->right);  // 将右子树头结点加入队列\n",
    "        \n",
    "        while (!que.empty()) {  // 接下来就要判断这两个树是否相互翻转\n",
    "            TreeNode* leftNode = que.front(); que.pop();\n",
    "            TreeNode* rightNode = que.front(); que.pop();\n",
    "            if (!leftNode && !rightNode) {  // 左节点为空、右节点为空，此时说明是对称的\n",
    "                continue;\n",
    "            }\n",
    "\n",
    "            // 左右一个节点不为空，或者都不为空但数值不相同，返回false\n",
    "            if ((!leftNode || !rightNode || (leftNode->val != rightNode->val))) {\n",
    "                return false;\n",
    "            }\n",
    "            que.push(leftNode->left);   // 加入左节点左孩子\n",
    "            que.push(rightNode->right); // 加入右节点右孩子\n",
    "            que.push(leftNode->right);  // 加入左节点右孩子\n",
    "            que.push(rightNode->left);  // 加入右节点左孩子\n",
    "        }\n",
    "        return true;\n",
    "    }\n",
    "};"
   ]
  }
 ],
 "metadata": {
  "kernelspec": {
   "display_name": "Python 3 (ipykernel)",
   "language": "python",
   "name": "python3"
  },
  "language_info": {
   "codemirror_mode": {
    "name": "ipython",
    "version": 3
   },
   "file_extension": ".py",
   "mimetype": "text/x-python",
   "name": "python",
   "nbconvert_exporter": "python",
   "pygments_lexer": "ipython3",
   "version": "3.9.13"
  }
 },
 "nbformat": 4,
 "nbformat_minor": 5
}
