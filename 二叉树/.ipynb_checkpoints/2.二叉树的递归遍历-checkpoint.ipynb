{
 "cells": [
  {
   "cell_type": "markdown",
   "id": "43f85ba5",
   "metadata": {},
   "source": [
    "# 二叉树的递归遍历\n",
    "- 写递归必须要注意的三要素或步骤：\n",
    "    - 确定递归函数的参数和返回值\n",
    "    - 确定终止条件\n",
    "    - 确定单层递归的逻辑\n",
    "\n",
    "## 代码示例\n",
    "- 前序遍历"
   ]
  },
  {
   "cell_type": "code",
   "execution_count": null,
   "id": "30e4b1b1",
   "metadata": {},
   "outputs": [],
   "source": [
    "/**\n",
    " * Definition for a binary tree node.\n",
    " * struct TreeNode {\n",
    " *     int val;\n",
    " *     TreeNode *left;\n",
    " *     TreeNode *right;\n",
    " *     TreeNode() : val(0), left(nullptr), right(nullptr) {}\n",
    " *     TreeNode(int x) : val(x), left(nullptr), right(nullptr) {}\n",
    " *     TreeNode(int x, TreeNode *left, TreeNode *right) : val(x), left(left), right(right) {}\n",
    " * };\n",
    " */\n",
    "class Solution {\n",
    "public:\n",
    "    void traversal(TreeNode* cur, vector<int>& vec){\n",
    "        if(cur == nullptr){\n",
    "            return;\n",
    "        }\n",
    "        vec.push_back(cur->val);\n",
    "        traversal(cur->left, vec);\n",
    "        traversal(cur->right, vec);\n",
    "    }\n",
    "    vector<int> preorderTraversal(TreeNode* root) {\n",
    "        vector<int> result;\n",
    "        traversal(root, result);\n",
    "        return result;\n",
    "    }\n",
    "};"
   ]
  },
  {
   "cell_type": "markdown",
   "id": "05148938",
   "metadata": {},
   "source": [
    "- 后序遍历"
   ]
  },
  {
   "cell_type": "code",
   "execution_count": null,
   "id": "5b4f90a3",
   "metadata": {},
   "outputs": [],
   "source": [
    "/**\n",
    " * Definition for a binary tree node.\n",
    " * struct TreeNode {\n",
    " *     int val;\n",
    " *     TreeNode *left;\n",
    " *     TreeNode *right;\n",
    " *     TreeNode() : val(0), left(nullptr), right(nullptr) {}\n",
    " *     TreeNode(int x) : val(x), left(nullptr), right(nullptr) {}\n",
    " *     TreeNode(int x, TreeNode *left, TreeNode *right) : val(x), left(left), right(right) {}\n",
    " * };\n",
    " */\n",
    "class Solution {\n",
    "public:\n",
    "    void traversal(TreeNode* cur, vector<int>& vec){\n",
    "        if(cur == nullptr){\n",
    "            return;\n",
    "        }\n",
    "        traversal(cur->left, vec);\n",
    "        traversal(cur->right, vec);\n",
    "        vec.push_back(cur->val);\n",
    "    }\n",
    "    vector<int> postorderTraversal(TreeNode* root) {\n",
    "        vector<int> result;\n",
    "        traversal(root, result);\n",
    "        return result;\n",
    "    }\n",
    "};"
   ]
  },
  {
   "cell_type": "markdown",
   "id": "47642f13",
   "metadata": {},
   "source": [
    "- 中序遍历"
   ]
  },
  {
   "cell_type": "code",
   "execution_count": null,
   "id": "d5eb127b",
   "metadata": {},
   "outputs": [],
   "source": [
    "/**\n",
    " * Definition for a binary tree node.\n",
    " * struct TreeNode {\n",
    " *     int val;\n",
    " *     TreeNode *left;\n",
    " *     TreeNode *right;\n",
    " *     TreeNode() : val(0), left(nullptr), right(nullptr) {}\n",
    " *     TreeNode(int x) : val(x), left(nullptr), right(nullptr) {}\n",
    " *     TreeNode(int x, TreeNode *left, TreeNode *right) : val(x), left(left), right(right) {}\n",
    " * };\n",
    " */\n",
    "class Solution {\n",
    "public:\n",
    "    void traversal(TreeNode* cur, vector<int>& vec){\n",
    "        if(cur == nullptr){\n",
    "            return;\n",
    "        }\n",
    "        traversal(cur->left, vec);\n",
    "        vec.push_back(cur->val);\n",
    "        traversal(cur->right, vec);\n",
    "    }\n",
    "    vector<int> inorderTraversal(TreeNode* root) {\n",
    "        vector<int> result;\n",
    "        traversal(root, result);\n",
    "        return  result;\n",
    "    }\n",
    "};"
   ]
  }
 ],
 "metadata": {
  "kernelspec": {
   "display_name": "Python 3 (ipykernel)",
   "language": "python",
   "name": "python3"
  },
  "language_info": {
   "codemirror_mode": {
    "name": "ipython",
    "version": 3
   },
   "file_extension": ".py",
   "mimetype": "text/x-python",
   "name": "python",
   "nbconvert_exporter": "python",
   "pygments_lexer": "ipython3",
   "version": "3.9.13"
  }
 },
 "nbformat": 4,
 "nbformat_minor": 5
}
