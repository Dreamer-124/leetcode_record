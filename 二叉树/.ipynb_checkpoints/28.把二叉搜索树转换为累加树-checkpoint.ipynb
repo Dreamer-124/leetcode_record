{
 "cells": [
  {
   "cell_type": "markdown",
   "id": "7de5f953",
   "metadata": {},
   "source": [
    "# 把二叉搜索树转换为累加树\n",
    "\n",
    "## [题目](https://leetcode.cn/problems/convert-bst-to-greater-tree/description/)\n",
    "- 给出二叉 搜索 树的根节点，该树的节点值各不相同，请你将其转换为累加树（Greater Sum Tree），使每个节点 node 的新值等于原树中大于或等于 node.val 的值之和。\n",
    "\n",
    "- 提醒一下，二叉搜索树满足下列约束条件：\n",
    "\n",
    "- 节点的左子树仅包含键 小于 节点键的节点。 节点的右子树仅包含键 大于 节点键的节点。 左右子树也必须是二叉搜索树。\n",
    "\n",
    "<div align=\"center\" style=\"text-align: center;\">\n",
    "    <img src=\"../image/7-28-1.png\" style=\"width: 60%;\">\n",
    "</div> \n",
    "\n",
    "- 示例1：\n",
    "```C++\n",
    "输入：[4,1,6,0,2,5,7,null,null,null,3,null,null,null,8]\n",
    "输出：[30,36,21,36,35,26,15,null,null,null,33,null,null,null,8]\n",
    "```\n",
    "\n",
    "- 示例2：\n",
    "```C++\n",
    "输入：root = [0,null,1]\n",
    "输出：[1,null,1]\n",
    "```\n",
    "\n",
    "- 示例3：\n",
    "```C++\n",
    "输入：root = [1,0,2]\n",
    "输出：[3,3,2]\n",
    "```\n",
    "\n",
    "- 示例4：\n",
    "```C++\n",
    "输入：root = [3,2,4,1]\n",
    "输出：[7,9,4,10]\n",
    "```\n",
    "\n",
    "- 提示：\n",
    "    - 树中的节点数介于 0 和 104 之间。\n",
    "    - 每个节点的值介于 -104 和 104 之间。\n",
    "    - 树中的所有值 互不相同 。\n",
    "    - 给定的树为二叉搜索树。"
   ]
  },
  {
   "cell_type": "markdown",
   "id": "023f20e9",
   "metadata": {},
   "source": [
    "## 代码示例\n",
    "- 递归法\n",
    "    - 使用中序遍历（右中左）进行遍历累加"
   ]
  },
  {
   "cell_type": "code",
   "execution_count": null,
   "id": "597af4ae",
   "metadata": {},
   "outputs": [],
   "source": [
    "/**\n",
    " * Definition for a binary tree node.\n",
    " * struct TreeNode {\n",
    " *     int val;\n",
    " *     TreeNode *left;\n",
    " *     TreeNode *right;\n",
    " *     TreeNode() : val(0), left(nullptr), right(nullptr) {}\n",
    " *     TreeNode(int x) : val(x), left(nullptr), right(nullptr) {}\n",
    " *     TreeNode(int x, TreeNode *left, TreeNode *right) : val(x), left(left), right(right) {}\n",
    " * };\n",
    " */\n",
    "class Solution {\n",
    "private:\n",
    "    int pre = 0;\n",
    "    void travarsel(TreeNode* root) {\n",
    "        if (root == nullptr) return ;\n",
    "        travarsel(root->right);\n",
    "        root->val += pre;\n",
    "        pre = root->val;\n",
    "        travarsel(root->left);\n",
    "\n",
    "    }\n",
    "public:\n",
    "    TreeNode* convertBST(TreeNode* root) {\n",
    "        travarsel(root);\n",
    "        return root;\n",
    "    }\n",
    "};"
   ]
  }
 ],
 "metadata": {
  "kernelspec": {
   "display_name": "Python 3 (ipykernel)",
   "language": "python",
   "name": "python3"
  },
  "language_info": {
   "codemirror_mode": {
    "name": "ipython",
    "version": 3
   },
   "file_extension": ".py",
   "mimetype": "text/x-python",
   "name": "python",
   "nbconvert_exporter": "python",
   "pygments_lexer": "ipython3",
   "version": "3.9.13"
  }
 },
 "nbformat": 4,
 "nbformat_minor": 5
}
