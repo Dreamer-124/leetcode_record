{
 "cells": [
  {
   "cell_type": "markdown",
   "id": "8b86f21f",
   "metadata": {},
   "source": [
    "# 二叉树的最大路径和\n",
    "\n",
    "## [题目](https://leetcode.cn/problems/balanced-binary-tree/description/)\n",
    "- 二叉树中的 路径 被定义为一条节点序列，序列中每对相邻节点之间都存在一条边。同一个节点在一条路径序列中 至多出现一次 。该路径 至少包含一个 节点，且不一定经过根节点。\n",
    "\n",
    "- 路径和 是路径中各节点值的总和。\n",
    "\n",
    "- 给你一个二叉树的根节点 root ，返回其 最大路径和 。\n",
    "\n",
    "- 示例1：\n",
    "```C++\n",
    "输入：root = [1,2,3]\n",
    "输出：6\n",
    "解释：最优路径是 2 -> 1 -> 3 ，路径和为 2 + 1 + 3 = 6\n",
    "```\n",
    "<div align=\"center\" style=\"text-align: center;\">\n",
    "    <img src=\"../image/7-30-1.png\" style=\"width: 30%;\">\n",
    "</div> \n",
    "\n",
    "- 示例2：\n",
    "```C++\n",
    "输入：root = [-10,9,20,null,null,15,7]\n",
    "输出：42\n",
    "解释：最优路径是 15 -> 20 -> 7 ，路径和为 15 + 20 + 7 = 42\n",
    "```\n",
    "\n",
    "<div align=\"center\" style=\"text-align: center;\">\n",
    "    <img src=\"../image/7-30-2.png\" style=\"width: 30%;\">\n",
    "</div> \n",
    "\n",
    "- 提示\n",
    "    - 树中节点数目范围是 [1, 3 * $10^4$]\n",
    "    - -1000 <= Node.val <= 1000"
   ]
  },
  {
   "cell_type": "markdown",
   "id": "cc7bb364",
   "metadata": {},
   "source": [
    "## 代码示例\n",
    "- 递归\n",
    "    - 时间复杂度：$O(n)$\n",
    "    - 空间复杂度：$O(n)$"
   ]
  },
  {
   "cell_type": "code",
   "execution_count": null,
   "id": "388751ab",
   "metadata": {},
   "outputs": [],
   "source": [
    "/**\n",
    " * Definition for a binary tree node.\n",
    " * struct TreeNode {\n",
    " *     int val;\n",
    " *     TreeNode *left;\n",
    " *     TreeNode *right;\n",
    " *     TreeNode() : val(0), left(nullptr), right(nullptr) {}\n",
    " *     TreeNode(int x) : val(x), left(nullptr), right(nullptr) {}\n",
    " *     TreeNode(int x, TreeNode *left, TreeNode *right) : val(x), left(left), right(right) {}\n",
    " * };\n",
    " */\n",
    "class Solution {\n",
    "public:\n",
    "    int maxGain(TreeNode* node, int& val) {\n",
    "        if (node == nullptr) return 0;\n",
    "\n",
    "        int left = max(maxGain(node->left, val), 0);\n",
    "        int right = max(maxGain(node->right, val), 0);\n",
    "        \n",
    "        int lmr = node->val + left + right;\n",
    "        int ret = node->val + max(left, right);\n",
    "        val = max(val, max(lmr, ret));\n",
    "        return ret;\n",
    "    }\n",
    "\n",
    "    int maxPathSum(TreeNode* root) {\n",
    "        int val = INT_MIN;\n",
    "        maxGain(root, val);\n",
    "        return val;\n",
    "    }\n",
    "};"
   ]
  }
 ],
 "metadata": {
  "kernelspec": {
   "display_name": "Python 3 (ipykernel)",
   "language": "python",
   "name": "python3"
  },
  "language_info": {
   "codemirror_mode": {
    "name": "ipython",
    "version": 3
   },
   "file_extension": ".py",
   "mimetype": "text/x-python",
   "name": "python",
   "nbconvert_exporter": "python",
   "pygments_lexer": "ipython3",
   "version": "3.9.13"
  }
 },
 "nbformat": 4,
 "nbformat_minor": 5
}
