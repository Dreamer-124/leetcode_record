{
 "cells": [
  {
   "cell_type": "markdown",
   "id": "6e433e72",
   "metadata": {},
   "source": [
    "# 路径总和\n",
    "\n",
    "## [题目](https://leetcode.cn/problems/path-sum/description/)\n",
    "- 给定一个二叉树和一个目标和，判断该树中是否存在根节点到叶子节点的路径，这条路径上所有节点值相加等于目标和。\n",
    "\n",
    "- 示例1：\n",
    "```C++\n",
    "输入：给定如下二叉树，以及目标和 sum = 22，\n",
    "输出：返回 true, 因为存在目标和为 22 的根节点到叶子节点的路径 5->4->11->2。\n",
    "```\n",
    "<div align=\"center\" style=\"text-align: center;\">\n",
    "    <img src=\"../image/7-15-1.png\" style=\"width: 60%;\">\n",
    "</div> \n",
    "\n",
    "- 说明: \n",
    "    - 叶子节点是指没有子节点的节点。"
   ]
  },
  {
   "cell_type": "markdown",
   "id": "f7715eec",
   "metadata": {},
   "source": [
    "## 代码示例\n",
    "- 使用递归回溯可以获取到所有的路径之和，然后在其中找符合条件的即可。\n",
    "- 时间复杂度：$O(n)$\n",
    "- 空间复杂度：$O(n)$"
   ]
  },
  {
   "cell_type": "code",
   "execution_count": null,
   "id": "15adbca3",
   "metadata": {},
   "outputs": [],
   "source": [
    "/**\n",
    " * Definition for a binary tree node.\n",
    " * struct TreeNode {\n",
    " *     int val;\n",
    " *     TreeNode *left;\n",
    " *     TreeNode *right;\n",
    " *     TreeNode() : val(0), left(nullptr), right(nullptr) {}\n",
    " *     TreeNode(int x) : val(x), left(nullptr), right(nullptr) {}\n",
    " *     TreeNode(int x, TreeNode *left, TreeNode *right) : val(x), left(left), right(right) {}\n",
    " * };\n",
    " */\n",
    "class Solution {\n",
    "private:\n",
    "    void traversal(TreeNode* cur, vector<int>& path, vector<int>& result) {\n",
    "        path.push_back(cur->val);\n",
    "        if (cur->left == nullptr && cur->right == nullptr) {\n",
    "            int sum = 0;\n",
    "            for (int vec : path) {\n",
    "                sum += vec;\n",
    "            }\n",
    "            result.push_back(sum);\n",
    "            return ;\n",
    "        }\n",
    "        if(cur->left) {\n",
    "            traversal(cur->left, path, result);\n",
    "            path.pop_back();\n",
    "        }\n",
    "        if(cur->right) {\n",
    "            traversal(cur->right, path, result);\n",
    "            path.pop_back();\n",
    "        }\n",
    "    }\n",
    "\n",
    "public:\n",
    "    bool hasPathSum(TreeNode* root, int targetSum) {\n",
    "        vector<int> result;\n",
    "        vector<int> path;\n",
    "        if (root == nullptr) return false; \n",
    "        traversal(root, path, result);\n",
    "        for(int num : result) {\n",
    "            if (num == targetSum) return true;\n",
    "        }\n",
    "        return false;\n",
    "    }\n",
    "};"
   ]
  }
 ],
 "metadata": {
  "kernelspec": {
   "display_name": "Python 3 (ipykernel)",
   "language": "python",
   "name": "python3"
  },
  "language_info": {
   "codemirror_mode": {
    "name": "ipython",
    "version": 3
   },
   "file_extension": ".py",
   "mimetype": "text/x-python",
   "name": "python",
   "nbconvert_exporter": "python",
   "pygments_lexer": "ipython3",
   "version": "3.9.13"
  }
 },
 "nbformat": 4,
 "nbformat_minor": 5
}
