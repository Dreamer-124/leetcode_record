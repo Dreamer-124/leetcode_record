{
 "cells": [
  {
   "cell_type": "markdown",
   "id": "874f4609",
   "metadata": {},
   "source": [
    "# 二叉树的统一迭代法\n",
    "\n",
    "- 将访问节点和处理节点都放入一个栈中，并进行标记\n",
    "    - 在要处理的节点放入栈之后，紧接着放入一个空指针作为标记（空指针标记法）\n",
    "    - 加一个 `boolean` 值跟随每个节点，`false`（默认值）表示需要为该节点和他的左右儿子安排在栈中的位次，`true`表示该节点的位次之前已经安排过了，可以收割节点了（boolean 标记法）\n",
    "    \n",
    "- 迭代法中序遍历"
   ]
  },
  {
   "cell_type": "code",
   "execution_count": null,
   "id": "6e924461",
   "metadata": {},
   "outputs": [],
   "source": [
    "// 空指针标记法\n",
    "class Solution{\n",
    "public:\n",
    "    vector<int> inorderTraversal(TreeNode* root){\n",
    "        vector<int> result;\n",
    "        stack<TreeNode*> st;\n",
    "        if (root != nullptr) st.push(root);\n",
    "        while(!st.empty()){\n",
    "            TreeNode* node = st.pop();\n",
    "            if(node != nullptr){\n",
    "                st.pop();\n",
    "                if(node->right != nullptr) st.push(node->right);\n",
    "                st.push(node);\n",
    "                st.push(nullptr);\n",
    "                if(node->left != nullptr) st.push(node->left);\n",
    "            }else{\n",
    "                st.pop();\n",
    "                node = st.top();\n",
    "                st.pop();\n",
    "                result.push_back(node->val);\n",
    "            }\n",
    "        }\n",
    "        return result;\n",
    "    }\n",
    "}\n",
    "\n",
    "// boolean标记法\n",
    "class Solution{\n",
    "public:\n",
    "    vector<int> inorderTraversal(TreeNode* root){\n",
    "        vector<int> result;\n",
    "        stack<pair<TreeNode*, bool>> st;\n",
    "        if (root != nullptr) st.push(make_pair(root, false));  // 多加一个参数，false 为默认值\n",
    "\n",
    "        while(!st.empty()){\n",
    "            auto node = st.top().first;\n",
    "            auto visited = st.top().second;\n",
    "            st.pop();\n",
    "\n",
    "            if(visited){\n",
    "                result.push_back(node->val);\n",
    "                continue;\n",
    "            }\n",
    "\n",
    "            if(node->right) st.push(make_pair(node->right, false));\n",
    "\n",
    "            st.push(make_pair(node, true));\n",
    "\n",
    "            if(node->left) st.push(make_pair(node->left, false));\n",
    "\n",
    "        }\n",
    "        \n",
    "        return result;\n",
    "    }\n",
    "}"
   ]
  },
  {
   "cell_type": "markdown",
   "id": "40598e1e",
   "metadata": {},
   "source": [
    "- 迭代法前序遍历"
   ]
  },
  {
   "cell_type": "code",
   "execution_count": null,
   "id": "81e847ec",
   "metadata": {},
   "outputs": [],
   "source": [
    "// 空指针标记法\n",
    "class Solution{\n",
    "public:\n",
    "    vector<int> inorderTraversal(TreeNode* root){\n",
    "        vector<int> result;\n",
    "        stack<TreeNode*> st;\n",
    "        if (root != nullptr) st.push(root);\n",
    "        while(!st.empty()){\n",
    "            TreeNode* node = st.pop();\n",
    "            if(node != nullptr){\n",
    "                st.pop();\n",
    "                if(node->right != nullptr) st.push(node->right);\n",
    "                if(node->left != nullptr) st.push(node->left);\n",
    "                st.push(node);\n",
    "                st.push(nullptr);\n",
    "            }else{\n",
    "                st.pop();\n",
    "                node = st.top();\n",
    "                st.pop();\n",
    "                result.push_back(node->val);\n",
    "            }\n",
    "        }\n",
    "        return result;\n",
    "    }\n",
    "}"
   ]
  },
  {
   "cell_type": "markdown",
   "id": "0ce3a401",
   "metadata": {},
   "source": [
    "- 迭代法后序遍历"
   ]
  },
  {
   "cell_type": "code",
   "execution_count": null,
   "id": "f565873a",
   "metadata": {},
   "outputs": [],
   "source": [
    "// 空指针标记法\n",
    "class Solution{\n",
    "public:\n",
    "    vector<int> inorderTraversal(TreeNode* root){\n",
    "        vector<int> result;\n",
    "        stack<TreeNode*> st;\n",
    "        if (root != nullptr) st.push(root);\n",
    "        while(!st.empty()){\n",
    "            TreeNode* node = st.pop();\n",
    "            if(node != nullptr){\n",
    "                st.push(node);\n",
    "                st.push(nullptr);\n",
    "                st.pop();\n",
    "                if(node->right != nullptr) st.push(node->right);\n",
    "                if(node->left != nullptr) st.push(node->left);\n",
    "            }else{\n",
    "                st.pop();\n",
    "                node = st.top();\n",
    "                st.pop();\n",
    "                result.push_back(node->val);\n",
    "            }\n",
    "        }\n",
    "        return result;\n",
    "    }\n",
    "}"
   ]
  }
 ],
 "metadata": {
  "kernelspec": {
   "display_name": "Python 3 (ipykernel)",
   "language": "python",
   "name": "python3"
  },
  "language_info": {
   "codemirror_mode": {
    "name": "ipython",
    "version": 3
   },
   "file_extension": ".py",
   "mimetype": "text/x-python",
   "name": "python",
   "nbconvert_exporter": "python",
   "pygments_lexer": "ipython3",
   "version": "3.9.13"
  }
 },
 "nbformat": 4,
 "nbformat_minor": 5
}
