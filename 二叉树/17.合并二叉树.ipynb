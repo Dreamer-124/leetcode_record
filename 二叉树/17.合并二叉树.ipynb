{
 "cells": [
  {
   "cell_type": "markdown",
   "id": "bfdfe09b",
   "metadata": {},
   "source": [
    "# 合并二叉树\n",
    "\n",
    "## [题目](https://leetcode.cn/problems/merge-two-binary-trees/description/)\n",
    "- 给定两个二叉树，想象当你将它们中的一个覆盖到另一个上时，两个二叉树的一些节点便会重叠。\n",
    "\n",
    "- 你需要将他们合并为一个新的二叉树。合并的规则是如果两个节点重叠，那么将他们的值相加作为节点合并后的新值，否则不为 NULL 的节点将直接作为新二叉树的节点。\n",
    "\n",
    "- 示例1：\n",
    "<div align=\"center\" style=\"text-align: center;\">\n",
    "    <img src=\"../image/7-17-1.png\" style=\"width: 60%;\">\n",
    "</div> \n",
    "\n",
    "- 注意：合并必须从两个树的根节点开始"
   ]
  },
  {
   "cell_type": "markdown",
   "id": "c664a251",
   "metadata": {},
   "source": [
    "## 代码示例\n",
    "- 采用递归实现前序遍历\n",
    "- 时间复杂度：$O(n)$\n",
    "- 空间复杂度：$O(n)$"
   ]
  },
  {
   "cell_type": "code",
   "execution_count": null,
   "id": "22496c9b",
   "metadata": {},
   "outputs": [],
   "source": [
    "/**\n",
    " * Definition for a binary tree node.\n",
    " * struct TreeNode {\n",
    " *     int val;\n",
    " *     TreeNode *left;\n",
    " *     TreeNode *right;\n",
    " *     TreeNode() : val(0), left(nullptr), right(nullptr) {}\n",
    " *     TreeNode(int x) : val(x), left(nullptr), right(nullptr) {}\n",
    " *     TreeNode(int x, TreeNode *left, TreeNode *right) : val(x), left(left), right(right) {}\n",
    " * };\n",
    " */\n",
    "class Solution {\n",
    "public:\n",
    "    TreeNode* mergeTrees(TreeNode* root1, TreeNode* root2) {\n",
    "        if (root1 == nullptr) return root2;\n",
    "        if (root2 == nullptr) return root1;\n",
    "        root1->val += root2->val;\n",
    "        root1->left = mergeTrees(root1->left, root2->left);\n",
    "        root1->right = mergeTrees(root1->right, root2->right);\n",
    "        return root1;\n",
    "    }\n",
    "};"
   ]
  }
 ],
 "metadata": {
  "kernelspec": {
   "display_name": "Python 3 (ipykernel)",
   "language": "python",
   "name": "python3"
  },
  "language_info": {
   "codemirror_mode": {
    "name": "ipython",
    "version": 3
   },
   "file_extension": ".py",
   "mimetype": "text/x-python",
   "name": "python",
   "nbconvert_exporter": "python",
   "pygments_lexer": "ipython3",
   "version": "3.9.13"
  }
 },
 "nbformat": 4,
 "nbformat_minor": 5
}
