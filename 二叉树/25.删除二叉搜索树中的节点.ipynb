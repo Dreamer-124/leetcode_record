{
 "cells": [
  {
   "cell_type": "markdown",
   "id": "a8cfdae2",
   "metadata": {},
   "source": [
    "# 删除二叉搜索树中的节点\n",
    "\n",
    "## [题目](https://leetcode.cn/problems/delete-node-in-a-bst/description/)\n",
    "- 给定一个二叉搜索树的根节点 root 和一个值 key，删除二叉搜索树中的 key 对应的节点，并保证二叉搜索树的性质不变。返回二叉搜索树（有可能被更新）的根节点的引用。\n",
    "\n",
    "- 一般来说，删除节点可分为两个步骤：\n",
    "\n",
    "- 首先找到需要删除的节点； 如果找到了，删除它。 说明： 要求算法时间复杂度为 $O(h)$，h 为树的高度。\n",
    "\n",
    "- 示例：\n",
    "\n",
    "<div align=\"center\" style=\"text-align: center;\">\n",
    "    <img src=\"../image/7-25-1.png\" style=\"width: 60%;\">\n",
    "</div> "
   ]
  },
  {
   "cell_type": "markdown",
   "id": "d3b9e28a",
   "metadata": {},
   "source": [
    "## 代码示例\n",
    "- 递归法\n",
    "    - 需要注意删除需不需要改变二叉树的结构（按条件划分处理）\n",
    "    - 要释放不用的节点的内存"
   ]
  },
  {
   "cell_type": "code",
   "execution_count": null,
   "id": "3dd7a332",
   "metadata": {},
   "outputs": [],
   "source": [
    "class Solution {\n",
    "public:\n",
    "    TreeNode* deleteNode(TreeNode* root, int key) {\n",
    "        if (root == nullptr) return root; // 第一种情况：没找到删除的节点，遍历到空节点直接返回了\n",
    "        if (root->val == key) {\n",
    "            // 第二种情况：左右孩子都为空（叶子节点），直接删除节点， 返回NULL为根节点\n",
    "            if (root->left == nullptr && root->right == nullptr) {\n",
    "                ///! 内存释放\n",
    "                delete root;\n",
    "                return nullptr;\n",
    "            }\n",
    "            // 第三种情况：其左孩子为空，右孩子不为空，删除节点，右孩子补位 ，返回右孩子为根节点\n",
    "            else if (root->left == nullptr) {\n",
    "                auto retNode = root->right;\n",
    "                ///! 内存释放\n",
    "                delete root;\n",
    "                return retNode;\n",
    "            }\n",
    "            // 第四种情况：其右孩子为空，左孩子不为空，删除节点，左孩子补位，返回左孩子为根节点\n",
    "            else if (root->right == nullptr) {\n",
    "                auto retNode = root->left;\n",
    "                ///! 内存释放\n",
    "                delete root;\n",
    "                return retNode;\n",
    "            }\n",
    "            // 第五种情况：左右孩子节点都不为空，则将删除节点的左子树放到删除节点的右子树的最左面节点的左孩子的位置\n",
    "            // 并返回删除节点右孩子为新的根节点。\n",
    "            else {\n",
    "                TreeNode* cur = root->right; // 找右子树最左面的节点\n",
    "                while(cur->left != nullptr) {\n",
    "                    cur = cur->left;\n",
    "                }\n",
    "                cur->left = root->left; // 把要删除的节点（root）左子树放在cur的左孩子的位置\n",
    "                TreeNode* tmp = root;   // 把root节点保存一下，下面来删除\n",
    "                root = root->right;     // 返回旧root的右孩子作为新root\n",
    "                delete tmp;             // 释放节点内存（这里不写也可以，但C++最好手动释放一下吧）\n",
    "                return root;\n",
    "            }\n",
    "        }\n",
    "        if (root->val > key) root->left = deleteNode(root->left, key);\n",
    "        if (root->val < key) root->right = deleteNode(root->right, key);\n",
    "        return root;\n",
    "    }\n",
    "};"
   ]
  }
 ],
 "metadata": {
  "kernelspec": {
   "display_name": "Python 3 (ipykernel)",
   "language": "python",
   "name": "python3"
  },
  "language_info": {
   "codemirror_mode": {
    "name": "ipython",
    "version": 3
   },
   "file_extension": ".py",
   "mimetype": "text/x-python",
   "name": "python",
   "nbconvert_exporter": "python",
   "pygments_lexer": "ipython3",
   "version": "3.9.13"
  }
 },
 "nbformat": 4,
 "nbformat_minor": 5
}
