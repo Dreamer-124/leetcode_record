{
 "cells": [
  {
   "cell_type": "markdown",
   "id": "9aa7b98d",
   "metadata": {},
   "source": [
    "# 二叉树的迭代遍历\n",
    "- 递归的实现就是：每一次递归调用都会把函数的局部变量、参数值和返回地址等压入调用栈中，然后递归返回的时候，从栈顶弹出上一次递归的各项参数。\n",
    "\n",
    "## 代码示例\n",
    "- 前序遍历"
   ]
  },
  {
   "cell_type": "code",
   "execution_count": null,
   "id": "6698af86",
   "metadata": {},
   "outputs": [],
   "source": [
    "class Solution {\n",
    "public:\n",
    "    vector<int> preorderTraversal(TreeNode* root) {\n",
    "        // 使用包含树节点的栈来前序遍历\n",
    "        stack<TreeNode*> st;\n",
    "        vector<int> result;\n",
    "        // 处理异常情况\n",
    "        if (root == NULL) return result;\n",
    "        // 放入根节点\n",
    "        st.push(root);\n",
    "\n",
    "        // 当前栈不为空\n",
    "        while (!st.empty()) {\n",
    "            // 获取当前栈顶的元素\n",
    "            TreeNode* node = st.top();                       // 中\n",
    "            // 弹出当前栈顶的元素\n",
    "            st.pop();\n",
    "            // 将当前节点的元素值放入结果数组\n",
    "            result.push_back(node->val);\n",
    "            // 因为栈的特性，先放入右边结点，再放入左边节点\n",
    "            if (node->right) st.push(node->right);           // 右（空节点不入栈）\n",
    "            if (node->left) st.push(node->left);             // 左（空节点不入栈）\n",
    "        }\n",
    "        return result;\n",
    "    }\n",
    "};"
   ]
  },
  {
   "cell_type": "markdown",
   "id": "dd5ee8b2",
   "metadata": {},
   "source": [
    "- 中序遍历\n",
    "    - 在使用迭代法写中序遍历，就需要借用指针的遍历来帮助访问节点，栈则用来处理节点上的元素。"
   ]
  },
  {
   "cell_type": "code",
   "execution_count": null,
   "id": "2b79f0b4",
   "metadata": {},
   "outputs": [],
   "source": [
    "class Solution {\n",
    "public:\n",
    "    vector<int> inorderTraversal(TreeNode* root) {\n",
    "        vector<int> result;\n",
    "        // 使用包含树节点的栈来中序遍历\n",
    "        stack<TreeNode*> st;\n",
    "        // 遍历当前根节点\n",
    "        TreeNode* cur = root;\n",
    "        while (cur != NULL || !st.empty()) {\n",
    "            if (cur != NULL) { // 指针来访问节点，访问到最底层\n",
    "                st.push(cur); // 将访问的节点放进栈\n",
    "                cur = cur->left;                // 左\n",
    "            } else {\n",
    "                cur = st.top(); // 从栈里弹出的数据，就是要处理的数据（放进result数组里的数据）\n",
    "                st.pop();  // 弹出栈顶的元素\n",
    "                result.push_back(cur->val);     // 中\n",
    "                cur = cur->right;               // 右\n",
    "            }\n",
    "        }\n",
    "        return result;\n",
    "    }\n",
    "};"
   ]
  },
  {
   "cell_type": "markdown",
   "id": "141a3d73",
   "metadata": {},
   "source": [
    "- 后序遍历\n",
    "    - 先序遍历是中左右，后序遍历是左右中，那么我们只需要调整一下先序遍历的代码顺序，就变成中右左的遍历顺序，然后在反转result数组，输出的结果顺序就是左右中了"
   ]
  },
  {
   "cell_type": "code",
   "execution_count": null,
   "id": "83ef67b3",
   "metadata": {},
   "outputs": [],
   "source": [
    "class Solution {\n",
    "public:\n",
    "    vector<int> postorderTraversal(TreeNode* root) {\n",
    "        // 使用包含树节点的栈来实现后序遍历\n",
    "        stack<TreeNode*> st;\n",
    "        vector<int> result;\n",
    "        // 处理异常情况\n",
    "        if (root == NULL) return result;\n",
    "        // 将根节点入栈\n",
    "        st.push(root);\n",
    "        // 当栈不为空\n",
    "        while (!st.empty()) {\n",
    "            // 获取当前栈顶的元素\n",
    "            TreeNode* node = st.top();\n",
    "            // 弹出当前栈顶的元素\n",
    "            st.pop();\n",
    "            // 将当前节点的值放入遍历容器\n",
    "            result.push_back(node->val);\n",
    "            if (node->left) st.push(node->left); // 相对于前序遍历，这更改一下入栈顺序 （空节点不入栈）\n",
    "            if (node->right) st.push(node->right); // 空节点不入栈\n",
    "        }\n",
    "        reverse(result.begin(), result.end()); // 将结果反转之后就是左右中的顺序了\n",
    "        return result;\n",
    "    }\n",
    "};\n"
   ]
  }
 ],
 "metadata": {
  "kernelspec": {
   "display_name": "Python 3 (ipykernel)",
   "language": "python",
   "name": "python3"
  },
  "language_info": {
   "codemirror_mode": {
    "name": "ipython",
    "version": 3
   },
   "file_extension": ".py",
   "mimetype": "text/x-python",
   "name": "python",
   "nbconvert_exporter": "python",
   "pygments_lexer": "ipython3",
   "version": "3.9.13"
  }
 },
 "nbformat": 4,
 "nbformat_minor": 5
}
