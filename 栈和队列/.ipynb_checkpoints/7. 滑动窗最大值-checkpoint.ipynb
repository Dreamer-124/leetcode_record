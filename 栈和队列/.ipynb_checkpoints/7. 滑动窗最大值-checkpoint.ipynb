{
 "cells": [
  {
   "cell_type": "markdown",
   "id": "bd1a297f",
   "metadata": {},
   "source": [
    "# 滑动窗最大值\n",
    "\n",
    "## [题目](https://leetcode.cn/problems/sliding-window-maximum/)\n",
    "- 给定一个数组 nums，有一个大小为 k 的滑动窗口从数组的最左侧移动到数组的最右侧。你只可以看到在滑动窗口内的 k 个数字。滑动窗口每次只向右移动一位。\n",
    "\n",
    "- 返回滑动窗口中的最大值。\n",
    "\n",
    "- 示例\n",
    "```C++\n",
    "输入: nums = [1, 3, -1, -3, 5, 3, 6, 7]，和 k = 3\n",
    "输出: [3, 3, 5, 5, 6, 7]\n",
    "```\n",
    "\n",
    "- 提示：\n",
    "    - 1 <= nums.length <= 10^5\n",
    "    - -10^4 <= nums[i] <= 10^4\n",
    "    - 1 <= k <= nums.length"
   ]
  },
  {
   "cell_type": "markdown",
   "id": "d28a1dc7",
   "metadata": {},
   "source": [
    "## 代码示例\n",
    "- 使用单调队列，因为队列没有必要维护窗口里的所有元素，只需要维护有可能成为窗口里最大值的元素就可以了，同时保证队列里的元素数值是由大到小的。\n",
    "- 单调队列需要自己来实现。\n",
    "- 时间复杂度：$O(n)$\n",
    "- 空间复杂度：$O(k)$"
   ]
  },
  {
   "cell_type": "code",
   "execution_count": null,
   "id": "4bd4e692",
   "metadata": {},
   "outputs": [],
   "source": [
    "class Solution {\n",
    "private:\n",
    "    class MyQueue{  // 单调队列（从大到小）\n",
    "    public:\n",
    "        deque<int> que;  // 使用 deque 来实现单调队列\n",
    "        // 每次弹出的时候，比较当前要弹出的数值是否等于队列出口元素的数值，如果相等则弹出。\n",
    "        // 同时pop之前判断队列当前是否为空。\n",
    "        void pop(int value){\n",
    "            if(!que.empty() && value == que.front()){\n",
    "                que.pop_front();\n",
    "            }\n",
    "        }\n",
    "        // 如果push的数值大于入口元素的数值，那么就将队列后端的数值弹出，直到push的数值小于等于队列入口元素的数值为止。\n",
    "        // 这样就保持了队列里的数值是单调从大到小的了。\n",
    "        void push(int value){\n",
    "            while(!que.empty() && value > que.back()){\n",
    "                que.pop_back();\n",
    "            }\n",
    "            que.push_back(value);\n",
    "        }\n",
    "        // 查询当前队列里的最大值 直接返回队列前端也就是front就可以了。\n",
    "        int front(){\n",
    "            return que.front();\n",
    "        }\n",
    "    };\n",
    "\n",
    "public:\n",
    "    vector<int> maxSlidingWindow(vector<int>& nums, int k) {\n",
    "        MyQueue que;\n",
    "        vector<int> result;\n",
    "        for(int i = 0; i < k; i++){  // 先将前 k 的元素放进队列\n",
    "            que.push(nums[i]);\n",
    "        }\n",
    "        result.push_back(que.front());  // result 记录前 k 的元素的最大值\n",
    "        for(int i = k; i < nums.size(); i++)\n",
    "        {\n",
    "            que.pop(nums[i - k]);  // 滑动窗口移除最前面元素\n",
    "            que.push(nums[i]);  // 滑动窗口前加入最后面的元素\n",
    "            result.push_back(que.front());  // 记录对应最大值 \n",
    "        }\n",
    "        return result;\n",
    "    }\n",
    "};"
   ]
  }
 ],
 "metadata": {
  "kernelspec": {
   "display_name": "Python 3 (ipykernel)",
   "language": "python",
   "name": "python3"
  },
  "language_info": {
   "codemirror_mode": {
    "name": "ipython",
    "version": 3
   },
   "file_extension": ".py",
   "mimetype": "text/x-python",
   "name": "python",
   "nbconvert_exporter": "python",
   "pygments_lexer": "ipython3",
   "version": "3.9.13"
  }
 },
 "nbformat": 4,
 "nbformat_minor": 5
}
