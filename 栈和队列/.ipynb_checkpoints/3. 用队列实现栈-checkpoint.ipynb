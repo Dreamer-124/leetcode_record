{
 "cells": [
  {
   "cell_type": "markdown",
   "id": "a4c01408",
   "metadata": {},
   "source": [
    "# 用队列实现栈"
   ]
  },
  {
   "cell_type": "markdown",
   "id": "9a789c04",
   "metadata": {},
   "source": [
    "## [题目](https://leetcode.cn/problems/implement-stack-using-queues/)\n",
    "- 使用队列实现栈的下列操作：\n",
    "    - push(x) -- 元素 x 入栈\n",
    "    - pop() -- 移除栈顶元素\n",
    "    - top() -- 获取栈顶元素\n",
    "    - empty() -- 返回栈是否为空\n",
    "\n",
    "- 示例1：\n",
    "```C++\n",
    "queue.push(1);        \n",
    "queue.push(2);        \n",
    "queue.pop();   // 注意弹出的操作       \n",
    "queue.push(3);        \n",
    "queue.push(4);       \n",
    "queue.pop();  // 注意弹出的操作    \n",
    "queue.pop();    \n",
    "queue.pop();    \n",
    "queue.empty();    \n",
    "```\n",
    "\n",
    "- 说明:\n",
    "    - 你只能使用队列的基本操作-- 也就是 push to back, peek/pop from front, size, 和 is empty 这些操作是合法的。\n",
    "    - 你所使用的语言也许不支持队列。 你可以使用 list 或者 deque（双端队列）来模拟一个队列 , 只要是标准的队列操作即可。\n",
    "    - 你可以假设所有操作都是有效的（例如, 对一个空的栈不会调用 pop 或者 top 操作）。"
   ]
  },
  {
   "cell_type": "markdown",
   "id": "e834699b",
   "metadata": {},
   "source": [
    "## 代码示例\n",
    "- 用一个队列在模拟栈弹出元素的时候只要将队列头部的元素（除了最后一个元素外）重新添加到队列尾部，此时再去弹出元素就是栈的顺序了。"
   ]
  },
  {
   "cell_type": "code",
   "execution_count": null,
   "id": "c3c34a79",
   "metadata": {},
   "outputs": [],
   "source": [
    "class MyStack {\n",
    "public:\n",
    "    queue<int> que;\n",
    "    MyStack() {\n",
    "        \n",
    "    }\n",
    "    \n",
    "    void push(int x) {\n",
    "        que.push(x);\n",
    "    }\n",
    "    \n",
    "    int pop() {\n",
    "        int size = que.size();\n",
    "        size--;\n",
    "        while(size--){\n",
    "            que.push(que.front());\n",
    "            que.pop();\n",
    "        }\n",
    "        int result = que.front();\n",
    "        que.pop();\n",
    "        return result;\n",
    "    }\n",
    "    \n",
    "    int top() {\n",
    "        int result = this->pop();\n",
    "        que.push(result);\n",
    "        return result;\n",
    "    }\n",
    "\n",
    "    bool empty() {\n",
    "        return que.empty();\n",
    "    }\n",
    "};\n",
    "\n",
    "/**\n",
    " * Your MyStack object will be instantiated and called as such:\n",
    " * MyStack* obj = new MyStack();\n",
    " * obj->push(x);\n",
    " * int param_2 = obj->pop();\n",
    " * int param_3 = obj->top();\n",
    " * bool param_4 = obj->empty();\n",
    " */"
   ]
  }
 ],
 "metadata": {
  "kernelspec": {
   "display_name": "Python 3 (ipykernel)",
   "language": "python",
   "name": "python3"
  },
  "language_info": {
   "codemirror_mode": {
    "name": "ipython",
    "version": 3
   },
   "file_extension": ".py",
   "mimetype": "text/x-python",
   "name": "python",
   "nbconvert_exporter": "python",
   "pygments_lexer": "ipython3",
   "version": "3.9.13"
  }
 },
 "nbformat": 4,
 "nbformat_minor": 5
}
