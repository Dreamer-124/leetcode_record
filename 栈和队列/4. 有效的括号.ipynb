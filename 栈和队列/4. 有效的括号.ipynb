{
 "cells": [
  {
   "cell_type": "markdown",
   "id": "ed6b5c29",
   "metadata": {},
   "source": [
    "# 有效的括号"
   ]
  },
  {
   "cell_type": "markdown",
   "id": "58d7bb8d",
   "metadata": {},
   "source": [
    "## [题目](https://leetcode.cn/problems/valid-parentheses/)\n",
    "- 给定一个只包括 '('，')'，'{'，'}'，'['，']' 的字符串，判断字符串是否有效。\n",
    "\n",
    "- 有效字符串需满足：\n",
    "    - 左括号必须用相同类型的右括号闭合。\n",
    "    - 左括号必须以正确的顺序闭合。\n",
    "    - 注意空字符串可被认为是有效字符串。\n",
    "    \n",
    "- 示例1：\n",
    "```C++\n",
    "输入: \"()\"\n",
    "输出: true\n",
    "```\n",
    "\n",
    "- 示例2：\n",
    "```C++\n",
    "输入: \"()[]{}\"\n",
    "输出: true\n",
    "```\n",
    "\n",
    "- 示例3：\n",
    "```C++\n",
    "输入: \"(]\"\n",
    "输出: false\n",
    "```\n",
    "\n",
    "- 示例4：\n",
    "```C++\n",
    "输入: \"([)]\"\n",
    "输出: false\n",
    "```\n",
    "\n",
    "- 示例5：\n",
    "```C++\n",
    "输入: \"{[]}\"\n",
    "输出: true\n",
    "```\n",
    "\n",
    "- 说明:\n",
    "    - 你只能使用标准的栈操作 -- 也就是只有 push to top, peek/pop from top, size, 和 is empty 操作是合法的。\n",
    "    - 你所使用的语言也许不支持栈。你可以使用 list 或者 deque（双端队列）来模拟一个栈，只要是标准的栈操作即可。\n",
    "    - 假设所有操作都是有效的 （例如，一个空的队列不会调用 pop 或者 peek 操作）。"
   ]
  },
  {
   "cell_type": "markdown",
   "id": "69bbd868",
   "metadata": {},
   "source": [
    "## 代码示例\n",
    "\n",
    "- 对题目进行分析，分为三种情况：\n",
    "    - 第一种情况：已经遍历完了字符串，但是栈不为空，说明有相应的左括号没有右括号来匹配，所以return false\n",
    "    - 第二种情况：遍历字符串匹配的过程中，发现栈里没有要匹配的字符。所以return false\n",
    "    - 第三种情况：遍历字符串匹配的过程中，栈已经为空了，没有匹配的字符了，说明右括号没有找到对应的左括号return false\n",
    "- 当字符串遍历完以后，发现栈是空的，就证明是有效的括号。\n",
    "- 技巧：在匹配左括号的时候，右括号先入栈，就只需要比较当前元素和栈顶相不相等就可以了，比左括号先入栈代码要简单。\n",
    "    - 时间复杂度：$O(n)$\n",
    "    - 空间复杂度：$O(n)$"
   ]
  },
  {
   "cell_type": "code",
   "execution_count": null,
   "id": "ad2d7bd9",
   "metadata": {},
   "outputs": [],
   "source": [
    "class Solution {\n",
    "public:\n",
    "    bool isValid(string s) {\n",
    "        stack<char> st;\n",
    "        if(s.size() % 2 != 0) return false;\n",
    "        for(int i = 0; i < s.size(); i++)\n",
    "        {\n",
    "            if(s[i] == '(')\n",
    "                st.push(')');\n",
    "            else if(s[i] == '{')\n",
    "                st.push('}');\n",
    "            else if(s[i] == '[')\n",
    "                st.push(']');\n",
    "            else if(st.empty() || st.top() != s[i])\n",
    "                return false;\n",
    "            else\n",
    "                st.pop();\n",
    "        }\n",
    "        return st.empty();\n",
    "    }\n",
    "};"
   ]
  }
 ],
 "metadata": {
  "kernelspec": {
   "display_name": "Python 3 (ipykernel)",
   "language": "python",
   "name": "python3"
  },
  "language_info": {
   "codemirror_mode": {
    "name": "ipython",
    "version": 3
   },
   "file_extension": ".py",
   "mimetype": "text/x-python",
   "name": "python",
   "nbconvert_exporter": "python",
   "pygments_lexer": "ipython3",
   "version": "3.9.13"
  }
 },
 "nbformat": 4,
 "nbformat_minor": 5
}
