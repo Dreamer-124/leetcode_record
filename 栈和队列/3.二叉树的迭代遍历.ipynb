{
 "cells": [
  {
   "cell_type": "markdown",
   "id": "faac0a0f",
   "metadata": {},
   "source": [
    "# 二叉树的迭代遍历\n",
    "- 递归的实现就是：每一次递归调用都会把函数的局部变量、参数值和返回地址等压入调用栈中，然后递归返回的时候，从栈顶弹出上一次递归的各项参数\n",
    "\n",
    "## 代码示例\n",
    "- 前序遍历"
   ]
  },
  {
   "cell_type": "code",
   "execution_count": null,
   "id": "22ab8d89",
   "metadata": {},
   "outputs": [],
   "source": [
    "class Solution {\n",
    "public:\n",
    "    vector<int> preorderTraversal(TreeNode* root) {\n",
    "        stack<TreeNode*> st;\n",
    "        vector<int> result;\n",
    "        if (root == NULL) return result;\n",
    "        st.push(root);\n",
    "        while (!st.empty()) {\n",
    "            TreeNode* node = st.top();                       // 中\n",
    "            st.pop();\n",
    "            result.push_back(node->val);\n",
    "            if (node->right) st.push(node->right);           // 右（空节点不入栈）\n",
    "            if (node->left) st.push(node->left);             // 左（空节点不入栈）\n",
    "        }\n",
    "        return result;\n",
    "    }\n",
    "};"
   ]
  },
  {
   "cell_type": "markdown",
   "id": "3819b81b",
   "metadata": {},
   "source": [
    "- 中序遍历\n",
    "    - 使用迭代法写中序遍历，就需要借用指针的遍历来帮助访问节点，栈则用来处理节点上的元素。"
   ]
  },
  {
   "cell_type": "code",
   "execution_count": null,
   "id": "6263e10c",
   "metadata": {},
   "outputs": [],
   "source": [
    "class Solution {\n",
    "public:\n",
    "    vector<int> inorderTraversal(TreeNode* root) {\n",
    "        vector<int> result;\n",
    "        stack<TreeNode*> st;\n",
    "        TreeNode* cur = root;\n",
    "        while (cur != NULL || !st.empty()) {\n",
    "            if (cur != NULL) { // 指针来访问节点，访问到最底层\n",
    "                st.push(cur); // 将访问的节点放进栈\n",
    "                cur = cur->left;                // 左\n",
    "            } else {\n",
    "                cur = st.top(); // 从栈里弹出的数据，就是要处理的数据（放进result数组里的数据）\n",
    "                st.pop();\n",
    "                result.push_back(cur->val);     // 中\n",
    "                cur = cur->right;               // 右\n",
    "            }\n",
    "        }\n",
    "        return result;\n",
    "    }\n",
    "};"
   ]
  },
  {
   "cell_type": "markdown",
   "id": "b4617f37",
   "metadata": {},
   "source": [
    "- 后序遍历 \n",
    "    - 因为后序遍历是左右中，先序遍历是中左右，所以只需要调整一下先序遍历的代码顺序，就变成中右左的遍历顺序，然后再反转 result 数组，输出的结果顺序就是左右中。"
   ]
  },
  {
   "cell_type": "code",
   "execution_count": null,
   "id": "21e2ffe2",
   "metadata": {},
   "outputs": [],
   "source": [
    "class Solution {\n",
    "public:\n",
    "    vector<int> postorderTraversal(TreeNode* root) {\n",
    "        stack<TreeNode*> st;\n",
    "        vector<int> result;\n",
    "        if (root == NULL) return result;\n",
    "        st.push(root);\n",
    "        while (!st.empty()) {\n",
    "            TreeNode* node = st.top();\n",
    "            st.pop();\n",
    "            result.push_back(node->val);\n",
    "            if (node->left) st.push(node->left); // 相对于前序遍历，这更改一下入栈顺序 （空节点不入栈）\n",
    "            if (node->right) st.push(node->right); // 空节点不入栈\n",
    "        }\n",
    "        reverse(result.begin(), result.end()); // 将结果反转之后就是左右中的顺序了\n",
    "        return result;\n",
    "    }\n",
    "};"
   ]
  }
 ],
 "metadata": {
  "kernelspec": {
   "display_name": "Python 3 (ipykernel)",
   "language": "python",
   "name": "python3"
  },
  "language_info": {
   "codemirror_mode": {
    "name": "ipython",
    "version": 3
   },
   "file_extension": ".py",
   "mimetype": "text/x-python",
   "name": "python",
   "nbconvert_exporter": "python",
   "pygments_lexer": "ipython3",
   "version": "3.9.13"
  }
 },
 "nbformat": 4,
 "nbformat_minor": 5
}
