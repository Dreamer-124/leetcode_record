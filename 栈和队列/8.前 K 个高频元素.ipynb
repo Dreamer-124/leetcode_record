{
 "cells": [
  {
   "cell_type": "markdown",
   "id": "bd4ec97c",
   "metadata": {},
   "source": [
    "# 前 K 个高频元素\n",
    "\n",
    "\n",
    "## [题目](https://leetcode.cn/problems/top-k-frequent-elements/description/)\n",
    "- 给定一个非空的整数数组，返回其中出现频率前 k 高的元素。\n",
    "\n",
    "- 示例1：\n",
    "```C++\n",
    "输入: nums = [1,1,1,2,2,3], k = 2\n",
    "输出: [1,2]\n",
    "```\n",
    "\n",
    "- 示例2：\n",
    "```C++\n",
    "输入: nums = [1], k = 1\n",
    "输出: [1]\n",
    "```"
   ]
  },
  {
   "cell_type": "markdown",
   "id": "fee80061",
   "metadata": {},
   "source": [
    "## 代码示例\n",
    "- 可以先使用 map 来进行出现频率统计\n",
    "- 然后对频率排序，可以使用一种容器适配器就是优先级队列\n",
    "- 堆是一棵完全二叉树，树中每个结点的值都不小于（或不大于）其左右孩子的值\n",
    "- 要用小顶堆，因为要统计最大前k个元素，只有小顶堆每次将最小的元素弹出，最后小顶堆里积累的才是前k个最大元素\n",
    "- 时间复杂度：$O(nlogk)$\n",
    "- 空间复杂度：$O(n)$"
   ]
  },
  {
   "cell_type": "code",
   "execution_count": null,
   "id": "00edafdc",
   "metadata": {},
   "outputs": [],
   "source": [
    "class Solution {\n",
    "public:\n",
    "    class mycomparison{\n",
    "    public:\n",
    "        // 小顶堆\n",
    "        bool operator()(const pair<int, int>& lhs, const pair<int, int>& rhs){\n",
    "            return lhs.second > rhs.second;\n",
    "        }\n",
    "    };\n",
    "    vector<int> topKFrequent(vector<int>& nums, int k) {\n",
    "        // 要统计元素出现的频率\n",
    "        unordered_map<int, int> map;  // map<nums[i],对应出现的次数>\n",
    "        for(int i = 0; i < nums.size(); i++){\n",
    "            map[nums[i]]++;\n",
    "        }\n",
    "\n",
    "        // 对频率排序\n",
    "        // 定义一个小顶堆，大小为k\n",
    "        priority_queue<pair<int, int>, vector<pair<int, int>>, mycomparison> pri_que;\n",
    "\n",
    "        // 用固定大小为k的小顶堆，扫面所有频率的数值\n",
    "        for(unordered_map<int, int>::iterator it = map.begin(); it != map.end(); it++){\n",
    "            pri_que.push(*it);\n",
    "            if(pri_que.size() > k){  // 如果堆的大小大于了K，则队列弹出，保证堆的大小一直为k\n",
    "                pri_que.pop();\n",
    "            }\n",
    "        }\n",
    "\n",
    "        // 找出前K个高频元素，因为小顶堆先弹出的是最小的，所以倒序来输出到数组\n",
    "        vector<int> result(k);\n",
    "        for(int i = k - 1; i >= 0; i--){\n",
    "            result[i] = pri_que.top().first;\n",
    "            pri_que.pop();\n",
    "        }\n",
    "\n",
    "        return result;\n",
    "    }\n",
    "};"
   ]
  }
 ],
 "metadata": {
  "kernelspec": {
   "display_name": "Python 3 (ipykernel)",
   "language": "python",
   "name": "python3"
  },
  "language_info": {
   "codemirror_mode": {
    "name": "ipython",
    "version": 3
   },
   "file_extension": ".py",
   "mimetype": "text/x-python",
   "name": "python",
   "nbconvert_exporter": "python",
   "pygments_lexer": "ipython3",
   "version": "3.9.13"
  }
 },
 "nbformat": 4,
 "nbformat_minor": 5
}
