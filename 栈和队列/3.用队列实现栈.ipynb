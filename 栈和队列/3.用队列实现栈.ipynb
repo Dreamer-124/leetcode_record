{
 "cells": [
  {
   "cell_type": "markdown",
   "id": "75c17015",
   "metadata": {},
   "source": [
    "# 用队列实现栈"
   ]
  },
  {
   "cell_type": "markdown",
   "id": "7e3f85cd",
   "metadata": {},
   "source": [
    "## [题目](https://leetcode.cn/problems/implement-stack-using-queues/)\n",
    "- 使用队列实现栈的下列操作：\n",
    "    - push(x) -- 元素 x 入栈\n",
    "    - pop() -- 移除栈顶元素\n",
    "    - top() -- 获取栈顶元素\n",
    "    - empty() -- 返回栈是否为空\n",
    "\n",
    "- 示例1：\n",
    "```C++\n",
    "queue.push(1);        \n",
    "queue.push(2);        \n",
    "queue.pop();   // 注意弹出的操作       \n",
    "queue.push(3);        \n",
    "queue.push(4);       \n",
    "queue.pop();  // 注意弹出的操作    \n",
    "queue.pop();    \n",
    "queue.pop();    \n",
    "queue.empty();    \n",
    "```\n",
    "\n",
    "- 说明:\n",
    "    - 你只能使用队列的基本操作-- 也就是 push to back, peek/pop from front, size, 和 is empty 这些操作是合法的。\n",
    "    - 你所使用的语言也许不支持队列。 你可以使用 list 或者 deque（双端队列）来模拟一个队列 , 只要是标准的队列操作即可。\n",
    "    - 你可以假设所有操作都是有效的（例如, 对一个空的栈不会调用 pop 或者 top 操作）。"
   ]
  },
  {
   "cell_type": "markdown",
   "id": "ac8bff56",
   "metadata": {},
   "source": [
    "## 代码示例\n",
    "- 用一个队列在模拟栈弹出元素的时候只要将队列头部的元素（除了最后一个元素外）重新添加到队列尾部，此时再去弹出元素就是栈的顺序了。\n",
    "    - 时间复杂度：pop 为 $O(n)$，top 为 $O(n)$，其他为 $O(1)$\n",
    "    - 空间复杂度：$O(n)$"
   ]
  },
  {
   "cell_type": "code",
   "execution_count": null,
   "id": "8ebcda30",
   "metadata": {},
   "outputs": [],
   "source": [
    "class MyStack {\n",
    "public:\n",
    "    // 初始化一个队列\n",
    "    queue<int> que;\n",
    "\n",
    "    // 构造函数\n",
    "    MyStack() {\n",
    "        \n",
    "    }\n",
    "    \n",
    "    // 入栈操作\n",
    "    void push(int x) {\n",
    "        que.push(x);\n",
    "    }\n",
    "    \n",
    "    // 出栈操作\n",
    "    int pop() {\n",
    "        // 先将队列中的元素全部出队，直到只剩下一个元素\n",
    "        int size = que.size();\n",
    "        size--;\n",
    "        while(size--){\n",
    "            que.push(que.front());\n",
    "            que.pop();\n",
    "        }\n",
    "        // 取出最后一个元素\n",
    "        int result = que.front();\n",
    "        que.pop();\n",
    "        return result;\n",
    "    }\n",
    "    \n",
    "    // 获取栈顶元素\n",
    "    int top() {\n",
    "        int result = this->pop();\n",
    "        que.push(result);\n",
    "        return result;\n",
    "    }\n",
    "\n",
    "    // 判断栈是否为空\n",
    "    bool empty() {\n",
    "        return que.empty();\n",
    "    }\n",
    "};\n",
    "\n",
    "/**\n",
    " * Your MyStack object will be instantiated and called as such:\n",
    " * MyStack* obj = new MyStack();\n",
    " * obj->push(x);\n",
    " * int param_2 = obj->pop();\n",
    " * int param_3 = obj->top();\n",
    " * bool param_4 = obj->empty();\n",
    " */"
   ]
  }
 ],
 "metadata": {
  "kernelspec": {
   "display_name": "Python 3 (ipykernel)",
   "language": "python",
   "name": "python3"
  },
  "language_info": {
   "codemirror_mode": {
    "name": "ipython",
    "version": 3
   },
   "file_extension": ".py",
   "mimetype": "text/x-python",
   "name": "python",
   "nbconvert_exporter": "python",
   "pygments_lexer": "ipython3",
   "version": "3.9.13"
  }
 },
 "nbformat": 4,
 "nbformat_minor": 5
}
