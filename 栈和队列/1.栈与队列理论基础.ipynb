{
 "cells": [
  {
   "cell_type": "markdown",
   "id": "d14d07a3",
   "metadata": {},
   "source": [
    "# 栈和队列基础理论\n",
    "\n",
    "- 栈和队列是 STL（C++标准库）里面的两个数据结构\n",
    "- 三个最为普遍的 STL 版本：HPT STL, P.J.Plauger STL, SGI STL（开源并且可读性很高）\n",
    "- 栈提供 push 和 pop 等等接口，所有元素必须符合先进后出规则，所以栈不提供走访功能，也不提供迭代器（iterator）。不像是 set 或者 map 提供迭代器 iterator 来遍历所有元素\n",
    "- 栈是以底层容器完成其所有工作的，对外提供统一的接口，底层容器是可插拔的（也就是说我们可以控制使用哪种容器来实现栈的功能），所以 STL 中栈往往不被归类为容器，而被归类为 container adapter（容器适配器）\n",
    "- 栈的底层实现可以是 vector，deque，list 都是可以的，主要就是数组和链表的底层实现\n",
    "- 我们常用的 SGI STL，如果没有指定底层实现的话，默认是以 deque 为缺省情况下栈的底层结构（deque 是一个双向队列，只要封住一段，只开通另一端就可以实现栈的逻辑了）\n",
    "- SGI STL中队列底层显示缺省情况下一样使用 deque 实现\n",
    "- 我们也可以指定 vector 为栈的底层实现，初始化语句如下：\n",
    "```C++\n",
    "std::stack<int, std::vector<int> > thrid;  // 使用 vector 为底层容器的栈\n",
    "```\n",
    "- 队列中先进先出的数据结构，同样不允许有遍历行为，不提供迭代器，SGI STL 中队列一样是以 deque 为缺省情况下的底部结构\n",
    "- 指定 list 为起底层实现，初始化 queue 的语句如下：\n",
    "```C++\n",
    "std::queue<int, std::list<int>> third;  // 定义以 list 为底层容器的队列\n",
    "```\n",
    "- STL 队列也不被归类为容器，而被归类为 container adapter（容器适配器）"
   ]
  }
 ],
 "metadata": {
  "kernelspec": {
   "display_name": "Python 3 (ipykernel)",
   "language": "python",
   "name": "python3"
  },
  "language_info": {
   "codemirror_mode": {
    "name": "ipython",
    "version": 3
   },
   "file_extension": ".py",
   "mimetype": "text/x-python",
   "name": "python",
   "nbconvert_exporter": "python",
   "pygments_lexer": "ipython3",
   "version": "3.9.13"
  }
 },
 "nbformat": 4,
 "nbformat_minor": 5
}
