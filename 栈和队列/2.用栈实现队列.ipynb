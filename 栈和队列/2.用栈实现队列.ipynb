{
 "cells": [
  {
   "cell_type": "markdown",
   "id": "0a0c5edd",
   "metadata": {},
   "source": [
    "# 用栈实现队列\n",
    "\n",
    "## [题目](https://leetcode.cn/problems/implement-queue-using-stacks/)\n",
    "- 使用栈实现队列的下列操作：\n",
    "    - push(x) -- 将一个元素放入队列的尾部。\n",
    "    - pop() -- 从队列首部移除元素。\n",
    "    - peek() -- 返回队列首部的元素。\n",
    "    - empty() -- 返回队列是否为空。\n",
    "\n",
    "- 示例1：\n",
    "```C++\n",
    "MyQueue queue = new MyQueue();\n",
    "queue.push(1);\n",
    "queue.push(2);\n",
    "queue.peek();  // 返回 1\n",
    "queue.pop();   // 返回 1\n",
    "queue.empty(); // 返回 false\n",
    "```\n",
    "\n",
    "- 说明:\n",
    "    - 你只能使用标准的栈操作 -- 也就是只有 push to top, peek/pop from top, size, 和 is empty 操作是合法的。\n",
    "    - 你所使用的语言也许不支持栈。你可以使用 list 或者 deque（双端队列）来模拟一个栈，只要是标准的栈操作即可。\n",
    "    - 假设所有操作都是有效的 （例如，一个空的队列不会调用 pop 或者 peek 操作）。"
   ]
  },
  {
   "cell_type": "markdown",
   "id": "6a08c913",
   "metadata": {},
   "source": [
    "## 代码示例\n",
    "- 定义两个栈，一个出栈，一个入栈，然后用两个栈模拟队列操作\n",
    "    - 时间复杂度：都为 $O(1)$。pop 和 peek 看起来像 $O(n)$，实际上一个循环 $n$ 会被使用 $n$ 次，最后还是 $O(1)$\n",
    "    - 空间复杂度：$O(n)$"
   ]
  },
  {
   "cell_type": "code",
   "execution_count": null,
   "id": "cdf7f33c",
   "metadata": {},
   "outputs": [],
   "source": [
    "class MyQueue {\n",
    "public:\n",
    "    stack<int> stIn;\n",
    "    stack<int> stOut;\n",
    "    MyQueue() {\n",
    "        \n",
    "    }\n",
    "    \n",
    "    void push(int x) {\n",
    "        stIn.push(x);\n",
    "    }\n",
    "    \n",
    "    int pop() {\n",
    "        if(stOut.empty()){\n",
    "            while(!stIn.empty()){\n",
    "                stOut.push(stIn.top());\n",
    "                stIn.pop();\n",
    "            }\n",
    "        }\n",
    "        int result = stOut.top();\n",
    "        stOut.pop();\n",
    "        return result;\n",
    "    }\n",
    "    \n",
    "    int peek() {\n",
    "        int result = this->pop();\n",
    "        stOut.push(result);\n",
    "        return result;\n",
    "    }\n",
    "    \n",
    "    bool empty() {\n",
    "        return stIn.empty() && stOut.empty();\n",
    "    }\n",
    "};\n",
    "\n",
    "/**\n",
    " * Your MyQueue object will be instantiated and called as such:\n",
    " * MyQueue* obj = new MyQueue();\n",
    " * obj->push(x);\n",
    " * int param_2 = obj->pop();\n",
    " * int param_3 = obj->peek();\n",
    " * bool param_4 = obj->empty();\n",
    " */"
   ]
  }
 ],
 "metadata": {
  "kernelspec": {
   "display_name": "Python 3 (ipykernel)",
   "language": "python",
   "name": "python3"
  },
  "language_info": {
   "codemirror_mode": {
    "name": "ipython",
    "version": 3
   },
   "file_extension": ".py",
   "mimetype": "text/x-python",
   "name": "python",
   "nbconvert_exporter": "python",
   "pygments_lexer": "ipython3",
   "version": "3.9.13"
  }
 },
 "nbformat": 4,
 "nbformat_minor": 5
}
