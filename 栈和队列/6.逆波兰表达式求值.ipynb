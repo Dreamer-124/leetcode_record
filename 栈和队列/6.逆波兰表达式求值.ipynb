{
 "cells": [
  {
   "cell_type": "markdown",
   "id": "b60ccf06",
   "metadata": {},
   "source": [
    "# 逆波兰表达式求值\n",
    "\n",
    "## [题目](https://leetcode.cn/problems/evaluate-reverse-polish-notation/description/)\n",
    "- 根据逆波兰表示法，求表达式的值。有效运算符包括 + ,  - ,  * ,  / 。每个运算对象可以是整数，也可以是另一个逆波兰表达式。\n",
    "    \n",
    "- 示例1：\n",
    "```C++\n",
    "输入: [\"2\", \"1\", \"+\", \"3\", \" * \"]\n",
    "输出: 9\n",
    "解释: 该算式转化为常见的中缀算术表达式为：((2 + 1) * 3) = 9\n",
    "```\n",
    "\n",
    "- 示例2：\n",
    "```C++\n",
    "输入: [\"4\", \"13\", \"5\", \"/\", \"+\"]\n",
    "输出: 6\n",
    "解释: 该算式转化为常见的中缀算术表达式为：(4 + (13 / 5)) = 6\n",
    "```\n",
    "\n",
    "- 示例3：\n",
    "```C++\n",
    "输入: [\"10\", \"6\", \"9\", \"3\", \"+\", \"-11\", \" * \", \"/\", \" * \", \"17\", \"+\", \"5\", \"+\"]\n",
    "输出: 22\n",
    "解释:该算式转化为常见的中缀算术表达式为：\n",
    "((10 * (6 / ((9 + 3) * -11))) + 17) + 5       \n",
    "= ((10 * (6 / (12 * -11))) + 17) + 5       \n",
    "= ((10 * (6 / -132)) + 17) + 5     \n",
    "= ((10 * 0) + 17) + 5     \n",
    "= (0 + 17) + 5    \n",
    "= 17 + 5    \n",
    "= 22    \n",
    "```\n",
    "\n",
    "- 逆波兰表达式：是一种后缀表达式，所谓后缀就是指运算符写在后面。\n",
    "\n",
    "- 平常使用的算式则是一种中缀表达式，如 ( 1 + 2 ) * ( 3 + 4 ) 。\n",
    "\n",
    "- 该算式的逆波兰表达式写法为 ( ( 1 2 + ) ( 3 4 + ) * ) 。\n",
    "\n",
    "- 逆波兰表达式主要有以下两个优点：\n",
    "    - 去掉括号后表达式无歧义，上式即便写成 1 2 + 3 4 + * 也可以依据次序计算出正确结果。\n",
    "    - 适合用栈操作运算：遇到数字则入栈；遇到运算符则取出栈顶两个数字进行计算，并将结果压入栈中。\n",
    "\n",
    "- 说明:\n",
    "    - 整数除法只保留整数部分。 给定逆波兰表达式总是有效的。换句话说，表达式总会得出有效数值且不存在除数为 0 的情况。"
   ]
  },
  {
   "cell_type": "markdown",
   "id": "9c720b43",
   "metadata": {},
   "source": [
    "## 代码示例\n",
    "- 栈和递归在某种程度之间是可以转换的。\n",
    "- 逆波兰表达式相当于是二叉树中的后序遍历。\n",
    "- 栈这种数据结构非常适合做相邻字符消除操作。\n",
    "- 后缀表达式对计算机来说是非常友好的。\n",
    "- 时间复杂度：$O(n)$\n",
    "- 空间复杂度：$O(n)$"
   ]
  },
  {
   "cell_type": "code",
   "execution_count": null,
   "id": "a3685f0c",
   "metadata": {},
   "outputs": [],
   "source": [
    "class Solution {\n",
    "public:\n",
    "    int evalRPN(vector<string>& tokens) {\n",
    "        stack<long long> st;\n",
    "        for(int i = 0; i < tokens.size(); i++){\n",
    "            if(tokens[i] == \"+\" || tokens[i] == \"-\" || tokens[i] == \"*\" || tokens[i] == \"/\"){\n",
    "                long long top1 = st.top();\n",
    "                st.pop();\n",
    "                long long top2 = st.top();\n",
    "                st.pop();\n",
    "                if(tokens[i] == \"+\") st.push(top2 + top1);\n",
    "                if(tokens[i] == \"-\") st.push(top2 - top1);\n",
    "                if(tokens[i] == \"*\") st.push(top2 * top1);\n",
    "                if(tokens[i] == \"/\") st.push(top2 / top1);\n",
    "            }\n",
    "            else{\n",
    "                st.push(stoll(tokens[i]));\n",
    "            }\n",
    "        }\n",
    "        long long result = st.top();\n",
    "        st.pop();\n",
    "        return result;\n",
    "    }\n",
    "};"
   ]
  }
 ],
 "metadata": {
  "kernelspec": {
   "display_name": "Python 3 (ipykernel)",
   "language": "python",
   "name": "python3"
  },
  "language_info": {
   "codemirror_mode": {
    "name": "ipython",
    "version": 3
   },
   "file_extension": ".py",
   "mimetype": "text/x-python",
   "name": "python",
   "nbconvert_exporter": "python",
   "pygments_lexer": "ipython3",
   "version": "3.9.13"
  }
 },
 "nbformat": 4,
 "nbformat_minor": 5
}
