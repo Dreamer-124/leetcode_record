{
 "cells": [
  {
   "cell_type": "markdown",
   "id": "682270ac",
   "metadata": {},
   "source": [
    "# 删除字符串中的所有相邻重复项\n",
    "\n",
    "## [题目](https://leetcode.cn/problems/remove-all-adjacent-duplicates-in-string/description/)\n",
    "- 给出由小写字母组成的字符串 S，重复项删除操作会选择两个相邻且相同的字母，并删除它们。在 S 上反复执行重复项删除操作，直到无法继续删除。在完成所有重复项删除操作后返回最终的字符串。答案保证唯一。\n",
    "    \n",
    "- 示例1：\n",
    "```C++\n",
    "输入：\"abbaca\"\n",
    "输出：\"ca\"\n",
    "```\n",
    "\n",
    "- 解释：例如，在 \"abbaca\" 中，我们可以删除 \"bb\" 由于两字母相邻且相同，这是此时唯一可以执行删除操作的重复项。之后我们得到字符串 \"aaca\"，其中又只有 \"aa\" 可以执行重复项删除操作，所以最后的字符串为 \"ca\"。\n",
    "\n",
    "\n",
    "- 说明:\n",
    "    - 1 <= S.length <= 20000\n",
    "    - S 仅由小写英文字母组成。"
   ]
  },
  {
   "cell_type": "markdown",
   "id": "a4742909",
   "metadata": {},
   "source": [
    "## 代码示例\n",
    "- 属于重复项匹配问题，可以优先考虑使用栈来做。\n",
    "- 技巧：可以使用字符串模拟栈，这样省去了栈还要转为字符串的操作\n",
    "- 时间复杂度：$O(n)$\n",
    "- 空间复杂度：$O(1)$，返回值不计空间复杂度"
   ]
  },
  {
   "cell_type": "code",
   "execution_count": null,
   "id": "a3ede901",
   "metadata": {},
   "outputs": [],
   "source": [
    "class Solution {\n",
    "public:\n",
    "    string removeDuplicates(string s) {\n",
    "        string result;\n",
    "        for(char s_char: s){\n",
    "            if(result.empty() || s_char != result.back())\n",
    "            {\n",
    "                result.push_back(s_char);\n",
    "            }\n",
    "            else\n",
    "            {\n",
    "                result.pop_back();\n",
    "            }\n",
    "        }\n",
    "        return result;\n",
    "    }\n",
    "};"
   ]
  }
 ],
 "metadata": {
  "kernelspec": {
   "display_name": "Python 3 (ipykernel)",
   "language": "python",
   "name": "python3"
  },
  "language_info": {
   "codemirror_mode": {
    "name": "ipython",
    "version": 3
   },
   "file_extension": ".py",
   "mimetype": "text/x-python",
   "name": "python",
   "nbconvert_exporter": "python",
   "pygments_lexer": "ipython3",
   "version": "3.9.13"
  }
 },
 "nbformat": 4,
 "nbformat_minor": 5
}
