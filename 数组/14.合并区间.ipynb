{
 "cells": [
  {
   "cell_type": "markdown",
   "id": "4592ac32",
   "metadata": {},
   "source": [
    "# 合并区间\n",
    "## [题目](https://leetcode.cn/problems/find-first-and-last-position-of-element-in-sorted-array/description/)\n",
    "\n",
    "- 以数组 intervals 表示若干个区间的集合，其中单个区间为 intervals[i] = [starti, endi] 。请你合并所有重叠的区间，并返回 一个不重叠的区间数组，该数组需恰好覆盖输入中的所有区间 。\n",
    "\n",
    "- 示例1：\n",
    "```C++\n",
    "输入：intervals = [[1,3],[2,6],[8,10],[15,18]]\n",
    "输出：[[1,6],[8,10],[15,18]]\n",
    "解释：区间 [1,3] 和 [2,6] 重叠, 将它们合并为 [1,6].\n",
    "```\n",
    "- 示例2：\n",
    "```C++\n",
    "输入：intervals = [[1,4],[4,5]]\n",
    "输出：[[1,5]]\n",
    "解释：区间 [1,4] 和 [4,5] 可被视为重叠区间。\n",
    "```\n",
    "\n",
    "- 提示：\n",
    "    - 1 <= intervals.length <= $10^4$\n",
    "    - intervals[i].length == 2\n",
    "    - 0 <= starti <= endi <= $10^4$"
   ]
  },
  {
   "cell_type": "markdown",
   "id": "322cb397",
   "metadata": {},
   "source": [
    "## 代码示例\n",
    "- 数组合并，公式推导\n",
    "    - 按照区间的左端点排序，那么在排完序的列表中，可以合并的区间一定是连续的\n",
    "    - 时间复杂度：$O(nlogn)$\n",
    "    - 空间复杂度：$O(n)$"
   ]
  },
  {
   "cell_type": "code",
   "execution_count": null,
   "id": "f7486ce2",
   "metadata": {},
   "outputs": [],
   "source": [
    "class Solution {\n",
    "public:\n",
    "    vector<vector<int>> merge(vector<vector<int>>& intervals) {\n",
    "        // 处理特殊值\n",
    "        if (intervals.size() == 0) return {};\n",
    "        \n",
    "        // 进行排序\n",
    "        sort(intervals.begin(), intervals.end());\n",
    "        \n",
    "        \n",
    "        vector<vector<int>> merged;\n",
    "        for (int i = 0; i < intervals.size(); i++) {\n",
    "            // 获取到区间的左和右\n",
    "            int L = intervals[i][0], R = intervals[i][1];\n",
    "            // 如果当前 merged 为空或者 merged 最后一个元素的右边小与当前遍历值的左边界\n",
    "            if (!merged.size() || merged.back()[1] < L) {\n",
    "                merged.push_back({L, R});\n",
    "            } else {\n",
    "                // merged 不为空并且 merged 最后一个元素的右边大于等于当前遍历值的左边界\n",
    "                merged.back()[1] = max(merged.back()[1], R);\n",
    "            }\n",
    "        }\n",
    "        return merged;\n",
    "    }\n",
    "};"
   ]
  }
 ],
 "metadata": {
  "kernelspec": {
   "display_name": "Python 3 (ipykernel)",
   "language": "python",
   "name": "python3"
  },
  "language_info": {
   "codemirror_mode": {
    "name": "ipython",
    "version": 3
   },
   "file_extension": ".py",
   "mimetype": "text/x-python",
   "name": "python",
   "nbconvert_exporter": "python",
   "pygments_lexer": "ipython3",
   "version": "3.9.13"
  }
 },
 "nbformat": 4,
 "nbformat_minor": 5
}
