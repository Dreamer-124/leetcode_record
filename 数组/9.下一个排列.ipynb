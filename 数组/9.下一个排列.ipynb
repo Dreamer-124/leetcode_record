{
 "cells": [
  {
   "cell_type": "markdown",
   "id": "85debd38",
   "metadata": {},
   "source": [
    "# 下一个排列\n",
    "## [题目](https://leetcode.cn/problems/next-permutation/description/)\n",
    "- 整数数组的一个 排列  就是将其所有成员以序列或线性顺序排列。\n",
    "\n",
    "- 例如，arr = [1,2,3] ，以下这些都可以视作 arr 的排列：[1,2,3]、[1,3,2]、[3,1,2]、[2,3,1] 。\n",
    "\n",
    "- 整数数组的 下一个排列 是指其整数的下一个字典序更大的排列。更正式地，如果数组的所有排列根据其字典顺序从小到大排列在一个容器中，那么数组的 下一个排列 就是在这个有序容器中排在它后面的那个排列。如果不存在下一个更大的排列，那么这个数组必须重排为字典序最小的排列（即，其元素按升序排列）。\n",
    "\n",
    "- 例如，arr = [1,2,3] 的下一个排列是 [1,3,2] 。类似地，arr = [2,3,1] 的下一个排列是 [3,1,2] 。而 arr = [3,2,1] 的下一个排列是 [1,2,3] ，因为 [3,2,1] 不存在一个字典序更大的排列。给你一个整数数组 nums ，找出 nums 的下一个排列。\n",
    "\n",
    "- 必须 原地 修改，只允许使用额外常数空间。\n",
    "\n",
    "\n",
    "- 示例1：\n",
    "```C++\n",
    "输入：nums = [1,2,3]\n",
    "输出：[1,3,2]\n",
    "```\n",
    "\n",
    "- 示例2：\n",
    "```C++\n",
    "输入：nums = [3,2,1]\n",
    "输出：[1,2,3]\n",
    "```\n",
    "\n",
    "- 示例3：\n",
    "```C++\n",
    "输入：nums = [1,1,5]\n",
    "输出：[1,5,1]\n",
    "```\n",
    "\n",
    "- 提示：\n",
    "    - 1 <= nums.length <= 100\n",
    "    - 0 <= nums[i] <= 100"
   ]
  },
  {
   "cell_type": "markdown",
   "id": "b54a395c",
   "metadata": {},
   "source": [
    "## 代码示例\n",
    "- 双指针，前缀和\n",
    "    - 注意到下一个排列总是比当前排列要大，除非该排列已经是最大的排列。我们希望找到一种方法，能够找到一个大于当前序列的新序列，且变大的幅度尽可能小。具体地：\n",
    "\n",
    "    - 我们需要将一个左边的「较小数」与一个右边的「较大数」交换，以能够让当前排列变大，从而得到下一个排列。\n",
    "\n",
    "    - 同时我们要让这个「较小数」尽量靠右，而「较大数」尽可能小。当交换完成后，「较大数」右边的数需要按照升序重新排列。这样可以在保证新排列大于原来排列的情况下，使变大的幅度尽可能小。\n",
    "    - 时间复杂度：$O(n)$\n",
    "    - 空间复杂度：$O(1)$"
   ]
  },
  {
   "cell_type": "code",
   "execution_count": null,
   "id": "6b558db5",
   "metadata": {},
   "outputs": [],
   "source": [
    "class Solution {\n",
    "public:\n",
    "    void nextPermutation(vector<int>& nums) {\n",
    "        int i = nums.size() - 2;  // 获取到倒数第二个元素的索引，方便后续操作\n",
    "        \n",
    "        // 从后往前遍历，找到第一个不满足递减的元素\n",
    "        while(i >= 0 && nums[i] >= nums[i + 1]) {\n",
    "            i--;\n",
    "        }\n",
    "        \n",
    "        // 如果找到了这样的元素，说明还有下一个排列\n",
    "        if (i >= 0) {\n",
    "            // 找到第一个比 nums[i] 大的元素，交换它们\n",
    "            int j = nums.size() - 1;\n",
    "            while(j >= 0 && nums[i] >= nums[j]) {\n",
    "                j--;\n",
    "            }\n",
    "            swap(nums[i], nums[j]);\n",
    "        }\n",
    "        // 无论是否找到了这样的元素，都需要将 nums[i + 1] 之后的元素进行反转，确保原来的递增转为递减\n",
    "        reverse(nums.begin() + i + 1, nums.end());\n",
    "    }\n",
    "}"
   ]
  }
 ],
 "metadata": {
  "kernelspec": {
   "display_name": "Python 3 (ipykernel)",
   "language": "python",
   "name": "python3"
  },
  "language_info": {
   "codemirror_mode": {
    "name": "ipython",
    "version": 3
   },
   "file_extension": ".py",
   "mimetype": "text/x-python",
   "name": "python",
   "nbconvert_exporter": "python",
   "pygments_lexer": "ipython3",
   "version": "3.9.13"
  }
 },
 "nbformat": 4,
 "nbformat_minor": 5
}
