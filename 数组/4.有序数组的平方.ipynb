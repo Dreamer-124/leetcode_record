{
 "cells": [
  {
   "cell_type": "markdown",
   "id": "bbd0dd66-1ec9-4203-ad7c-79f1c996f4bc",
   "metadata": {},
   "source": [
    "# 有序数组的平方\n",
    "## [题目](https://leetcode.cn/problems/squares-of-a-sorted-array/description/)\n",
    "- 给你一个按非递减顺序排序的整数数组 nums，返回每个数字的平方组成的新数组，要求也按非递减顺序排序\n",
    "\n",
    "- 示例1：\n",
    "```C++\n",
    "输入：nums = [-4,-1,0,3,10]\n",
    "输出：[0,1,9,16,100]\n",
    "解释：平方后，数组变为 [16,1,0,9,100]，排序后，数组变为 [0,1,9,16,100]\n",
    "```\n",
    "\n",
    "- 示例2：\n",
    "```C++\n",
    "输入：nums = [-7,-3,2,3,11]\n",
    "输出：[4,9,9,49,121]\n",
    "```"
   ]
  },
  {
   "cell_type": "markdown",
   "id": "5985224c-8d1f-4eac-8a05-8f27db83441c",
   "metadata": {},
   "source": [
    "## 代码示例\n",
    "- 暴力解法：每个数平方之后，排个序\n",
    "    - 时间复杂度：$O(n + n \\log n)$\n",
    "    - 空间复杂度：$O(1)$"
   ]
  },
  {
   "cell_type": "code",
   "execution_count": null,
   "id": "c50b4f34-3035-48b8-a271-ac8ff685d69c",
   "metadata": {},
   "outputs": [],
   "source": [
    "class Solution {\n",
    "public:\n",
    "    vector<int> sortedSquares(vector<int>& A) {\n",
    "        for (int i = 0; i < A.size(); i++) {\n",
    "            A[i] *= A[i];\n",
    "        }\n",
    "        sort(A.begin(), A.end()); // 快速排序\n",
    "        return A;\n",
    "    }\n",
    "};"
   ]
  },
  {
   "cell_type": "markdown",
   "id": "173d6ca8-37ab-4250-bfca-47b82d5e8013",
   "metadata": {},
   "source": [
    "- 双指针法：\n",
    "    - 分析：在本题中，数组其实是有序的， 只不过负数平方之后可能成为最大数了。那么数组平方的最大值就在数组的两端，不是最左边就是最右边，不可能是中间。\n",
    "    - 时间复杂度：$O(n)$\n",
    "    - 空间复杂度：$O(n)$"
   ]
  },
  {
   "cell_type": "code",
   "execution_count": null,
   "id": "4c621471-f415-4535-b07d-d4107c5dcd17",
   "metadata": {},
   "outputs": [],
   "source": [
    "class Solution {\n",
    "public:\n",
    "    vector<int> sortedSquares(vector<int>& A) {\n",
    "        int k = A.size() - 1;  \n",
    "        vector<int> result(A.size(), 0);\n",
    "        // 双指针法, 从两端向中间遍历\n",
    "        for (int i = 0, j = A.size() - 1; i <= j;) { // 注意这里要i <= j，因为最后要处理两个元素\n",
    "            // 比较平方值，大的放在后面\n",
    "            if (A[i] * A[i] < A[j] * A[j])  {\n",
    "                result[k--] = A[j] * A[j];\n",
    "                j--;\n",
    "            }\n",
    "            else {\n",
    "                result[k--] = A[i] * A[i];\n",
    "                i++;\n",
    "            }\n",
    "        }\n",
    "        return result;\n",
    "    }\n",
    "};"
   ]
  }
 ],
 "metadata": {
  "kernelspec": {
   "display_name": "C++17",
   "language": "C++17",
   "name": "xcpp17"
  },
  "language_info": {
   "codemirror_mode": "text/x-c++src",
   "file_extension": ".cpp",
   "mimetype": "text/x-c++src",
   "name": "c++",
   "version": "17"
  }
 },
 "nbformat": 4,
 "nbformat_minor": 5
}
