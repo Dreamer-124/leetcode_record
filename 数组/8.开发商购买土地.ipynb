{
 "cells": [
  {
   "cell_type": "markdown",
   "id": "8a37f8e6-2b1e-4c9e-9ce6-30a0c8aa1c98",
   "metadata": {},
   "source": [
    "# 开发商购买土地\n",
    "## [题目](https://kamacoder.com/problempage.php?pid=1044)\n",
    "- 给定一个正整数 n，生成一个包含 1 到 n^2 所有元素，且元素按顺时针顺序螺旋排列的正方形矩阵\n",
    "\n",
    "- 示例1：\n",
    "```C++\n",
    "输入: 3 \n",
    "输出: [ [ 1, 2, 3 ], [ 8, 9, 4 ], [ 7, 6, 5 ] ]\n",
    "```\n",
    "\n",
    "- 示例1：\n",
    "```C++\n",
    "输入：n = 1\n",
    "输出：[[1]]\n",
    "```\n",
    "\n",
    "- 提示：\n",
    "    - 1 <= n <= 20"
   ]
  },
  {
   "cell_type": "markdown",
   "id": "a2db3eb4-0d10-4c91-aa57-8b1c5d681371",
   "metadata": {},
   "source": [
    "## 代码示例\n",
    "- 暴力求解：一个 for 枚举分割线，嵌套两个 for 去累加区间里的和\n",
    "    - 时间复杂度：$O(n^3)$ \n",
    "- 前缀和求解：\n",
    "    - 时间复杂度：$O(n^2)$  "
   ]
  },
  {
   "cell_type": "code",
   "execution_count": null,
   "id": "7f5c03d7-5084-4286-8190-b243c3de4f1c",
   "metadata": {},
   "outputs": [],
   "source": [
    "#include <iostream>\n",
    "#include <vector>\n",
    "#include <climits>\n",
    "\n",
    "using namespace std;\n",
    "int main () {\n",
    "    int n, m;\n",
    "    cin >> n >> m;\n",
    "    int sum = 0;\n",
    "    vector<vector<int>> vec(n, vector<int>(m, 0)) ;\n",
    "    for (int i = 0; i < n; i++) {\n",
    "        for (int j = 0; j < m; j++) {\n",
    "            cin >> vec[i][j];\n",
    "            sum += vec[i][j];\n",
    "        }\n",
    "    }\n",
    "    // 统计横向\n",
    "    vector<int> horizontal(n, 0);\n",
    "    for (int i = 0; i < n; i++) {\n",
    "        for (int j = 0 ; j < m; j++) {\n",
    "            horizontal[i] += vec[i][j];\n",
    "        }\n",
    "    }\n",
    "    // 统计纵向\n",
    "    vector<int> vertical(m , 0);\n",
    "    for (int j = 0; j < m; j++) {\n",
    "        for (int i = 0 ; i < n; i++) {\n",
    "            vertical[j] += vec[i][j];\n",
    "        }\n",
    "    }\n",
    "    int result = INT_MAX;\n",
    "    int horizontalCut = 0;\n",
    "    for (int i = 0 ; i < n; i++) {\n",
    "        horizontalCut += horizontal[i];\n",
    "        result = min(result, abs(sum - horizontalCut - horizontalCut));\n",
    "    }\n",
    "    int verticalCut = 0;\n",
    "    for (int j = 0; j < m; j++) {\n",
    "        verticalCut += vertical[j];\n",
    "        result = min(result, abs(sum - verticalCut - verticalCut));\n",
    "    }\n",
    "    cout << result << endl;\n",
    "}"
   ]
  }
 ],
 "metadata": {
  "kernelspec": {
   "display_name": "C++17",
   "language": "C++17",
   "name": "xcpp17"
  },
  "language_info": {
   "codemirror_mode": "text/x-c++src",
   "file_extension": ".cpp",
   "mimetype": "text/x-c++src",
   "name": "c++",
   "version": "17"
  }
 },
 "nbformat": 4,
 "nbformat_minor": 5
}
