{
 "cells": [
  {
   "cell_type": "markdown",
   "id": "3f7ced3e",
   "metadata": {},
   "source": [
    "# 数组理论基础\n",
    "- **数组是存放在连续内存空间上的相同类型数据的集合**\n",
    "- **数组的下标都是从 0 开始的**\n",
    "- **数组的内存空间的地址是连续的**\n",
    "- **因为数组的内存空间的地址是连续的，所以我们在删除或者增添元素的时候，就难免要移动其他元素的地址**\n",
    "- **在 C++ 中，Vector 的底层实现是 array，严格来讲 vector 是容器，不是数组**\n",
    "- **数组的元素是不能删的，只能覆盖**\n",
    "- **二维数组在内存的空间地址是连续的吗？（不同的编程语言的内存管理是不一样的，在 C++ 中二维数组是连续分布的，从下面的例子中可以看出 C++ 中二维数组在地址空间上是连续的，但是在 java 中没有指针，同时也不对程序员暴露其元素的地址，寻址操作完全交给虚拟机，所以返回回来的地址并不是真正的地址，而是经过处理后的数值，二维数组的每一行头结点的地址是没有规则的，更谈不上连续，最后我们可以发现在 java 的二维数组在内存中不是 3*4 的连续地址空间，而是四条连续的地址空间组成的！）**"
   ]
  },
  {
   "cell_type": "code",
   "execution_count": 2,
   "id": "d2064303-767a-4be2-9649-60576e3155ba",
   "metadata": {},
   "outputs": [
    {
     "name": "stdout",
     "output_type": "stream",
     "text": [
      "0x7ffdc7f41bc0 0x7ffdc7f41bc4 0x7ffdc7f41bc8\n",
      "0x7ffdc7f41bcc 0x7ffdc7f41bd0 0x7ffdc7f41bd4\n"
     ]
    }
   ],
   "source": [
    "#include <iostream>\n",
    "\n",
    "void test_arr() {\n",
    "    int array[2][3] = {\n",
    "        {0, 1, 2},\n",
    "        {3, 4, 5}\n",
    "    };\n",
    "    std::cout << &array[0][0] << \" \" << &array[0][1] << \" \" << &array[0][2] << std::endl;\n",
    "    std::cout << &array[1][0] << \" \" << &array[1][1] << \" \" << &array[1][2] << std::endl;\n",
    "}\n",
    "\n",
    "test_arr();"
   ]
  }
 ],
 "metadata": {
  "kernelspec": {
   "display_name": "C++17",
   "language": "C++17",
   "name": "xcpp17"
  },
  "language_info": {
   "codemirror_mode": "text/x-c++src",
   "file_extension": ".cpp",
   "mimetype": "text/x-c++src",
   "name": "c++",
   "version": "17"
  }
 },
 "nbformat": 4,
 "nbformat_minor": 5
}
