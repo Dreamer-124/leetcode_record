{
 "cells": [
  {
   "cell_type": "markdown",
   "id": "3f7ced3e",
   "metadata": {},
   "source": [
    "# 数组理论基础\n",
    "- **数组是存放在连续内存空间上的相同类型数据的集合**\n",
    "- **数组的下标都是从 0 开始的**\n",
    "- **数组的内存空间的地址是连续的**\n",
    "- **因为数组的内存空间的地址是连续的，所以我们在删除或者增添元素的时候，就难免要移动其他元素的地址**\n",
    "- **在 C++ 中，Vector 的底层实现是 array，严格来讲 vector 是容器，不是数组**\n",
    "- **数组的元素是不能删的，只能覆盖**\n",
    "- **二维数组在内存的空间地址是连续的吗？（不同的编程语言的内存管理是不一样的，在 C++ 中二维数组是连续分布的，从下面的例子中可以看出 C++ 中二维数组在地址空间上是连续的，但是在 java 中没有指针，同时也不对程序员暴露其元素的地址，寻址操作完全交给虚拟机，所以返回回来的地址并不是真正的地址，而是经过处理后的数值，二维数组的每一行头结点的地址是没有规则的，更谈不上连续）**"
   ]
  },
  {
   "cell_type": "code",
   "execution_count": 2,
   "id": "163f0a5a",
   "metadata": {},
   "outputs": [
    {
     "ename": "SyntaxError",
     "evalue": "invalid syntax (4043069282.py, line 2)",
     "output_type": "error",
     "traceback": [
      "\u001b[1;36m  File \u001b[1;32m\"F:\\Temp\\ipykernel_21300\\4043069282.py\"\u001b[1;36m, line \u001b[1;32m2\u001b[0m\n\u001b[1;33m    using namespace std;\u001b[0m\n\u001b[1;37m          ^\u001b[0m\n\u001b[1;31mSyntaxError\u001b[0m\u001b[1;31m:\u001b[0m invalid syntax\n"
     ]
    }
   ],
   "source": [
    "#include<iostream>\n",
    "using namespace std;\n",
    "\n",
    "void test_arr(){\n",
    "    int array[2][3] = {\n",
    "        {0, 1, 2},\n",
    "        {3, 4, 5}\n",
    "    }\n",
    "    cout << &array[0][0] << \" \" << &array[0][1] << \" \" << &array[0][2] << endl;\n",
    "    cout << &array[1][0] << \" \" << &array[1][1] << \" \" << &array[1][2] << endl;\n",
    "}\n",
    "\n",
    "int main(){\n",
    "    test_arr();\n",
    "    return 0;\n",
    "}"
   ]
  },
  {
   "cell_type": "code",
   "execution_count": null,
   "id": "e7bc19ba",
   "metadata": {},
   "outputs": [],
   "source": [
    "public static void test_arr() {\n",
    "    int[][] arr = {{1, 2, 3}, {3, 4, 5}, {6, 7, 8}, {9,9,9}};\n",
    "    System.out.println(arr[0]);\n",
    "    System.out.println(arr[1]);\n",
    "    System.out.println(arr[2]);\n",
    "    System.out.println(arr[3]);\n",
    "}"
   ]
  }
 ],
 "metadata": {
  "kernelspec": {
   "display_name": "Python 3 (ipykernel)",
   "language": "python",
   "name": "python3"
  },
  "language_info": {
   "codemirror_mode": {
    "name": "ipython",
    "version": 3
   },
   "file_extension": ".py",
   "mimetype": "text/x-python",
   "name": "python",
   "nbconvert_exporter": "python",
   "pygments_lexer": "ipython3",
   "version": "3.9.13"
  }
 },
 "nbformat": 4,
 "nbformat_minor": 5
}
