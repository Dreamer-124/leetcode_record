{
 "cells": [
  {
   "cell_type": "markdown",
   "id": "8e1e418a-fc56-439b-bb76-65cc0a197026",
   "metadata": {
    "jp-MarkdownHeadingCollapsed": true
   },
   "source": [
    "# 长度最小的子数组\n",
    "## [题目](https://leetcode.cn/problems/minimum-size-subarray-sum/description/)\n",
    "- **给定一个含有 n 个正整数的数组和一个正整数 s，找出该数组中满足其和 >= s 的长度最小的连续子数组，并返回其长度，如果不存在符合条件的子数组，返回 0**\n",
    "\n",
    "- **示例1：**\n",
    "```C++\n",
    "输入：s = 7, nums = [2,3,1,2,4,3]\n",
    "输出：2\n",
    "解释：子数组 [4,3] 是该条件下的长度最小的子数组。\n",
    "```\n",
    "\n",
    "- **提示：**\n",
    "    - 1 <= target <= 10^9\n",
    "    - 1 <= nums.length <= 10^5\n",
    "    - 1 <= nums[i] <= 10^5"
   ]
  },
  {
   "cell_type": "markdown",
   "id": "1638e219-9fac-4500-9e2d-9c1b8526e81e",
   "metadata": {},
   "source": [
    "## 代码示例\n",
    "- **暴力解法：两个 for 循环，然后不断寻找符合条件的子序列**\n",
    "    - **时间复杂度：$O(n^2)$**\n",
    "    - **空间复杂度：$O(1)$**"
   ]
  },
  {
   "cell_type": "code",
   "execution_count": null,
   "id": "b715e751-13b3-44e5-aeae-157bc933641c",
   "metadata": {},
   "outputs": [],
   "source": [
    "class Solution {\n",
    "public:\n",
    "    int minSubArrayLen(int s, vector<int>& nums) {\n",
    "        int result = INT32_MAX; // 最终的结果\n",
    "        int sum = 0; // 子序列的数值之和\n",
    "        int subLength = 0; // 子序列的长度\n",
    "        for (int i = 0; i < nums.size(); i++) { // 设置子序列起点为i\n",
    "            sum = 0;\n",
    "            for (int j = i; j < nums.size(); j++) { // 设置子序列终止位置为j\n",
    "                sum += nums[j];\n",
    "                if (sum >= s) { // 一旦发现子序列和超过了s，更新result\n",
    "                    subLength = j - i + 1; // 取子序列的长度\n",
    "                    result = result < subLength ? result : subLength;\n",
    "                    break; // 因为我们是找符合条件最短的子序列，所以一旦符合条件就break\n",
    "                }\n",
    "            }\n",
    "        }\n",
    "        // 如果result没有被赋值的话，就返回0，说明没有符合条件的子序列\n",
    "        return result == INT32_MAX ? 0 : result;\n",
    "    }\n",
    "};"
   ]
  },
  {
   "cell_type": "markdown",
   "id": "feedbc2b-2a31-4fe9-8985-5f5dcc1af9e4",
   "metadata": {},
   "source": [
    "- **双指针法（滑动窗口）：根据当前子序列和大小的情况，不断地调节子序列的起始位置和终止位置，从而得出我们想要的结果**\n",
    "    - **时间复杂度：$O(n)$**\n",
    "    - **空间复杂度：$O(1)$** "
   ]
  },
  {
   "cell_type": "code",
   "execution_count": null,
   "id": "3144a9be-9043-438f-b8f9-3ab22a12ffee",
   "metadata": {},
   "outputs": [],
   "source": [
    "class Solution {\n",
    "public:\n",
    "    int minSubArrayLen(int s, vector<int>& nums) {\n",
    "        int result = INT32_MAX;\n",
    "        int sum = 0; // 滑动窗口数值之和\n",
    "        int i = 0; // 滑动窗口起始位置\n",
    "        int subLength = 0; // 滑动窗口的长度\n",
    "        for (int j = 0; j < nums.size(); j++) {\n",
    "            sum += nums[j];\n",
    "            // 注意这里使用while，每次更新 i（起始位置），并不断比较子序列是否符合条件\n",
    "            while (sum >= s) {\n",
    "                subLength = (j - i + 1); // 取子序列的长度\n",
    "                result = result < subLength ? result : subLength;\n",
    "                sum -= nums[i++]; // 这里体现出滑动窗口的精髓之处，不断变更i（子序列的起始位置）\n",
    "            }\n",
    "        }\n",
    "        // 如果result没有被赋值的话，就返回0，说明没有符合条件的子序列\n",
    "        return result == INT32_MAX ? 0 : result;\n",
    "    }\n",
    "};"
   ]
  }
 ],
 "metadata": {
  "kernelspec": {
   "display_name": "C++17",
   "language": "C++17",
   "name": "xcpp17"
  },
  "language_info": {
   "codemirror_mode": "text/x-c++src",
   "file_extension": ".cpp",
   "mimetype": "text/x-c++src",
   "name": "c++",
   "version": "17"
  }
 },
 "nbformat": 4,
 "nbformat_minor": 5
}
