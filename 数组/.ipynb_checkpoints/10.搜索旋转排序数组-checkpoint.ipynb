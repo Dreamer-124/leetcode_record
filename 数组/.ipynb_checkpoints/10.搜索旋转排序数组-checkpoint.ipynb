{
 "cells": [
  {
   "cell_type": "markdown",
   "id": "4fbef1a3",
   "metadata": {},
   "source": [
    "# 搜索旋转排序数组\n",
    "## [题目](https://leetcode.cn/problems/search-in-rotated-sorted-array/description/)\n",
    "- 整数数组 nums 按升序排列，数组中的值 互不相同 。\n",
    "\n",
    "- 在传递给函数之前，nums 在预先未知的某个下标 k（0 <= k < nums.length）上进行了 旋转，使数组变为 [nums[k], nums[k+1], ..., nums[n-1], nums[0], nums[1], ..., nums[k-1]]（下标 从 0 开始 计数）。例如， [0,1,2,4,5,6,7] 在下标 3 处经旋转后可能变为 [4,5,6,7,0,1,2] 。\n",
    "\n",
    "- 给你 旋转后 的数组 nums 和一个整数 target ，如果 nums 中存在这个目标值 target ，则返回它的下标，否则返回 -1 。\n",
    "\n",
    "- 你必须设计一个时间复杂度为 O(log n) 的算法解决此问题。\n",
    "\n",
    "- 示例1：\n",
    "```C++\n",
    "输入：nums = [4,5,6,7,0,1,2], target = 0\n",
    "输出：4\n",
    "```\n",
    "\n",
    "- 示例2：\n",
    "```C++\n",
    "输入：nums = [4,5,6,7,0,1,2], target = 3\n",
    "输出：-1\n",
    "```\n",
    "\n",
    "- 示例3：\n",
    "```C++\n",
    "输入：nums = [1], target = 0\n",
    "输出：-1\n",
    "```\n",
    "\n",
    "- 提示：\n",
    "    - 1 <= nums.length <= 5000\n",
    "    - -104 <= nums[i] <= 104\n",
    "    - nums 中的每个值都 独一无二\n",
    "    - 题目数据保证 nums 在预先未知的某个下标上进行了旋转\n",
    "    - -104 <= target <= 104"
   ]
  },
  {
   "cell_type": "markdown",
   "id": "dac04ad2",
   "metadata": {},
   "source": [
    "## 代码示例\n",
    "- 数组、二分查找\n",
    "    - 先对数组进行分割\n",
    "    - 对分割完的数组进行二分查找\n",
    "    - 查找完毕后找到原有数组中的下标\n",
    "    - 时间复杂度：$O(logn)$\n",
    "    - 空间复杂度：$O(1)$"
   ]
  },
  {
   "cell_type": "code",
   "execution_count": null,
   "id": "85d1df2e",
   "metadata": {},
   "outputs": [],
   "source": [
    "class Solution {\n",
    "public:\n",
    "    int search(vector<int>& nums, int target) {\n",
    "        int n = (int)nums.size();\n",
    "        if (!n) {\n",
    "            return -1;\n",
    "        }\n",
    "        if (n == 1) {\n",
    "            return nums[0] == target ? 0 : -1;\n",
    "        }\n",
    "        int l = 0, r = n - 1;\n",
    "        while (l <= r) {\n",
    "            int mid = (l + r) / 2;\n",
    "            if (nums[mid] == target) return mid;\n",
    "            if (nums[0] <= nums[mid]) {\n",
    "                if (nums[0] <= target && target < nums[mid]) {\n",
    "                    r = mid - 1;\n",
    "                } else {\n",
    "                    l = mid + 1;\n",
    "                }\n",
    "            } else {\n",
    "                if (nums[mid] < target && target <= nums[n - 1]) {\n",
    "                    l = mid + 1;\n",
    "                } else {\n",
    "                    r = mid - 1;\n",
    "                }\n",
    "            }\n",
    "        }\n",
    "        return -1;\n",
    "    }\n",
    "};"
   ]
  }
 ],
 "metadata": {
  "kernelspec": {
   "display_name": "Python 3 (ipykernel)",
   "language": "python",
   "name": "python3"
  },
  "language_info": {
   "codemirror_mode": {
    "name": "ipython",
    "version": 3
   },
   "file_extension": ".py",
   "mimetype": "text/x-python",
   "name": "python",
   "nbconvert_exporter": "python",
   "pygments_lexer": "ipython3",
   "version": "3.9.13"
  }
 },
 "nbformat": 4,
 "nbformat_minor": 5
}
