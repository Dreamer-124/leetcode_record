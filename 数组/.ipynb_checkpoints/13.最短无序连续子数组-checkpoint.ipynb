{
 "cells": [
  {
   "cell_type": "markdown",
   "id": "f3ae24ff",
   "metadata": {},
   "source": [
    "# 最短无序连续子数组\n",
    "\n",
    "## [题目](https://leetcode.cn/problems/shortest-unsorted-continuous-subarray/description/)\n",
    "\n",
    "- 给你一个整数数组 nums ，你需要找出一个 连续子数组 ，如果对这个子数组进行升序排序，那么整个数组都会变为升序排序。\n",
    "\n",
    "- 请你找出符合题意的 最短 子数组，并输出它的长度。\n",
    "\n",
    "- 示例1：\n",
    "```C++\n",
    "输入：nums = [2,6,4,8,10,9,15]\n",
    "输出：5\n",
    "解释：你只需要对 [6, 4, 8, 10, 9] 进行升序排序，那么整个表都会变为升序排序。\n",
    "```\n",
    "\n",
    "- 示例2：\n",
    "```C++\n",
    "输入：nums = [1,2,3,4]\n",
    "输出：0\n",
    "```\n",
    "\n",
    "- 示例3：\n",
    "```C++\n",
    "输入：nums = [1]\n",
    "输出：0\n",
    "```\n",
    "\n",
    "- 提示：\n",
    "    - 1 <= nums.length <= 104\n",
    "    - -105 <= nums[i] <= 105\n",
    "    \n",
    "- 进阶：\n",
    "    - 你可以设计一个时间复杂度为 O(n) 的解决方案吗？"
   ]
  },
  {
   "cell_type": "code",
   "execution_count": null,
   "id": "476bbb45",
   "metadata": {},
   "outputs": [],
   "source": [
    "class Solution {\n",
    "public:\n",
    "    int findUnsortedSubarray(vector<int>& nums) {\n",
    "        // 如果原数组本身就是升序，就直接返回 0\n",
    "        if (is_sorted(nums.begin(), nums.end())) return 0;\n",
    "        \n",
    "        // 拷贝一份数组\n",
    "        vector<int> numsSorted(nums);\n",
    "        \n",
    "        // 对拷贝的数组进行排序\n",
    "        sort(numsSorted.begin(), numsSorted.end());\n",
    "        \n",
    "        // 对原数组和排序后的数组进行对比，获取边界\n",
    "        int left = 0, right = nums.size() - 1; \n",
    "        while(nums[left] == numsSorted[left]) left++;\n",
    "        while(nums[right] == numsSorted[right]) right--;\n",
    "        return right - left + 1;\n",
    "    }\n",
    "};"
   ]
  }
 ],
 "metadata": {
  "kernelspec": {
   "display_name": "Python 3 (ipykernel)",
   "language": "python",
   "name": "python3"
  },
  "language_info": {
   "codemirror_mode": {
    "name": "ipython",
    "version": 3
   },
   "file_extension": ".py",
   "mimetype": "text/x-python",
   "name": "python",
   "nbconvert_exporter": "python",
   "pygments_lexer": "ipython3",
   "version": "3.9.13"
  }
 },
 "nbformat": 4,
 "nbformat_minor": 5
}
