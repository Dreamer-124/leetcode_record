{
 "cells": [
  {
   "cell_type": "markdown",
   "id": "08bb5478-902b-426b-8d5c-95c4486acabb",
   "metadata": {},
   "source": [
    "# 区间和\n",
    "## [题目](https://kamacoder.com/problempage.php?pid=1070)\n",
    "- 给定一个整数数组 Array，请计算该数组在每个指定区间内元素的总和\n",
    "\n",
    "- 输入描述\n",
    "    - 第一行输入为整数数组 Array 的长度 n，接下来 n 行，每行一个整数，表示数组的元素。随后的输入为需要计算总和的区间，直至文件结束。\n",
    "\n",
    "- 输出描述\n",
    "    - 输出每个指定区间内元素的总和。\n",
    "\n",
    "- 输入示例：\n",
    "```C++\n",
    "5\n",
    "1\n",
    "2\n",
    "3\n",
    "4\n",
    "5\n",
    "0 1\n",
    "1 3\n",
    "```\n",
    "\n",
    "- 输出示例\n",
    "```C++\n",
    "3\n",
    "9\n",
    "```\n",
    "\n",
    "- 数值范围\n",
    "    - 0 < n <= 100000"
   ]
  },
  {
   "cell_type": "markdown",
   "id": "9203c460-edda-449e-b421-0792439dbbde",
   "metadata": {},
   "source": [
    "## 代码示例\n",
    "- 暴力解法：直接把区间内所有的和都累加一遍\n",
    "    - 时间复杂度：$O(n*m)m$\n",
    "- 前缀和：重复利用计算过的子数组之和，从而降低区间查询需要累加计算的次数\n",
    "    - 前缀和在涉及计算区间和的问题时非常有用\n",
    "    - 特别注意：在使用前缀和求解的时候，要特别注意求解区间\n",
    "    - C++ 代码 面对大量数据 读取 输出操作，最好用scanf 和 printf，耗时会小很多"
   ]
  },
  {
   "cell_type": "code",
   "execution_count": null,
   "id": "7b284da4-f9ac-48f7-960f-36cc56bd5d9d",
   "metadata": {},
   "outputs": [],
   "source": [
    "#include<iostream>\n",
    "#include<vector>\n",
    "\n",
    "using namespace std;\n",
    "\n",
    "int main(){\n",
    "    int n;\n",
    "    int psum = 0;\n",
    "    int a, b;\n",
    "    cin >> n;\n",
    "    vector<int> number(n);\n",
    "    vector<int> p(n);\n",
    "    \n",
    "    // 在输入的时候就求出该数组的前缀和\n",
    "    for (int i = 0; i < n; i++) {\n",
    "        /* code */\n",
    "        scanf(\"%d\", &number[i]);\n",
    "        psum += number[i];\n",
    "        p[i] = psum;\n",
    "    }\n",
    "    \n",
    "    // 求指定区间的和\n",
    "    while(~scanf(\"%d%d\", &a, &b)){\n",
    "        int sum;\n",
    "        if(a == 0)\n",
    "        {\n",
    "            sum = p[b];\n",
    "        }\n",
    "        else\n",
    "        {\n",
    "            sum = p[b] - p[a - 1];\n",
    "        }\n",
    "        printf(\"%d\\n\", sum);\n",
    "    }\n",
    "    \n",
    "}"
   ]
  }
 ],
 "metadata": {
  "kernelspec": {
   "display_name": "C++17",
   "language": "C++17",
   "name": "xcpp17"
  },
  "language_info": {
   "codemirror_mode": "text/x-c++src",
   "file_extension": ".cpp",
   "mimetype": "text/x-c++src",
   "name": "c++",
   "version": "17"
  }
 },
 "nbformat": 4,
 "nbformat_minor": 5
}
