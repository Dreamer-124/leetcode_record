{
 "cells": [
  {
   "cell_type": "markdown",
   "id": "8bff3561",
   "metadata": {},
   "source": [
    "# 在排序数组中查找元素的第一个和最后一个位置\n",
    "## [题目](https://leetcode.cn/problems/merge-intervals/description/)\n",
    "\n",
    "- 给你一个按照非递减顺序排列的整数数组 nums，和一个目标值 target。请你找出给定目标值在数组中的开始位置和结束位置。\n",
    "\n",
    "- 如果数组中不存在目标值 target，返回 [-1, -1]。\n",
    "\n",
    "- 你必须设计并实现时间复杂度为 O(log n) 的算法解决此问题。\n",
    "\n",
    "- 示例1：\n",
    "```C++\n",
    "输入：nums = [5,7,7,8,8,10], target = 8\n",
    "输出：[3,4]\n",
    "```\n",
    "- 示例2：\n",
    "```C++\n",
    "输入：nums = [5,7,7,8,8,10], target = 6\n",
    "输出：[-1,-1]\n",
    "```\n",
    "\n",
    "- 示例3：\n",
    "```C++\n",
    "输入：nums = [], target = 0\n",
    "输出：[-1,-1]\n",
    "```\n",
    "\n",
    "- 提示：\n",
    "    - 0 <= nums.length <= 105\n",
    "    - -109 <= nums[i] <= 109\n",
    "    - nums 是一个非递减数组\n",
    "    - -109 <= target <= 109"
   ]
  },
  {
   "cell_type": "markdown",
   "id": "0bf23f0e",
   "metadata": {},
   "source": [
    "## 代码示例\n",
    "- 二分查找\n",
    "    - 先找到元素，然后以元素为中心进行范围拓展\n",
    "    - 时间复杂度：$0(logn)$\n",
    "    - 空间复杂度：$O(1)$"
   ]
  },
  {
   "cell_type": "code",
   "execution_count": null,
   "id": "ba417f52",
   "metadata": {},
   "outputs": [],
   "source": [
    "class Solution {\n",
    "public:\n",
    "    vector<int> searchRange(vector<int>& nums, int target) {\n",
    "        // 先利用二分查找找到目标值的下标，然后向左向右扩展，找到目标值的范围\n",
    "        int left = 0, right = nums.size() - 1;\n",
    "        vector<int> ans(2, 0);\n",
    "        ans[0] = -1;\n",
    "        ans[1] = -1;\n",
    "        while(left <= right) {\n",
    "            int middle = left + ((right - left) / 2);\n",
    "            cout << middle << endl;\n",
    "            if (nums[middle] < target) {\n",
    "                left = middle + 1;\n",
    "            }\n",
    "            else if (nums[middle] > target) {\n",
    "                right = middle - 1;\n",
    "            }\n",
    "            else if (nums[middle] == target) {\n",
    "                // 找到目标值的下标，并向左向右扩展\n",
    "                int begin = middle, end = middle;\n",
    "                while(begin >= 0) {\n",
    "                    if (nums[begin] == target) begin--;\n",
    "                    else break;\n",
    "                }\n",
    "                ans[0] = ++begin;\n",
    "                while(end <= nums.size() - 1) {\n",
    "                    if (nums[end] == target) end++;\n",
    "                    else break;\n",
    "                }\n",
    "                ans[1] = --end;\n",
    "                break;\n",
    "            }\n",
    "        }\n",
    "        return ans;  // 返回结果\n",
    "    }\n",
    "};"
   ]
  }
 ],
 "metadata": {
  "kernelspec": {
   "display_name": "Python 3 (ipykernel)",
   "language": "python",
   "name": "python3"
  },
  "language_info": {
   "codemirror_mode": {
    "name": "ipython",
    "version": 3
   },
   "file_extension": ".py",
   "mimetype": "text/x-python",
   "name": "python",
   "nbconvert_exporter": "python",
   "pygments_lexer": "ipython3",
   "version": "3.9.13"
  }
 },
 "nbformat": 4,
 "nbformat_minor": 5
}
