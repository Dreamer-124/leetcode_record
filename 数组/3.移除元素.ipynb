{
 "cells": [
  {
   "cell_type": "markdown",
   "id": "24fdeda8-5026-4772-934c-6eb9205c2555",
   "metadata": {},
   "source": [
    "# 移除元素\n",
    "## [题目](https://leetcode.cn/problems/remove-element/description/)\n",
    "- 给你一个数组 nums 和一个值 val，你需要 原地 移除所有数值等于 val 的元素，并返回移除后数组的新长度。不要使用额外的数组空间，你必须仅使用 O(1) 额外空间并原地修改输入数组。元素的顺序可以改变。你不需要考虑数组中超出新长度后面的元素。\n",
    "\n",
    "- 示例 1:\n",
    "```C++\n",
    "给定 nums = [3,2,2,3], val = 3, 函数应该返回新的长度 2, 并且 nums 中的前两个元素均为 2。 你不需要考虑数组中超出新长度后面的元素。\n",
    "```\n",
    "\n",
    "- 示例 2:\n",
    "```C++\n",
    "给定 nums = [0,1,2,2,3,0,4,2], val = 2, 函数应该返回新的长度 5, 并且 nums 中的前五个元素为 0, 1, 3, 0, 4。\n",
    "```\n",
    "\n",
    "- 提示：\n",
    "    - 你不需要考虑数组中超出新长度后面的元素"
   ]
  },
  {
   "cell_type": "markdown",
   "id": "2b2ad9bb-4564-42cd-81a2-ba87d5ff3950",
   "metadata": {},
   "source": [
    "## 视频课笔记\n",
    "- 库函数的使用：\n",
    "    - 如果当前问题使用库函数就可以直接解决，请不要使用\n",
    "    - 如果库函数只是解决你当前问题中的一小部分，并且你知道这个库函数的内部实现及其复杂度，那可以放心使用\n",
    "- 双指针法（快慢指针法）：通过一个快指针和慢指针在一个 for 循环下完成两个 for 循环的工作\n",
    "    - 双指针（快慢指针法）在数组和链表的操作中是非常常见的，很多考察数组、链表、字符串等操作的面试题，都使用双指针"
   ]
  },
  {
   "cell_type": "markdown",
   "id": "1f1462db-472e-4157-b0b2-91344b3dbcac",
   "metadata": {},
   "source": [
    "## 代码示例：\n",
    "- 暴力解法：两层for循环，一个for循环遍历数组元素 ，第二个for循环更新数组\n",
    "    - 时间复杂度：$O(n^2)$\n",
    "    - 空间复杂度：$O(1)$"
   ]
  },
  {
   "cell_type": "code",
   "execution_count": null,
   "id": "d4afb494-a94c-4535-b4eb-8a43b1eb6287",
   "metadata": {},
   "outputs": [],
   "source": [
    "class Solution {\n",
    "public:\n",
    "    int removeElement(vector<int>& nums, int val) {\n",
    "        int size = nums.size();\n",
    "        for (int i = 0; i < size; i++) {\n",
    "            if (nums[i] == val) { // 发现需要移除的元素，就将数组集体向前移动一位\n",
    "                for (int j = i + 1; j < size; j++) {\n",
    "                    nums[j - 1] = nums[j];\n",
    "                }\n",
    "                i--; // 因为下标i以后的数值都向前移动了一位，所以i也向前移动一位\n",
    "                size--; // 此时数组的大小-1\n",
    "            }\n",
    "        }\n",
    "        return size;\n",
    "\n",
    "    }\n",
    "};"
   ]
  },
  {
   "cell_type": "markdown",
   "id": "0179400f-d850-4d05-91b6-a35f500a7d2c",
   "metadata": {},
   "source": [
    "- 双指针法（快慢指针法）：\n",
    "    - 时间复杂度：$O(n)$\n",
    "    - 空间复杂度：$O(1)$"
   ]
  },
  {
   "cell_type": "code",
   "execution_count": null,
   "id": "a8b2741e-3b51-4cd3-ac6b-794e902135c4",
   "metadata": {},
   "outputs": [],
   "source": [
    "class Solution {\n",
    "public:\n",
    "    int removeElement(vector<int>& nums, int val) {\n",
    "        int slowIndex = 0;\n",
    "        for (int fastIndex = 0; fastIndex < nums.size(); fastIndex++) {\n",
    "            if (val != nums[fastIndex]) {\n",
    "                nums[slowIndex++] = nums[fastIndex];\n",
    "            }\n",
    "        }\n",
    "        return slowIndex;\n",
    "    }\n",
    "};"
   ]
  }
 ],
 "metadata": {
  "kernelspec": {
   "display_name": "C++17",
   "language": "C++17",
   "name": "xcpp17"
  },
  "language_info": {
   "codemirror_mode": "text/x-c++src",
   "file_extension": ".cpp",
   "mimetype": "text/x-c++src",
   "name": "c++",
   "version": "17"
  }
 },
 "nbformat": 4,
 "nbformat_minor": 5
}
