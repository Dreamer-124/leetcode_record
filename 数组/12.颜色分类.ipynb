{
 "cells": [
  {
   "cell_type": "markdown",
   "id": "ee5d518d",
   "metadata": {},
   "source": [
    "# 颜色分类\n",
    "\n",
    "## [题目](https://leetcode.cn/problems/sort-colors/description/)\n",
    "\n",
    "- 给定一个包含红色、白色和蓝色、共 n 个元素的数组 nums ，原地 对它们进行排序，使得相同颜色的元素相邻，并按照红色、白色、蓝色顺序排列。\n",
    "\n",
    "- 我们使用整数 0、 1 和 2 分别表示红色、白色和蓝色。\n",
    "\n",
    "- 必须在不使用库内置的 sort 函数的情况下解决这个问题。\n",
    "\n",
    "- 示例1：\n",
    "```C++\n",
    "输入：nums = [2,0,2,1,1,0]\n",
    "输出：[0,0,1,1,2,2]\n",
    "```\n",
    "\n",
    "- 示例2：\n",
    "```C++\n",
    "输入：nums = [2,0,1]\n",
    "输出：[0,1,2]\n",
    "```\n",
    "\n",
    "- 提示：\n",
    "    - n == nums.length\n",
    "    - 1 <= n <= 300\n",
    "    - nums[i] 为 0、1 或 2\n",
    "    \n",
    "- 进阶：\n",
    "    - 你能想出一个仅使用常数空间的一趟扫描算法吗？"
   ]
  },
  {
   "cell_type": "markdown",
   "id": "f4852eef",
   "metadata": {},
   "source": [
    "## 代码示例\n",
    "- 单指针\n",
    "    - 第一次扫描先将 0 交换到数组前面的部分\n",
    "    - 第二次扫描将 1 交换到数组的 0 之后，此时 2 也到了数组的最后面\n",
    "    - 时间复杂度：$O(n)$\n",
    "    - 空间复杂度：$O(1)$"
   ]
  },
  {
   "cell_type": "code",
   "execution_count": null,
   "id": "71ded0ae",
   "metadata": {},
   "outputs": [],
   "source": [
    "class Solution {\n",
    "public:\n",
    "    void sortColors(vector<int>& nums) {\n",
    "        // 获取元素初始值\n",
    "        int n = nums.size();\n",
    "        int ptr = 0;\n",
    "\n",
    "        // 遍历数组，交换元素 0\n",
    "        for (int i = 0; i < nums.size(); i++) {\n",
    "            if (nums[i] == 0) {\n",
    "                swap(nums[i], nums[ptr]);\n",
    "                ptr++;\n",
    "            }\n",
    "        }\n",
    "\n",
    "        // 遍历数组，交换元素 1\n",
    "        for (int i = 0; i < nums.size(); i++) {\n",
    "            if (nums[i] == 1) {\n",
    "                swap(nums[i], nums[ptr]);\n",
    "                ptr++;\n",
    "            }\n",
    "        }\n",
    "    }\n",
    "};"
   ]
  }
 ],
 "metadata": {
  "kernelspec": {
   "display_name": "Python 3 (ipykernel)",
   "language": "python",
   "name": "python3"
  },
  "language_info": {
   "codemirror_mode": {
    "name": "ipython",
    "version": 3
   },
   "file_extension": ".py",
   "mimetype": "text/x-python",
   "name": "python",
   "nbconvert_exporter": "python",
   "pygments_lexer": "ipython3",
   "version": "3.9.13"
  }
 },
 "nbformat": 4,
 "nbformat_minor": 5
}
