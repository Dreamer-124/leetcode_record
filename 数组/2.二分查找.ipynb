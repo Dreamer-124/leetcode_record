{
 "cells": [
  {
   "cell_type": "markdown",
   "id": "6ff9f996-7ad4-43a1-b22b-27435ddb7018",
   "metadata": {},
   "source": [
    "# 二分查找\n",
    "## [题目](https://leetcode.cn/problems/binary-search/description/)\n",
    "- **给定一个 n 个元素有序的（升序）整型数组 nums 和一个目标值 target，写一个函数搜索 nums 中的 target，如果目标值存在返回下标，否则返回 -1**\n",
    "\n",
    "- **示例1：**\n",
    "```C++\n",
    "输入：nums = [-1,0,3,5,9,12], target = 9     \n",
    "输出: 4       \n",
    "解释: 9 出现在 nums 中并且下标为 4     \n",
    "```\n",
    "- **示例2：**\n",
    "```C++\n",
    "输入: nums = [-1,0,3,5,9,12], target = 2     \n",
    "输出: -1        \n",
    "解释: 2 不存在 nums 中因此返回 -1      \n",
    "```\n",
    "- **提示：**\n",
    "    - **你可以假设 nums 中的所有元素是不重复的。**\n",
    "    - **n 将在 [1, 10000]之间。**\n",
    "    - **nums 的每个元素都将在 [-9999, 9999]之间。**"
   ]
  },
  {
   "cell_type": "markdown",
   "id": "4727c773-a967-492f-8e89-b99d0c9d794b",
   "metadata": {},
   "source": [
    "## 代码示例\n",
    "- **二分法的第一种写法（主要写法）：定义 target 在一个左闭右闭的区间 [left, right] 里面（要对二分法中的区间定义理解的十分清楚）**\n",
    "- **时间复杂度：$O(\\log n)$**\n",
    "- **空间复杂度：$O(1)$**"
   ]
  },
  {
   "cell_type": "code",
   "execution_count": null,
   "id": "02cd0d7f-47a7-4b11-93f6-34d11a38bd29",
   "metadata": {},
   "outputs": [],
   "source": [
    "class Solution {\n",
    "public:\n",
    "    int search(vector<int>& nums, int target) {\n",
    "        int left = 0;\n",
    "        int right = nums.size() - 1; // 定义target在左闭右闭的区间里，[left, right]\n",
    "        while (left <= right) { // 当left==right，区间[left, right]依然有效，所以用 <=\n",
    "            int middle = left + ((right - left) / 2);// 防止溢出 等同于(left + right)/2\n",
    "            if (nums[middle] > target) {\n",
    "                right = middle - 1; // target 在左区间，所以[left, middle - 1]\n",
    "            } else if (nums[middle] < target) {\n",
    "                left = middle + 1; // target 在右区间，所以[middle + 1, right]\n",
    "            } else { // nums[middle] == target\n",
    "                return middle; // 数组中找到目标值，直接返回下标\n",
    "            }\n",
    "        }\n",
    "        // 未找到目标值\n",
    "        return -1;\n",
    "    }\n",
    "};"
   ]
  },
  {
   "cell_type": "markdown",
   "id": "948c7051-9458-42dc-8dea-c9a2e3be343f",
   "metadata": {},
   "source": [
    "- **二分法的第二种写法（辅助写法）：定义 target 在一个左闭右开的区间 [left, right) 里面**\n",
    "- **时间复杂度：$O(\\log n)$**\n",
    "- **空间复杂度：$O(1)$**"
   ]
  },
  {
   "cell_type": "code",
   "execution_count": null,
   "id": "444e6ebd-757d-4439-aadf-d9e3bda6abc1",
   "metadata": {},
   "outputs": [],
   "source": [
    "// 版本二\n",
    "class Solution {\n",
    "public:\n",
    "    int search(vector<int>& nums, int target) {\n",
    "        int left = 0;\n",
    "        int right = nums.size(); // 定义target在左闭右开的区间里，即：[left, right)\n",
    "        while (left < right) { // 因为left == right的时候，在[left, right)是无效的空间，所以使用 <\n",
    "            int middle = left + ((right - left) >> 1);\n",
    "            if (nums[middle] > target) {\n",
    "                right = middle; // target 在左区间，在[left, middle)中\n",
    "            } else if (nums[middle] < target) {\n",
    "                left = middle + 1; // target 在右区间，在[middle + 1, right)中\n",
    "            } else { // nums[middle] == target\n",
    "                return middle; // 数组中找到目标值，直接返回下标\n",
    "            }\n",
    "        }\n",
    "        // 未找到目标值\n",
    "        return -1;\n",
    "    }\n",
    "};"
   ]
  }
 ],
 "metadata": {
  "kernelspec": {
   "display_name": "C++17",
   "language": "C++17",
   "name": "xcpp17"
  },
  "language_info": {
   "codemirror_mode": "text/x-c++src",
   "file_extension": ".cpp",
   "mimetype": "text/x-c++src",
   "name": "c++",
   "version": "17"
  }
 },
 "nbformat": 4,
 "nbformat_minor": 5
}
