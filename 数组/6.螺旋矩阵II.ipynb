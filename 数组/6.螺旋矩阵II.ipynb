{
 "cells": [
  {
   "cell_type": "markdown",
   "id": "d2d1d0df-95d0-4dad-9229-04d2301c193c",
   "metadata": {},
   "source": [
    "# 螺旋矩阵II\n",
    "## [题目](https://leetcode.cn/problems/spiral-matrix-ii/description/)\n",
    "- 给定一个正整数 n，生成一个包含 1 到 n^2 所有元素，且元素按顺时针顺序螺旋排列的正方形矩阵\n",
    "\n",
    "- 示例1：\n",
    "```C++\n",
    "输入: 3 \n",
    "输出: [ [ 1, 2, 3 ], [ 8, 9, 4 ], [ 7, 6, 5 ] ]\n",
    "```\n",
    "\n",
    "- 示例1：\n",
    "```C++\n",
    "输入：n = 1\n",
    "输出：[[1]]\n",
    "```\n",
    "\n",
    "- 提示：\n",
    "    - 1 <= n <= 20"
   ]
  },
  {
   "cell_type": "markdown",
   "id": "dbe8c29c-2d31-4165-ba1c-75a41936b7a0",
   "metadata": {},
   "source": [
    "## 视频课笔记\n",
    "- 一定要坚持循环不变量原则，因为在处理很多的边界条件的时候，如果不按照固定规则来遍历，就会很容易出错\n",
    "- 本题不涉及什么算法，就是模拟过程，但是十分考察对代码的掌控能力\n",
    "\n",
    "## 代码示例\n",
    "- 模拟过程\n",
    "    - 时间复杂度：$O(n^2)$\n",
    "    - 空间复杂度：$O(1)$"
   ]
  },
  {
   "cell_type": "code",
   "execution_count": null,
   "id": "1dcdc7d4-fbb2-4093-91ad-c6f5a93da5e1",
   "metadata": {},
   "outputs": [],
   "source": [
    "class Solution {\n",
    "public:\n",
    "    vector<vector<int>> generateMatrix(int n) {\n",
    "        vector<vector<int>> res(n, vector<int>(n, 0)); // 使用vector定义一个二维数组\n",
    "        int startx = 0, starty = 0; // 定义每循环一个圈的起始位置\n",
    "        int loop = n / 2; // 每个圈循环几次，例如n为奇数3，那么loop = 1 只是循环一圈，矩阵中间的值需要单独处理\n",
    "        int mid = n / 2; // 矩阵中间的位置，例如：n为3， 中间的位置就是(1，1)，n为5，中间位置为(2, 2)\n",
    "        int count = 1; // 用来给矩阵中每一个空格赋值\n",
    "        int offset = 1; // 需要控制每一条边遍历的长度，每次循环右边界收缩一位\n",
    "        int i,j;\n",
    "        while (loop --) {\n",
    "            i = startx;\n",
    "            j = starty;\n",
    "\n",
    "            // 下面开始的四个for就是模拟转了一圈\n",
    "            // 模拟填充上行从左到右(左闭右开)\n",
    "            for (j; j < n - offset; j++) {\n",
    "                res[i][j] = count++;\n",
    "            }\n",
    "            // 模拟填充右列从上到下(左闭右开)\n",
    "            for (i; i < n - offset; i++) {\n",
    "                res[i][j] = count++;\n",
    "            }\n",
    "            // 模拟填充下行从右到左(左闭右开)\n",
    "            for (; j > starty; j--) {\n",
    "                res[i][j] = count++;\n",
    "            }\n",
    "            // 模拟填充左列从下到上(左闭右开)\n",
    "            for (; i > startx; i--) {\n",
    "                res[i][j] = count++;\n",
    "            }\n",
    "\n",
    "            // 第二圈开始的时候，起始位置要各自加1， 例如：第一圈起始位置是(0, 0)，第二圈起始位置是(1, 1)\n",
    "            startx++;\n",
    "            starty++;\n",
    "\n",
    "            // offset 控制每一圈里每一条边遍历的长度\n",
    "            offset += 1;\n",
    "        }\n",
    "\n",
    "        // 如果n为奇数的话，需要单独给矩阵最中间的位置赋值\n",
    "        if (n % 2) {\n",
    "            res[mid][mid] = count;\n",
    "        }\n",
    "        return res;\n",
    "    }\n",
    "};"
   ]
  }
 ],
 "metadata": {
  "kernelspec": {
   "display_name": "C++17",
   "language": "C++17",
   "name": "xcpp17"
  },
  "language_info": {
   "codemirror_mode": "text/x-c++src",
   "file_extension": ".cpp",
   "mimetype": "text/x-c++src",
   "name": "c++",
   "version": "17"
  }
 },
 "nbformat": 4,
 "nbformat_minor": 5
}
