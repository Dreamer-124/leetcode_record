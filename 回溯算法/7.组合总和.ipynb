{
 "cells": [
  {
   "cell_type": "markdown",
   "id": "2e3f79b1",
   "metadata": {},
   "source": [
    "# 组合总和\n",
    "\n",
    "## [题目](https://leetcode.cn/problems/combination-sum/description/)\n",
    "\n",
    "- 给定一个无重复元素的数组 candidates 和一个目标数 target ，找出 candidates 中所有可以使数字和为 target 的组合。\n",
    "\n",
    "- candidates 中的数字可以无限制重复被选取。\n",
    "\n",
    "- 示例1：\n",
    "```C++\n",
    "输入：candidates = [2,3,6,7], target = 7,\n",
    "所求解集为： [ [7], [2,2,3] ]\n",
    "```\n",
    "\n",
    "- 示例2：\n",
    "```C++\n",
    "输入：candidates = [2,3,6,7], target = 7,\n",
    "所求解集为： [ [7], [2,2,3] ]\n",
    "```\n",
    "\n",
    "- 说明：\n",
    "    - 所有数字（包括 target）都是正整数。\n",
    "    - 解集不能包含重复的组合。"
   ]
  },
  {
   "cell_type": "markdown",
   "id": "8c0adb27",
   "metadata": {},
   "source": [
    "## 代码示例\n",
    "- 使用深度优先搜索进行遍历实现回溯解法\n",
    "    - 时间复杂度：$O(S)$\n",
    "    - 空间复杂度：$O(target)$"
   ]
  },
  {
   "cell_type": "code",
   "execution_count": null,
   "id": "bc4f6006",
   "metadata": {},
   "outputs": [],
   "source": [
    "class Solution {\n",
    "public:\n",
    "    void dfs(\n",
    "        vector<int>& candidates, \n",
    "        int target, \n",
    "        vector<vector<int>>& ans,\n",
    "        vector<int>& combine,\n",
    "        int idx\n",
    "    ) {\n",
    "        if (idx == candidates.size()) return ;\n",
    "        if (target == 0) {\n",
    "            ans.emplace_back(combine);\n",
    "            return ;\n",
    "        }\n",
    "        // 直接跳过\n",
    "        dfs(candidates, target, ans, combine, idx + 1);\n",
    "        // 选择当前数\n",
    "        if (target - candidates[idx] >= 0) {\n",
    "            combine.emplace_back(candidates[idx]);\n",
    "            dfs(candidates, target - candidates[idx], ans, combine, idx);\n",
    "            combine.pop_back();\n",
    "        }\n",
    "    }\n",
    "\n",
    "    vector<vector<int>> combinationSum(vector<int>& candidates, int target) {\n",
    "        vector<vector<int>> ans;\n",
    "        vector<int> combine;\n",
    "        dfs(candidates, target, ans, combine, 0);\n",
    "        return ans;\n",
    "    }\n",
    "};"
   ]
  }
 ],
 "metadata": {
  "kernelspec": {
   "display_name": "Python 3 (ipykernel)",
   "language": "python",
   "name": "python3"
  },
  "language_info": {
   "codemirror_mode": {
    "name": "ipython",
    "version": 3
   },
   "file_extension": ".py",
   "mimetype": "text/x-python",
   "name": "python",
   "nbconvert_exporter": "python",
   "pygments_lexer": "ipython3",
   "version": "3.9.13"
  }
 },
 "nbformat": 4,
 "nbformat_minor": 5
}
