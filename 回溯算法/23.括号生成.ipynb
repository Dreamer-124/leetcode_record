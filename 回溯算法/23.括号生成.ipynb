{
 "cells": [
  {
   "cell_type": "markdown",
   "id": "0919efe2",
   "metadata": {},
   "source": [
    "# 括号生成\n",
    "\n",
    "## [题目](https://leetcode.cn/problems/generate-parentheses/description/)\n",
    "\n",
    "- 数字 n 代表生成括号的对数，请你设计一个函数，用于能够生成所有可能的并且 有效的 括号组合。\n",
    "\n",
    "- 示例1：\n",
    "```C++\n",
    "输入：n = 3\n",
    "输出：[\"((()))\",\"(()())\",\"(())()\",\"()(())\",\"()()()\"]\n",
    "```\n",
    "\n",
    "- 示例2：\n",
    "```C++\n",
    "输入：n = 1\n",
    "输出：[\"()\"]\n",
    "```"
   ]
  },
  {
   "cell_type": "markdown",
   "id": "53b67424",
   "metadata": {},
   "source": [
    "## 代码示例\n",
    "- 回溯法\n",
    "    - 时间复杂度：$O(n)$\n",
    "    - 空间复杂度：$O(n)$"
   ]
  },
  {
   "cell_type": "code",
   "execution_count": null,
   "id": "d4e04326",
   "metadata": {},
   "outputs": [],
   "source": [
    "class Solution {\n",
    "public:\n",
    "    vector<string> generateParenthesis(int n) {\n",
    "        vector<string> result;\n",
    "        string tmp;\n",
    "        backtracking(n, result, tmp, 0, 0);\n",
    "        return result;\n",
    "    }\n",
    "\n",
    "    void backtracking(int n, vector<string>& result, string& tmp, int left, int right) {\n",
    "        if (left == n && right == n) result.push_back(tmp);\n",
    "        if (left < n) {\n",
    "            tmp.push_back('(');\n",
    "            backtracking(n, result, tmp, left + 1, right);\n",
    "            tmp.pop_back();\n",
    "        }\n",
    "        if (right < left) {\n",
    "            tmp.push_back(')');\n",
    "            backtracking(n, result, tmp, left, right + 1);\n",
    "            tmp.pop_back();\n",
    "        }\n",
    "    }\n",
    "};"
   ]
  }
 ],
 "metadata": {
  "kernelspec": {
   "display_name": "Python 3 (ipykernel)",
   "language": "python",
   "name": "python3"
  },
  "language_info": {
   "codemirror_mode": {
    "name": "ipython",
    "version": 3
   },
   "file_extension": ".py",
   "mimetype": "text/x-python",
   "name": "python",
   "nbconvert_exporter": "python",
   "pygments_lexer": "ipython3",
   "version": "3.9.13"
  }
 },
 "nbformat": 4,
 "nbformat_minor": 5
}
