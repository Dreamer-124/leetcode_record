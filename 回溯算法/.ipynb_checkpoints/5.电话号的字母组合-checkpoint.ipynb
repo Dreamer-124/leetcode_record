{
 "cells": [
  {
   "cell_type": "markdown",
   "id": "8881e357",
   "metadata": {},
   "source": [
    "# 5. 电话号的字母组合\n",
    "\n",
    "## [题目](https://leetcode.cn/problems/letter-combinations-of-a-phone-number/description/)"
   ]
  }
 ],
 "metadata": {
  "kernelspec": {
   "display_name": "Python 3 (ipykernel)",
   "language": "python",
   "name": "python3"
  },
  "language_info": {
   "codemirror_mode": {
    "name": "ipython",
    "version": 3
   },
   "file_extension": ".py",
   "mimetype": "text/x-python",
   "name": "python",
   "nbconvert_exporter": "python",
   "pygments_lexer": "ipython3",
   "version": "3.9.13"
  }
 },
 "nbformat": 4,
 "nbformat_minor": 5
}
