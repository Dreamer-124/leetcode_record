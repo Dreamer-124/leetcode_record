{
 "cells": [
  {
   "cell_type": "markdown",
   "id": "db600b44",
   "metadata": {},
   "source": [
    "# 5. 电话号的字母组合\n",
    "\n",
    "## [题目](https://leetcode.cn/problems/letter-combinations-of-a-phone-number/description/)\n",
    "\n",
    "- 给定一个仅包含数字 2-9 的字符串，返回所有它能表示的字母组合。\n",
    "\n",
    "- 给出数字到字母的映射如下（与电话按键相同）。注意 1 不对应任何字母。\n",
    "\n",
    "- 示例1：\n",
    "```C++\n",
    "输入：\"23\"\n",
    "输出：[\"ad\", \"ae\", \"af\", \"bd\", \"be\", \"bf\", \"cd\", \"ce\", \"cf\"].\n",
    "```\n",
    "\n",
    "<div align=\"center\" style=\"text-align: center;\">\n",
    "    <img src=\"../image/8-5-1.png\" style=\"width: 80%;\">\n",
    "</div> \n",
    "\n",
    "\n",
    "- 说明：尽管上面的答案是按字典序排列的，但是你可以任意选择答案输出的顺序。"
   ]
  },
  {
   "cell_type": "markdown",
   "id": "dd889009",
   "metadata": {},
   "source": [
    "## 代码示例\n",
    "- 求解不同集合之间的组合，所以使用回溯法。\n",
    "- 时间复杂度：$O(3^m4^n)$，其中 $m$ 是对应三个字母的数字个数，$n$ 是对应四个字母的数字个数\n",
    "- 空间复杂度：$O(3^m4^n)$"
   ]
  },
  {
   "cell_type": "code",
   "execution_count": null,
   "id": "b4a63fab",
   "metadata": {},
   "outputs": [],
   "source": [
    "class Solution {\n",
    "private:\n",
    "    const string letterMap[10] = {\n",
    "        \"\", // 0\n",
    "        \"\", // 1\n",
    "        \"abc\", // 2\n",
    "        \"def\", // 3\n",
    "        \"ghi\", // 4\n",
    "        \"jkl\", // 5\n",
    "        \"mno\", // 6\n",
    "        \"pqrs\", // 7\n",
    "        \"tuv\", // 8\n",
    "        \"wxyz\", // 9\n",
    "    };\n",
    "public:\n",
    "    vector<string> result;\n",
    "    string s;\n",
    "    void backtracking(const string& digits, int index) {\n",
    "        if (index == digits.size()) {\n",
    "            result.push_back(s);\n",
    "            return;\n",
    "        }\n",
    "        int digit = digits[index] - '0';        // 将index指向的数字转为int\n",
    "        string letters = letterMap[digit];      // 取数字对应的字符集\n",
    "        for (int i = 0; i < letters.size(); i++) {\n",
    "            s.push_back(letters[i]);            // 处理\n",
    "            backtracking(digits, index + 1);    // 递归，注意index+1，一下层要处理下一个数字了\n",
    "            s.pop_back();                       // 回溯\n",
    "        }\n",
    "    }\n",
    "    vector<string> letterCombinations(string digits) {\n",
    "        s.clear();\n",
    "        result.clear();\n",
    "        if (digits.size() == 0) {\n",
    "            return result;\n",
    "        }\n",
    "        backtracking(digits, 0);\n",
    "        return result;\n",
    "    }\n",
    "};"
   ]
  }
 ],
 "metadata": {
  "kernelspec": {
   "display_name": "Python 3 (ipykernel)",
   "language": "python",
   "name": "python3"
  },
  "language_info": {
   "codemirror_mode": {
    "name": "ipython",
    "version": 3
   },
   "file_extension": ".py",
   "mimetype": "text/x-python",
   "name": "python",
   "nbconvert_exporter": "python",
   "pygments_lexer": "ipython3",
   "version": "3.9.13"
  }
 },
 "nbformat": 4,
 "nbformat_minor": 5
}
