{
 "cells": [
  {
   "cell_type": "markdown",
   "id": "f4b36898",
   "metadata": {},
   "source": [
    "# 5. 全排列\n",
    "\n",
    "## [题目](https://leetcode.cn/problems/permutations/description/)\n",
    "\n",
    "- 给定一个 没有重复 数字的序列，返回其所有可能的全排列。\n",
    "\n",
    "- 示例1：\n",
    "```C++\n",
    "输入: [1,2,3]\n",
    "输出: [ [1,2,3], [1,3,2], [2,1,3], [2,3,1], [3,1,2], [3,2,1] ]\n",
    "```"
   ]
  },
  {
   "cell_type": "markdown",
   "id": "f0b8ffce",
   "metadata": {},
   "source": [
    "## 代码示例\n",
    "- 使用回溯法解决，整体上使用递归实现"
   ]
  },
  {
   "cell_type": "code",
   "execution_count": null,
   "id": "046b035f",
   "metadata": {},
   "outputs": [],
   "source": [
    "class Solution {\n",
    "public:\n",
    "    void backtrack(vector<vector<int>>& res, vector<int>& output, int first, int len) {\n",
    "        if (first == len) {\n",
    "            res.emplace_back(output);\n",
    "            return;\n",
    "        }\n",
    "        for (int i = first; i < len; i++) {\n",
    "            swap(output[i], output[first]);\n",
    "            backtrack(res, output, first + 1, len);\n",
    "            swap(output[i], output[first]);  // 回溯回撤\n",
    "        }\n",
    "    } \n",
    "    vector<vector<int>> permute(vector<int>& nums) {\n",
    "        vector<vector<int>> res;\n",
    "        backtrack(res, nums, 0, nums.size());\n",
    "        return res;\n",
    "    }\n",
    "};"
   ]
  }
 ],
 "metadata": {
  "kernelspec": {
   "display_name": "Python 3 (ipykernel)",
   "language": "python",
   "name": "python3"
  },
  "language_info": {
   "codemirror_mode": {
    "name": "ipython",
    "version": 3
   },
   "file_extension": ".py",
   "mimetype": "text/x-python",
   "name": "python",
   "nbconvert_exporter": "python",
   "pygments_lexer": "ipython3",
   "version": "3.9.13"
  }
 },
 "nbformat": 4,
 "nbformat_minor": 5
}
