{
 "cells": [
  {
   "cell_type": "markdown",
   "id": "9f8d21e8",
   "metadata": {},
   "source": [
    "# 子集\n",
    "\n",
    "## [题目](https://leetcode.cn/problems/subsets/description/)\n",
    "\n",
    "- 给你一个整数数组 nums ，数组中的元素 互不相同 。返回该数组所有可能的子集（幂集）。\n",
    "\n",
    "- 解集 不能 包含重复的子集。你可以按 任意顺序 返回解集。\n",
    "\n",
    "- 示例1：\n",
    "```C++\n",
    "输入：nums = [1,2,3]\n",
    "输出：[[],[1],[2],[1,2],[3],[1,3],[2,3],[1,2,3]]\n",
    "```\n",
    "\n",
    "- 示例2：\n",
    "```C++\n",
    "输入：nums = [0]\n",
    "输出：[[],[0]]\n",
    "```\n",
    "\n",
    "- 提示：\n",
    "    - 1 <= nums.length <= 10\n",
    "    - -10 <= nums[i] <= 10\n",
    "    - nums 中的所有元素 互不相同"
   ]
  },
  {
   "cell_type": "markdown",
   "id": "cf1c3b80",
   "metadata": {},
   "source": [
    "## 代码示例\n",
    "- 回溯\n",
    "    - 时间复杂度：$O(n \\times 2^n)$\n",
    "    - 空间复杂度：$O(n)$"
   ]
  },
  {
   "cell_type": "code",
   "execution_count": null,
   "id": "7d1a7e7b",
   "metadata": {},
   "outputs": [],
   "source": [
    "class Solution {\n",
    "private:\n",
    "    vector<int> t;\n",
    "    vector<vector<int>> ans;\n",
    "\n",
    "    void dfs(int cur, vector<int>& nums) {\n",
    "        if (cur == nums.size()) {\n",
    "            // 记录答案\n",
    "            ans.push_back(t);\n",
    "            return ;\n",
    "        }\n",
    "        // 考虑当前位置\n",
    "        t.push_back(nums[cur]);  \n",
    "        dfs(cur + 1, nums);\n",
    "        t.pop_back();\n",
    "        // 不考虑当前位置\n",
    "        dfs(cur + 1, nums);\n",
    "    }\n",
    "public:\n",
    "    vector<vector<int>> subsets(vector<int>& nums) {\n",
    "        dfs(0, nums);\n",
    "        return ans;\n",
    "    }\n",
    "};"
   ]
  }
 ],
 "metadata": {
  "kernelspec": {
   "display_name": "Python 3 (ipykernel)",
   "language": "python",
   "name": "python3"
  },
  "language_info": {
   "codemirror_mode": {
    "name": "ipython",
    "version": 3
   },
   "file_extension": ".py",
   "mimetype": "text/x-python",
   "name": "python",
   "nbconvert_exporter": "python",
   "pygments_lexer": "ipython3",
   "version": "3.9.13"
  }
 },
 "nbformat": 4,
 "nbformat_minor": 5
}
